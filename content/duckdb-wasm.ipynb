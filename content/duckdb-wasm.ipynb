{
  "metadata": {
    "kernelspec": {
      "name": "xjavascript",
      "display_name": "JavaScript (xjavascript)",
      "language": "javascript"
    },
    "language_info": {
      "codemirror_mode": "",
      "file_extension": "js",
      "mimetype": "text/x-javascript",
      "name": "javascript",
      "nbconvert_exporter": "",
      "pygments_lexer": "",
      "version": "ES6"
    }
  },
  "nbformat_minor": 5,
  "nbformat": 4,
  "cells": [
    {
      "id": "b2ca413d-00c1-4169-9bf7-b84ffb4b259a",
      "cell_type": "code",
      "source": "import * as duckdb from 'https://cdn.jsdelivr.net/npm/@duckdb/duckdb-wasm@1.29.0/+esm';\n\nconst JSDELIVR_BUNDLES = duckdb.getJsDelivrBundles();\n\n// Select a bundle based on browser checks\nconst bundle = await duckdb.selectBundle(JSDELIVR_BUNDLES);\n\nconst worker_url = URL.createObjectURL(\n  new Blob([`importScripts(\"${bundle.mainWorker}\");`], { type: 'text/javascript' })\n);\n\n\nconst worker = new Worker(worker_url);\nconst logger = new duckdb.ConsoleLogger();\nconst db = new duckdb.AsyncDuckDB(logger, worker);\nawait db.instantiate(bundle.mainModule, bundle.pthreadWorker);\nURL.revokeObjectURL(worker_url);",
      "metadata": {
        "trusted": true
      },
      "outputs": [],
      "execution_count": 1
    },
    {
      "id": "3592941e-0789-46d0-a582-f7bb47534c30",
      "cell_type": "code",
      "source": "conn = await db.connect()",
      "metadata": {
        "trusted": true
      },
      "outputs": [],
      "execution_count": 2
    },
    {
      "id": "cd24c440-8ac4-45e2-92dd-2b209168d70e",
      "cell_type": "code",
      "source": "const result = await conn.query(\"SELECT 42 as col\")\n\npprint(result.toArray().map(row => row.toJSON()))",
      "metadata": {
        "trusted": true
      },
      "outputs": [
        {
          "name": "stdout",
          "output_type": "stream",
          "text": "[object Object]\n[\n  {\n    \"col\": 42\n  }\n]\n"
        },
        {
          "execution_count": 3,
          "output_type": "execute_result",
          "data": {},
          "metadata": {}
        }
      ],
      "execution_count": 3
    },
    {
      "id": "bdcdd230-5434-420c-90a1-7e68c3980e41",
      "cell_type": "code",
      "source": "const url = 'https://raw.githubusercontent.com/plotly/datasets/master/2015_flights.parquet';\n\nconst response = await fetch(url);\nif (!response.ok){\n    throw Error(\"Failed to fetch\")\n}\n\nconst buffer = await response.arrayBuffer();\nconst uint8Array = new Uint8Array(buffer);\nawait db.registerFileBuffer('2015_flights.parquet', uint8Array);\n\n\nconst data = await conn.query(`\nSELECT * FROM read_parquet('2015_flights.parquet') LIMIT 1;\n`\n)\n\nconst rows = data.toArray().map(row => {\n  const jsonRow = row.toJSON();\n  for (const key in jsonRow) {\n    if (typeof jsonRow[key] === 'bigint') {\n      jsonRow[key] = jsonRow[key].toString();\n    }\n  }\n  return jsonRow;\n});\n\npprint(rows);",
      "metadata": {
        "trusted": true
      },
      "outputs": [
        {
          "name": "stdout",
          "output_type": "stream",
          "text": "[object Object]\n[\n  {\n    \"DEPARTURE_DELAY\": -11,\n    \"ARRIVAL_DELAY\": -22,\n    \"DISTANCE\": \"1448\",\n    \"SCHEDULED_DEPARTURE\": 0.08333333333333333\n  }\n]\n"
        }
      ],
      "execution_count": 8
    }
  ]
}
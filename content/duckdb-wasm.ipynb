{
  "metadata": {
    "kernelspec": {
      "name": "xjavascript",
      "display_name": "JavaScript (xjavascript)",
      "language": "javascript"
    },
    "language_info": {
      "codemirror_mode": "",
      "file_extension": "js",
      "mimetype": "text/x-javascript",
      "name": "javascript",
      "nbconvert_exporter": "",
      "pygments_lexer": "",
      "version": "ES6"
    }
  },
  "nbformat_minor": 5,
  "nbformat": 4,
  "cells": [
    {
      "id": "b2ca413d-00c1-4169-9bf7-b84ffb4b259a",
      "cell_type": "code",
      "source": "import * as duckdb from 'https://cdn.jsdelivr.net/npm/@duckdb/duckdb-wasm@1.29.0/+esm';\n\nconst JSDELIVR_BUNDLES = duckdb.getJsDelivrBundles();\n\n// Select a bundle based on browser checks\nconst bundle = await duckdb.selectBundle(JSDELIVR_BUNDLES);\n\nconst worker_url = URL.createObjectURL(\n  new Blob([`importScripts(\"${bundle.mainWorker}\");`], { type: 'text/javascript' })\n);\n\n\nconst worker = new Worker(worker_url);\nconst logger = new duckdb.ConsoleLogger();\nconst db = new duckdb.AsyncDuckDB(logger, worker);\nawait db.instantiate(bundle.mainModule, bundle.pthreadWorker);\nURL.revokeObjectURL(worker_url);",
      "metadata": {
        "trusted": true
      },
      "outputs": [],
      "execution_count": 1
    },
    {
      "id": "cd24c440-8ac4-45e2-92dd-2b209168d70e",
      "cell_type": "code",
      "source": "let conn = await db.connect()\n\nconst result = await conn.query(\"SELECT 42 as col\")\n\npprint(result.toArray().map(row => row.toJSON()))\n",
      "metadata": {
        "trusted": true
      },
      "outputs": [
        {
          "name": "stdout",
          "output_type": "stream",
          "text": "[object Object]\n[\n  {\n    \"col\": 42\n  }\n]\n"
        },
        {
          "execution_count": 2,
          "output_type": "execute_result",
          "data": {},
          "metadata": {}
        }
      ],
      "execution_count": 2
    },
    {
      "id": "6b70b2d3-82d5-4b56-a7a9-f38c48db7470",
      "cell_type": "code",
      "source": "const url = 'https://raw.githubusercontent.com/plotly/datasets/master/2015_flights.parquet';\n\nconst response = await fetch(url);\nif (!response.ok){\n    throw Error(\"Failed to fetch\")\n}\n\nconst buffer = await response.arrayBuffer();\nconst uint8Array = new Uint8Array(buffer);\nawait db.registerFileBuffer('2015_flights.parquet', uint8Array);\n\n\nconst data = await conn.query(`\nSELECT * FROM read_parquet('2015_flights.parquet') LIMIT 10;\n`\n)\n\nconst rows = data.toArray().map(row => {\n  const jsonRow = row.toJSON();\n  for (const key in jsonRow) {\n    if (typeof jsonRow[key] === 'bigint') {\n      jsonRow[key] = jsonRow[key].toString();\n    }\n  }\n  return jsonRow;\n});\n\n// ijs.display.json(rows);\nconsole.log(data.toString())",
      "metadata": {
        "trusted": true
      },
      "outputs": [
        {
          "name": "stdout",
          "output_type": "stream",
          "text": "[object Object]\n[\n  {\"DEPARTURE_DELAY\": -11, \"ARRIVAL_DELAY\": -22, \"DISTANCE\": 1448, \"SCHEDULED_DEPARTURE\": 0.08333333333333333},\n  {\"DEPARTURE_DELAY\": -8, \"ARRIVAL_DELAY\": -9, \"DISTANCE\": 2330, \"SCHEDULED_DEPARTURE\": 0.16666666666666666},\n  {\"DEPARTURE_DELAY\": -2, \"ARRIVAL_DELAY\": 5, \"DISTANCE\": 2296, \"SCHEDULED_DEPARTURE\": 0.3333333333333333},\n  {\"DEPARTURE_DELAY\": -5, \"ARRIVAL_DELAY\": -9, \"DISTANCE\": 2342, \"SCHEDULED_DEPARTURE\": 0.3333333333333333},\n  {\"DEPARTURE_DELAY\": -1, \"ARRIVAL_DELAY\": -21, \"DISTANCE\": 1448, \"SCHEDULED_DEPARTURE\": 0.4166666666666667},\n  {\"DEPARTURE_DELAY\": -5, \"ARRIVAL_DELAY\": 8, \"DISTANCE\": 1589, \"SCHEDULED_DEPARTURE\": 0.4166666666666667},\n  {\"DEPARTURE_DELAY\": -6, \"ARRIVAL_DELAY\": -17, \"DISTANCE\": 1299, \"SCHEDULED_DEPARTURE\": 0.4166666666666667},\n  {\"DEPARTURE_DELAY\": 14, \"ARRIVAL_DELAY\": -10, \"DISTANCE\": 2125, \"SCHEDULED_DEPARTURE\": 0.5},\n  {\"DEPARTURE_DELAY\": -11, \"ARRIVAL_DELAY\": -13, \"DISTANCE\": 1464, \"SCHEDULED_DEPARTURE\": 0.5},\n  {\"DEPARTURE_DELAY\": 3, \"ARRIVAL_DELAY\": -15, \"DISTANCE\": 1747, \"SCHEDULED_DEPARTURE\": 0.5}\n]\n"
        },
        {
          "execution_count": 7,
          "output_type": "execute_result",
          "data": {},
          "metadata": {}
        }
      ],
      "execution_count": 7
    }
  ]
}
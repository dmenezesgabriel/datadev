{
  "metadata": {
    "kernelspec": {
      "name": "xpython",
      "display_name": "Python 3.11 (XPython)",
      "language": "python"
    },
    "language_info": {
      "file_extension": ".py",
      "mimetype": "text/x-python",
      "name": "python",
      "version": "3.11.3"
    }
  },
  "nbformat_minor": 5,
  "nbformat": 4,
  "cells": [
    {
      "id": "560a6bd9-72e7-48bd-9923-789152ed25c0",
      "cell_type": "code",
      "source": "%%js\n\nconsole.log(1 + 1)",
      "metadata": {
        "trusted": true
      },
      "outputs": [
        {
          "output_type": "display_data",
          "data": {
            "application/javascript": "\nconsole.log(1 + 1)\n",
            "text/plain": "<IPython.core.display.Javascript object>"
          },
          "metadata": {}
        }
      ],
      "execution_count": 10
    },
    {
      "id": "ccdfbbe4-f76c-43f3-abf1-5f026ecefbc6",
      "cell_type": "code",
      "source": "%%html\n\n<div>Hello</div>",
      "metadata": {
        "trusted": true
      },
      "outputs": [
        {
          "output_type": "display_data",
          "data": {
            "text/html": "\n<div>Hello</div>\n",
            "text/plain": "<IPython.core.display.HTML object>"
          },
          "metadata": {}
        }
      ],
      "execution_count": 11
    }
  ]
}
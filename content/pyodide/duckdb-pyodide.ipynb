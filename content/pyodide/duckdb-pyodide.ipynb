{
  "metadata": {
    "kernelspec": {
      "name": "python",
      "display_name": "Python (Pyodide)",
      "language": "python"
    },
    "language_info": {
      "codemirror_mode": {
        "name": "python",
        "version": 3
      },
      "file_extension": ".py",
      "mimetype": "text/x-python",
      "name": "python",
      "nbconvert_exporter": "python",
      "pygments_lexer": "ipython3",
      "version": "3.8"
    }
  },
  "nbformat_minor": 5,
  "nbformat": 4,
  "cells": [
    {
      "id": "7d2d83d0-5e4b-4119-a213-d458902e2ef9",
      "cell_type": "code",
      "source": "%pip install duckdb\n%pip install pandas\n%pip install magic-duckdb\n%load_ext magic_duckdb",
      "metadata": {
        "trusted": true
      },
      "outputs": [],
      "execution_count": 2
    },
    {
      "id": "31ddf030-989e-45c0-9655-2669c190e64a",
      "cell_type": "code",
      "source": "import duckdb\nimport pyodide\nimport fsspec\n\nduckdb.__version__",
      "metadata": {
        "trusted": true
      },
      "outputs": [
        {
          "execution_count": 12,
          "output_type": "execute_result",
          "data": {
            "text/plain": "'1.1.2'"
          },
          "metadata": {}
        }
      ],
      "execution_count": 12
    },
    {
      "id": "28250f40-fdb6-4b8b-8758-e515429c082f",
      "cell_type": "code",
      "source": "duckdb.sql('SELECT 42')",
      "metadata": {
        "trusted": true
      },
      "outputs": [
        {
          "execution_count": 10,
          "output_type": "execute_result",
          "data": {
            "text/plain": "┌───────┐\n│  42   │\n│ int32 │\n├───────┤\n│    42 │\n└───────┘"
          },
          "metadata": {}
        }
      ],
      "execution_count": 10
    },
    {
      "id": "9e116a7d-18f4-4df4-801a-edbb3006da5c",
      "cell_type": "code",
      "source": "%%dql \nSELECT 42",
      "metadata": {
        "trusted": true
      },
      "outputs": [
        {
          "execution_count": 3,
          "output_type": "execute_result",
          "data": {
            "text/plain": "   42\n0  42",
            "text/html": "<div>\n<style scoped>\n    .dataframe tbody tr th:only-of-type {\n        vertical-align: middle;\n    }\n\n    .dataframe tbody tr th {\n        vertical-align: top;\n    }\n\n    .dataframe thead th {\n        text-align: right;\n    }\n</style>\n<table border=\"1\" class=\"dataframe\">\n  <thead>\n    <tr style=\"text-align: right;\">\n      <th></th>\n      <th>42</th>\n    </tr>\n  </thead>\n  <tbody>\n    <tr>\n      <th>0</th>\n      <td>42</td>\n    </tr>\n  </tbody>\n</table>\n</div>"
          },
          "metadata": {}
        }
      ],
      "execution_count": 3
    },
    {
      "id": "a3ff9557-658c-4387-8f9b-560d8de2dfba",
      "cell_type": "code",
      "source": "duckdb.sql(\"SELECT 42\").df()",
      "metadata": {
        "trusted": true
      },
      "outputs": [
        {
          "execution_count": 6,
          "output_type": "execute_result",
          "data": {
            "text/plain": "   42\n0  42",
            "text/html": "<div>\n<style scoped>\n    .dataframe tbody tr th:only-of-type {\n        vertical-align: middle;\n    }\n\n    .dataframe tbody tr th {\n        vertical-align: top;\n    }\n\n    .dataframe thead th {\n        text-align: right;\n    }\n</style>\n<table border=\"1\" class=\"dataframe\">\n  <thead>\n    <tr style=\"text-align: right;\">\n      <th></th>\n      <th>42</th>\n    </tr>\n  </thead>\n  <tbody>\n    <tr>\n      <th>0</th>\n      <td>42</td>\n    </tr>\n  </tbody>\n</table>\n</div>"
          },
          "metadata": {}
        }
      ],
      "execution_count": 6
    },
    {
      "id": "0fc5966c-c89a-4758-a554-dcd69ce6b886",
      "cell_type": "code",
      "source": "url = 'https://raw.githubusercontent.com/duckdb/duckdb-web/refs/heads/main/data/flights.csv'\n\nflights_csv = pyodide.http.open_url(url)\nflights_relation = duckdb.read_csv(flights_csv)\n\nduckdb.sql(\"SELECT * FROM flights_relation\").df()",
      "metadata": {
        "trusted": true
      },
      "outputs": [
        {
          "execution_count": 11,
          "output_type": "execute_result",
          "data": {
            "text/plain": "  FlightDate UniqueCarrier OriginCityName     DestCityName\n0 1988-01-01            AA   New York, NY  Los Angeles, CA\n1 1988-01-02            AA   New York, NY  Los Angeles, CA\n2 1988-01-03            AA   New York, NY  Los Angeles, CA",
            "text/html": "<div>\n<style scoped>\n    .dataframe tbody tr th:only-of-type {\n        vertical-align: middle;\n    }\n\n    .dataframe tbody tr th {\n        vertical-align: top;\n    }\n\n    .dataframe thead th {\n        text-align: right;\n    }\n</style>\n<table border=\"1\" class=\"dataframe\">\n  <thead>\n    <tr style=\"text-align: right;\">\n      <th></th>\n      <th>FlightDate</th>\n      <th>UniqueCarrier</th>\n      <th>OriginCityName</th>\n      <th>DestCityName</th>\n    </tr>\n  </thead>\n  <tbody>\n    <tr>\n      <th>0</th>\n      <td>1988-01-01</td>\n      <td>AA</td>\n      <td>New York, NY</td>\n      <td>Los Angeles, CA</td>\n    </tr>\n    <tr>\n      <th>1</th>\n      <td>1988-01-02</td>\n      <td>AA</td>\n      <td>New York, NY</td>\n      <td>Los Angeles, CA</td>\n    </tr>\n    <tr>\n      <th>2</th>\n      <td>1988-01-03</td>\n      <td>AA</td>\n      <td>New York, NY</td>\n      <td>Los Angeles, CA</td>\n    </tr>\n  </tbody>\n</table>\n</div>"
          },
          "metadata": {}
        }
      ],
      "execution_count": 11
    }
  ]
}
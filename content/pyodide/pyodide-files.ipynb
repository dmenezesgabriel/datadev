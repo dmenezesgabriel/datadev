{
  "metadata": {
    "kernelspec": {
      "name": "python",
      "display_name": "Python (Pyodide)",
      "language": "python"
    },
    "language_info": {
      "codemirror_mode": {
        "name": "python",
        "version": 3
      },
      "file_extension": ".py",
      "mimetype": "text/x-python",
      "name": "python",
      "nbconvert_exporter": "python",
      "pygments_lexer": "ipython3",
      "version": "3.8"
    }
  },
  "nbformat_minor": 5,
  "nbformat": 4,
  "cells": [
    {
      "id": "b0b67d87-3cee-4262-bdae-7f8155a7c022",
      "cell_type": "code",
      "source": "from pathlib import Path\n\n\nd = Path(\"/temp\")\nd.mkdir(parents=True, exist_ok=True)\nPath(\"/temp/file.txt\").write_text(\"Hello, World!\")\n\nwith open(\"/temp/file.txt\") as f:\n    text_file = f.read()\n    print(text_file)",
      "metadata": {
        "trusted": true
      },
      "outputs": [
        {
          "name": "stdout",
          "output_type": "stream",
          "text": "Hello, World!\n"
        }
      ],
      "execution_count": 3
    }
  ]
}
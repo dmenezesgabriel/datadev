{
  "metadata": {
    "kernelspec": {
      "name": "python",
      "display_name": "Python (Pyodide)",
      "language": "python"
    },
    "language_info": {
      "codemirror_mode": {
        "name": "python",
        "version": 3
      },
      "file_extension": ".py",
      "mimetype": "text/x-python",
      "name": "python",
      "nbconvert_exporter": "python",
      "pygments_lexer": "ipython3",
      "version": "3.8"
    }
  },
  "nbformat_minor": 5,
  "nbformat": 4,
  "cells": [
    {
      "id": "30c41982-9cbd-4daf-b854-a76af37c0b38",
      "cell_type": "code",
      "source": "%pip install transformers_js_py\n\nfrom transformers_js_py import import_transformers_js\n\ntransformers = await import_transformers_js()\npipeline = transformers.pipeline\n\npipe = await pipeline('sentiment-analysis')\n\nout = await pipe('I love transformers!')\n\nprint(out)",
      "metadata": {
        "trusted": true
      },
      "outputs": [
        {
          "name": "stdout",
          "output_type": "stream",
          "text": "[{'label': 'POSITIVE', 'score': 0.999788761138916}]\n"
        }
      ],
      "execution_count": 2
    }
  ]
}
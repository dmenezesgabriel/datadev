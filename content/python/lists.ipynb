{
  "metadata": {
    "kernelspec": {
      "name": "xpython",
      "display_name": "Python 3.11 (XPython)",
      "language": "python"
    },
    "language_info": {
      "file_extension": ".py",
      "mimetype": "text/x-python",
      "name": "python",
      "version": "3.11.3"
    }
  },
  "nbformat_minor": 5,
  "nbformat": 4,
  "cells": [
    {
      "id": "5d93c79b-3a79-4ab1-8fd0-5a9503c90133",
      "cell_type": "markdown",
      "source": "# Lists",
      "metadata": {}
    },
    {
      "id": "dd9482b0-5a4a-4804-a47d-f336fa1974d5",
      "cell_type": "code",
      "source": "from rich.jupyter import print",
      "metadata": {
        "trusted": true
      },
      "outputs": [],
      "execution_count": 12
    },
    {
      "id": "9cff19b3-d08a-4344-9420-dd8081bcdc0f",
      "cell_type": "markdown",
      "source": "## Slicing",
      "metadata": {}
    },
    {
      "id": "a28c897d-a515-4ba6-98b2-8b879b3f09fa",
      "cell_type": "code",
      "source": "fruits = [\"apple\", \"banana\", \"cherry\", \"kiwi\", \"orange\"]\nprint(\"Original list:\")\nprint(fruits)\nprint(\"Accessing element with index 0:\")\nprint(fruits[0])\nprint(\"Accessing element with index 2:\")\nprint(fruits[2])\nprint(\"Accessing last element:\")\nprint(fruits[-1])\nprint(\"Slicing from index 1 to 3:\")\nprint(fruits[1:3])\nprint(\"Replacing the second element with 'watermelon':\")\nfruits[1] = \"watermelon\"\nprint(fruits)",
      "metadata": {
        "trusted": true
      },
      "outputs": [
        {
          "name": "stdout",
          "output_type": "stream",
          "text": "Original list:\n['apple', 'banana', 'cherry', 'kiwi', 'orange']\nAccessing element with index 0:\napple\nAccessing element with index 2:\ncherry\nAccessing last element:\norange\nSlicing from index 1 to 3:\n['banana', 'cherry']\nReplacing the second element with 'watermelon':\n['apple', 'watermelon', 'cherry', 'kiwi', 'orange']\n"
        }
      ],
      "execution_count": 14
    },
    {
      "id": "3bdd0738-3a12-4275-94e9-eb36d6987a0e",
      "cell_type": "markdown",
      "source": "## Methods",
      "metadata": {}
    },
    {
      "id": "e637d8d1-9260-40f1-9e98-995e439fe1ef",
      "cell_type": "code",
      "source": "fruits = [\"apple\", \"banana\", \"cherry\", \"kiwi\", \"orange\"]\n\nprint(\"Adding 'grape' to the end of the list:\")\nfruits.insert(1, \"grape\")\nprint(fruits)\n\nprint(\"Remove first occurrence of cherry:\")\nfruits.remove(\"cherry\")  # remove first occurrence\nprint(fruits)\n\nprint(\"Removing last element from list:\")\npopped_fruits = fruits.pop()  # remove last item\nprint(popped_fruits)\nprint(fruits)\n\nprint(\"Getting 'banana' index:\")\nbanana_index = fruits.index(\"banana\")  # find index of \"cherry\"\nprint(banana_index)\n\nprint(\"Counting 'kiwi' occurrences:\")\nfruits.insert(2, \"kiwi\")  # insert \"kiwi\" at index 2\nkiwi_count = fruits.count(\"kiwi\")  # count occurrences of \"kiwi\"\nprint(kiwi_count)",
      "metadata": {
        "trusted": true
      },
      "outputs": [
        {
          "name": "stdout",
          "output_type": "stream",
          "text": "Adding 'grape' to the end of the list:\n['apple', 'grape', 'banana', 'cherry', 'kiwi', 'orange']\nRemove first occurrence of cherry:\n['apple', 'grape', 'banana', 'kiwi', 'orange']\nRemoving last element from list:\norange\n['apple', 'grape', 'banana', 'kiwi']\nGetting 'banana' index:\n2\nCounting 'kiwi' occurrences:\n2\n"
        }
      ],
      "execution_count": 15
    }
  ]
}
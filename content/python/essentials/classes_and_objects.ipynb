{
 "cells": [
  {
   "cell_type": "markdown",
   "id": "ed9c2d0e",
   "metadata": {},
   "source": [
    "# OOP - Classes and Objects\n"
   ]
  },
  {
   "cell_type": "markdown",
   "id": "9d0feefd",
   "metadata": {},
   "source": [
    "A class is a blueprint for creating objects.\n"
   ]
  },
  {
   "cell_type": "code",
   "execution_count": 1,
   "id": "a55c48fc",
   "metadata": {},
   "outputs": [
    {
     "name": "stdout",
     "output_type": "stream",
     "text": [
      "<class '__main__.Car'>\n",
      "<__main__.Car object at 0x7f0b7c1db920>\n",
      "<class '__main__.Car'>\n",
      "<__main__.Car object at 0x7f0b7c1dba10>\n"
     ]
    }
   ],
   "source": [
    "class Car:\n",
    "    pass\n",
    "\n",
    "\n",
    "audi = Car()\n",
    "bmw = Car()\n",
    "\n",
    "print(type(audi))\n",
    "print(audi)\n",
    "print(type(bmw))\n",
    "print(bmw)"
   ]
  },
  {
   "cell_type": "code",
   "execution_count": 2,
   "id": "50503c15",
   "metadata": {},
   "outputs": [
    {
     "data": {
      "text/plain": [
       "'Buddy says Woof!'"
      ]
     },
     "execution_count": 2,
     "metadata": {},
     "output_type": "execute_result"
    }
   ],
   "source": [
    "class Dog:\n",
    "    def __init__(self, name, age):  # Constructor\n",
    "        self.name = name\n",
    "        self.age = age\n",
    "\n",
    "    def bark(self):\n",
    "        return f\"{self.name} says Woof!\"\n",
    "\n",
    "\n",
    "dog1 = Dog(\"Buddy\", 3)\n",
    "\n",
    "dog1.bark()"
   ]
  },
  {
   "cell_type": "markdown",
   "id": "b7ca2d74",
   "metadata": {},
   "source": [
    "## Inheritance\n"
   ]
  },
  {
   "cell_type": "markdown",
   "id": "df416965",
   "metadata": {},
   "source": [
    "### Single Inheritance\n"
   ]
  },
  {
   "cell_type": "code",
   "execution_count": 3,
   "id": "8d7e560f",
   "metadata": {},
   "outputs": [
    {
     "data": {
      "text/plain": [
       "'2020 Toyota Corolla is starting.'"
      ]
     },
     "execution_count": 3,
     "metadata": {},
     "output_type": "execute_result"
    }
   ],
   "source": [
    "class Car:\n",
    "    \"\"\"Superclass for all cars.\"\"\"\n",
    "\n",
    "    def __init__(self, make, model, year):\n",
    "        self.make = make\n",
    "        self.model = model\n",
    "        self.year = year\n",
    "\n",
    "    def start(self):\n",
    "        return f\"{self.year} {self.make} {self.model} is starting.\"\n",
    "\n",
    "    def stop(self):\n",
    "        return f\"{self.year} {self.make} {self.model} is stopping.\"\n",
    "\n",
    "\n",
    "car1 = Car(\"Toyota\", \"Corolla\", 2020)\n",
    "car1.start()"
   ]
  },
  {
   "cell_type": "code",
   "execution_count": 4,
   "id": "255a4623",
   "metadata": {},
   "outputs": [
    {
     "data": {
      "text/plain": [
       "'2021 Tesla Model 3 is charging with a 75-kWh battery.'"
      ]
     },
     "execution_count": 4,
     "metadata": {},
     "output_type": "execute_result"
    }
   ],
   "source": [
    "class Tesla(Car):\n",
    "    def __init__(self, model, year, battery_size=75):\n",
    "        super().__init__(\"Tesla\", model, year)\n",
    "        self.battery_size = battery_size\n",
    "\n",
    "    def charge(self):\n",
    "        return f\"{self.year} {self.make} {self.model} is charging with a {self.battery_size}-kWh battery.\"\n",
    "\n",
    "\n",
    "tesla1 = Tesla(\"Model 3\", 2021)\n",
    "tesla1.start()\n",
    "tesla1.charge()"
   ]
  },
  {
   "cell_type": "markdown",
   "id": "e159b7e5",
   "metadata": {},
   "source": [
    "### Multiple Inheritance\n"
   ]
  },
  {
   "cell_type": "code",
   "execution_count": 5,
   "id": "ab547797",
   "metadata": {},
   "outputs": [
    {
     "name": "stdout",
     "output_type": "stream",
     "text": [
      "Buddy says Woof!\n"
     ]
    },
    {
     "data": {
      "text/plain": [
       "'Alice is the owner of this pet.'"
      ]
     },
     "execution_count": 5,
     "metadata": {},
     "output_type": "execute_result"
    }
   ],
   "source": [
    "class Animal:\n",
    "    def __init__(self, name):\n",
    "        self.name = name\n",
    "\n",
    "    def speak(self):\n",
    "        return f\"{self.name} makes a sound.\"\n",
    "\n",
    "\n",
    "class Pet:\n",
    "    def __init__(self, owner):\n",
    "        self.owner = owner\n",
    "\n",
    "    def get_owner(self):\n",
    "        return f\"{self.owner} is the owner of this pet.\"\n",
    "\n",
    "\n",
    "class Dog(Animal, Pet):\n",
    "    def __init__(self, name, owner):\n",
    "        Animal.__init__(self, name)\n",
    "        Pet.__init__(self, owner)\n",
    "\n",
    "    def speak(self):\n",
    "        return f\"{self.name} says Woof!\"\n",
    "\n",
    "\n",
    "dog1 = Dog(\"Buddy\", \"Alice\")\n",
    "print(dog1.speak())\n",
    "dog1.get_owner()"
   ]
  },
  {
   "cell_type": "markdown",
   "id": "02c2c928",
   "metadata": {},
   "source": [
    "## Polymorphism\n"
   ]
  },
  {
   "cell_type": "markdown",
   "id": "12976e25",
   "metadata": {},
   "source": [
    "It provides a way to perform a single action in different forms\n"
   ]
  },
  {
   "cell_type": "markdown",
   "id": "501823b8",
   "metadata": {},
   "source": [
    "Method overriding allows a child class to provide a specific implementation of a method that is already defined in its parent class\n"
   ]
  },
  {
   "cell_type": "code",
   "execution_count": 6,
   "id": "59eb211c",
   "metadata": {},
   "outputs": [
    {
     "name": "stdout",
     "output_type": "stream",
     "text": [
      "Dog barks\n",
      "Cat meows\n"
     ]
    }
   ],
   "source": [
    "class Animal:\n",
    "    def speak(self):\n",
    "        return \"Animal sound\"\n",
    "\n",
    "\n",
    "class Dog(Animal):\n",
    "    def speak(self):\n",
    "        return \"Dog barks\"\n",
    "\n",
    "\n",
    "class Cat(Animal):\n",
    "    def speak(self):\n",
    "        return \"Cat meows\"\n",
    "\n",
    "\n",
    "def animal_sound(animal):\n",
    "    \"\"\"Polymorphic function to get the sound of an animal.\"\"\"\n",
    "    return animal.speak()\n",
    "\n",
    "\n",
    "dog = Dog()\n",
    "cat = Cat()\n",
    "print(animal_sound(dog))\n",
    "print(animal_sound(cat))"
   ]
  },
  {
   "cell_type": "code",
   "execution_count": 7,
   "id": "71340fbb",
   "metadata": {},
   "outputs": [
    {
     "name": "stdout",
     "output_type": "stream",
     "text": [
      "The area is: 50\n",
      "The area is: 153.86\n"
     ]
    }
   ],
   "source": [
    "class Shape:\n",
    "    def area(self):\n",
    "        raise NotImplementedError(\"Subclasses must implement this method\")\n",
    "\n",
    "\n",
    "class Rectangle(Shape):\n",
    "    def __init__(self, width, height):\n",
    "        self.width = width\n",
    "        self.height = height\n",
    "\n",
    "    def area(self):\n",
    "        return self.width * self.height\n",
    "\n",
    "\n",
    "class Circle(Shape):\n",
    "    def __init__(self, radius):\n",
    "        self.radius = radius\n",
    "\n",
    "    def area(self):\n",
    "        return 3.14 * (self.radius**2)\n",
    "\n",
    "\n",
    "def print_area(shape):\n",
    "    print(f\"The area is: {shape.area()}\")\n",
    "\n",
    "\n",
    "rectangle = Rectangle(5, 10)\n",
    "circle = Circle(7)\n",
    "print_area(rectangle)\n",
    "print_area(circle)"
   ]
  },
  {
   "cell_type": "code",
   "execution_count": 8,
   "id": "d0f45b63",
   "metadata": {},
   "outputs": [
    {
     "name": "stdout",
     "output_type": "stream",
     "text": [
      "Car is starting.\n",
      "Motorcycle is starting.\n",
      "Car is stopping.\n",
      "Motorcycle is stopping.\n"
     ]
    }
   ],
   "source": [
    "from abc import ABC, abstractmethod\n",
    "\n",
    "\n",
    "class Vehicle(ABC):\n",
    "    @abstractmethod\n",
    "    def start(self):\n",
    "        pass\n",
    "\n",
    "    @abstractmethod\n",
    "    def stop(self):\n",
    "        pass\n",
    "\n",
    "\n",
    "class Car(Vehicle):\n",
    "    def start(self):\n",
    "        return \"Car is starting.\"\n",
    "\n",
    "    def stop(self):\n",
    "        return \"Car is stopping.\"\n",
    "\n",
    "\n",
    "class motorcycle(Vehicle):\n",
    "    def start(self):\n",
    "        return \"Motorcycle is starting.\"\n",
    "\n",
    "    def stop(self):\n",
    "        return \"Motorcycle is stopping.\"\n",
    "\n",
    "\n",
    "def start_vehicle(vehicle):\n",
    "    print(vehicle.start())\n",
    "\n",
    "\n",
    "def stop_vehicle(vehicle):\n",
    "    print(vehicle.stop())\n",
    "\n",
    "\n",
    "car = Car()\n",
    "motorcycle = motorcycle()\n",
    "start_vehicle(car)\n",
    "start_vehicle(motorcycle)\n",
    "stop_vehicle(car)\n",
    "stop_vehicle(motorcycle)"
   ]
  },
  {
   "cell_type": "markdown",
   "id": "237269a8",
   "metadata": {},
   "source": [
    "### Encapsulation\n"
   ]
  },
  {
   "cell_type": "markdown",
   "id": "25f3f5a2",
   "metadata": {},
   "source": [
    "Encapsulation involves bundling data and methods that operate on the data within a single unit\n"
   ]
  },
  {
   "cell_type": "markdown",
   "id": "eab60ec4",
   "metadata": {},
   "source": [
    "Public, private and protected or access modifiers\n",
    "\n",
    "- Public: accessible by every other piece of code\n",
    "- Protected: accessible by classes that inherit from this one\n",
    "- Private: accessible only by the objects itself\n"
   ]
  },
  {
   "cell_type": "code",
   "execution_count": 11,
   "id": "92b70811",
   "metadata": {},
   "outputs": [],
   "source": [
    "class Person:\n",
    "    def __init__(self, name, age):\n",
    "        self.name = name  # Public attribute\n",
    "        self._age = age  # Protected attribute\n",
    "        self.__ssn = \"123-45-6789\"  # Private attribute\n",
    "\n",
    "    def get_ssn(self):\n",
    "        return self.__ssn  # Method to access private attribute"
   ]
  }
 ],
 "metadata": {
  "kernelspec": {
   "display_name": ".venv",
   "language": "python",
   "name": "python3"
  },
  "language_info": {
   "codemirror_mode": {
    "name": "ipython",
    "version": 3
   },
   "file_extension": ".py",
   "mimetype": "text/x-python",
   "name": "python",
   "nbconvert_exporter": "python",
   "pygments_lexer": "ipython3",
   "version": "3.12.6"
  }
 },
 "nbformat": 4,
 "nbformat_minor": 5
}

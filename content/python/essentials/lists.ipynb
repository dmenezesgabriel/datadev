{
  "cells": [
    {
      "cell_type": "markdown",
      "id": "5d93c79b-3a79-4ab1-8fd0-5a9503c90133",
      "metadata": {},
      "source": [
        "# Lists\n"
      ]
    },
    {
      "cell_type": "markdown",
      "id": "9cff19b3-d08a-4344-9420-dd8081bcdc0f",
      "metadata": {},
      "source": [
        "## Slicing\n"
      ]
    },
    {
      "cell_type": "code",
      "execution_count": null,
      "id": "a28c897d-a515-4ba6-98b2-8b879b3f09fa",
      "metadata": {
        "trusted": true
      },
      "outputs": [
        {
          "name": "stdout",
          "output_type": "stream",
          "text": [
            "Original list:\n",
            "['apple', 'banana', 'cherry', 'kiwi', 'orange']\n",
            "Accessing element with index 0:\n",
            "apple\n",
            "Accessing element with index 2:\n",
            "cherry\n",
            "Accessing last element:\n",
            "orange\n",
            "Slicing from index 1 to 3:\n",
            "['banana', 'cherry']\n",
            "Replacing the second element with 'watermelon':\n",
            "['apple', 'watermelon', 'cherry', 'kiwi', 'orange']\n"
          ]
        }
      ],
      "source": [
        "fruits = [\"apple\", \"banana\", \"cherry\", \"kiwi\", \"orange\"]\n",
        "print(\"Original list:\")\n",
        "print(fruits)\n",
        "print(\"Accessing element with index 0:\")\n",
        "print(fruits[0])\n",
        "print(\"Accessing element with index 2:\")\n",
        "print(fruits[2])\n",
        "print(\"Accessing last element:\")\n",
        "print(fruits[-1])\n",
        "print(\"Slicing from index 1 to 3:\")\n",
        "print(fruits[1:3])\n",
        "print(\"Replacing the second element with 'watermelon':\")\n",
        "fruits[1] = \"watermelon\"\n",
        "print(fruits)"
      ]
    },
    {
      "cell_type": "markdown",
      "id": "3bdd0738-3a12-4275-94e9-eb36d6987a0e",
      "metadata": {},
      "source": [
        "## Methods\n"
      ]
    },
    {
      "cell_type": "code",
      "execution_count": null,
      "id": "e637d8d1-9260-40f1-9e98-995e439fe1ef",
      "metadata": {
        "trusted": true
      },
      "outputs": [
        {
          "name": "stdout",
          "output_type": "stream",
          "text": [
            "Adding 'grape' to the end of the list:\n",
            "['apple', 'grape', 'banana', 'cherry', 'kiwi', 'orange']\n",
            "Remove first occurrence of cherry:\n",
            "['apple', 'grape', 'banana', 'kiwi', 'orange']\n",
            "Removing last element from list:\n",
            "orange\n",
            "['apple', 'grape', 'banana', 'kiwi']\n",
            "Getting 'banana' index:\n",
            "2\n",
            "Counting 'kiwi' occurrences:\n",
            "2\n"
          ]
        }
      ],
      "source": [
        "fruits = [\"apple\", \"banana\", \"cherry\", \"kiwi\", \"orange\"]\n",
        "\n",
        "print(\"Adding 'grape' to the end of the list:\")\n",
        "fruits.insert(1, \"grape\")\n",
        "print(fruits)\n",
        "\n",
        "print(\"Remove first occurrence of cherry:\")\n",
        "fruits.remove(\"cherry\")  # remove first occurrence\n",
        "print(fruits)\n",
        "\n",
        "print(\"Removing last element from list:\")\n",
        "popped_fruits = fruits.pop()  # remove last item\n",
        "print(popped_fruits)\n",
        "print(fruits)\n",
        "\n",
        "print(\"Getting 'banana' index:\")\n",
        "banana_index = fruits.index(\"banana\")  # find index of \"cherry\"\n",
        "print(banana_index)\n",
        "\n",
        "print(\"Counting 'kiwi' occurrences:\")\n",
        "fruits.insert(2, \"kiwi\")  # insert \"kiwi\" at index 2\n",
        "kiwi_count = fruits.count(\"kiwi\")  # count occurrences of \"kiwi\"\n",
        "print(kiwi_count)"
      ]
    }
  ],
  "metadata": {
    "kernelspec": {
      "display_name": ".venv",
      "language": "python",
      "name": "python3"
    },
    "language_info": {
      "codemirror_mode": {
        "name": "ipython",
        "version": 3
      },
      "file_extension": ".py",
      "mimetype": "text/x-python",
      "name": "python",
      "nbconvert_exporter": "python",
      "pygments_lexer": "ipython3",
      "version": "3.12.6"
    }
  },
  "nbformat": 4,
  "nbformat_minor": 5
}

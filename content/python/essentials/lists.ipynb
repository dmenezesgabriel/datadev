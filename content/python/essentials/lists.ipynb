{
  "cells": [
    {
      "cell_type": "markdown",
      "id": "5d93c79b-3a79-4ab1-8fd0-5a9503c90133",
      "metadata": {},
      "source": [
        "# Lists\n"
      ]
    },
    {
      "cell_type": "markdown",
      "id": "9cff19b3-d08a-4344-9420-dd8081bcdc0f",
      "metadata": {},
      "source": [
        "## Slicing\n"
      ]
    },
    {
      "cell_type": "code",
      "execution_count": 2,
      "id": "5a99228c",
      "metadata": {},
      "outputs": [
        {
          "data": {
            "text/plain": [
              "['apple', 'banana', 'cherry', 'kiwi', 'orange']"
            ]
          },
          "execution_count": 2,
          "metadata": {},
          "output_type": "execute_result"
        }
      ],
      "source": [
        "fruits = [\"apple\", \"banana\", \"cherry\", \"kiwi\", \"orange\"]\n",
        "fruits"
      ]
    },
    {
      "cell_type": "code",
      "execution_count": 3,
      "id": "e2750037",
      "metadata": {},
      "outputs": [
        {
          "name": "stdout",
          "output_type": "stream",
          "text": [
            "Accessing element with index 0:\n"
          ]
        },
        {
          "data": {
            "text/plain": [
              "'apple'"
            ]
          },
          "execution_count": 3,
          "metadata": {},
          "output_type": "execute_result"
        }
      ],
      "source": [
        "print(\"Accessing element with index 0:\")\n",
        "fruits[0]"
      ]
    },
    {
      "cell_type": "code",
      "execution_count": 4,
      "id": "fa292c61",
      "metadata": {},
      "outputs": [
        {
          "name": "stdout",
          "output_type": "stream",
          "text": [
            "Accessing element with index 2:\n"
          ]
        },
        {
          "data": {
            "text/plain": [
              "'cherry'"
            ]
          },
          "execution_count": 4,
          "metadata": {},
          "output_type": "execute_result"
        }
      ],
      "source": [
        "print(\"Accessing element with index 2:\")\n",
        "fruits[2]"
      ]
    },
    {
      "cell_type": "code",
      "execution_count": 5,
      "id": "e5d109f2",
      "metadata": {},
      "outputs": [
        {
          "name": "stdout",
          "output_type": "stream",
          "text": [
            "Accessing last element:\n"
          ]
        },
        {
          "data": {
            "text/plain": [
              "'orange'"
            ]
          },
          "execution_count": 5,
          "metadata": {},
          "output_type": "execute_result"
        }
      ],
      "source": [
        "print(\"Accessing last element:\")\n",
        "fruits[-1]"
      ]
    },
    {
      "cell_type": "code",
      "execution_count": 6,
      "id": "3bdb651c",
      "metadata": {},
      "outputs": [
        {
          "name": "stdout",
          "output_type": "stream",
          "text": [
            "Slicing from index 1 to 3:\n"
          ]
        },
        {
          "data": {
            "text/plain": [
              "['banana', 'cherry']"
            ]
          },
          "execution_count": 6,
          "metadata": {},
          "output_type": "execute_result"
        }
      ],
      "source": [
        "print(\"Slicing from index 1 to 3:\")\n",
        "fruits[1:3]"
      ]
    },
    {
      "cell_type": "code",
      "execution_count": 7,
      "id": "a28c897d-a515-4ba6-98b2-8b879b3f09fa",
      "metadata": {
        "trusted": true
      },
      "outputs": [
        {
          "name": "stdout",
          "output_type": "stream",
          "text": [
            "Replacing the second element with 'watermelon':\n"
          ]
        },
        {
          "data": {
            "text/plain": [
              "['apple', 'watermelon', 'cherry', 'kiwi', 'orange']"
            ]
          },
          "execution_count": 7,
          "metadata": {},
          "output_type": "execute_result"
        }
      ],
      "source": [
        "print(\"Replacing the second element with 'watermelon':\")\n",
        "fruits[1] = \"watermelon\"\n",
        "fruits"
      ]
    },
    {
      "cell_type": "markdown",
      "id": "3bdd0738-3a12-4275-94e9-eb36d6987a0e",
      "metadata": {},
      "source": [
        "## Methods\n"
      ]
    },
    {
      "cell_type": "code",
      "execution_count": 8,
      "id": "b4f663bd",
      "metadata": {},
      "outputs": [],
      "source": [
        "fruits = [\"apple\", \"banana\", \"cherry\", \"kiwi\", \"orange\"]"
      ]
    },
    {
      "cell_type": "code",
      "execution_count": 9,
      "id": "431ea0c6",
      "metadata": {},
      "outputs": [
        {
          "name": "stdout",
          "output_type": "stream",
          "text": [
            "Adding 'grape' to the end of the list:\n"
          ]
        },
        {
          "data": {
            "text/plain": [
              "['apple', 'grape', 'banana', 'cherry', 'kiwi', 'orange']"
            ]
          },
          "execution_count": 9,
          "metadata": {},
          "output_type": "execute_result"
        }
      ],
      "source": [
        "print(\"Adding 'grape' to the end of the list:\")\n",
        "fruits.insert(1, \"grape\")\n",
        "fruits"
      ]
    },
    {
      "cell_type": "code",
      "execution_count": 10,
      "id": "acb3865a",
      "metadata": {},
      "outputs": [
        {
          "name": "stdout",
          "output_type": "stream",
          "text": [
            "Remove first occurrence of cherry:\n"
          ]
        },
        {
          "data": {
            "text/plain": [
              "['apple', 'grape', 'banana', 'kiwi', 'orange']"
            ]
          },
          "execution_count": 10,
          "metadata": {},
          "output_type": "execute_result"
        }
      ],
      "source": [
        "print(\"Remove first occurrence of cherry:\")\n",
        "fruits.remove(\"cherry\")  # remove first occurrence\n",
        "fruits"
      ]
    },
    {
      "cell_type": "code",
      "execution_count": 11,
      "id": "f552ec14",
      "metadata": {},
      "outputs": [
        {
          "name": "stdout",
          "output_type": "stream",
          "text": [
            "Removing last element from list:\n",
            "orange\n"
          ]
        },
        {
          "data": {
            "text/plain": [
              "['apple', 'grape', 'banana', 'kiwi']"
            ]
          },
          "execution_count": 11,
          "metadata": {},
          "output_type": "execute_result"
        }
      ],
      "source": [
        "print(\"Removing last element from list:\")\n",
        "popped_fruits = fruits.pop()  # remove last item\n",
        "print(popped_fruits)\n",
        "fruits"
      ]
    },
    {
      "cell_type": "code",
      "execution_count": 12,
      "id": "8c77ef87",
      "metadata": {},
      "outputs": [
        {
          "name": "stdout",
          "output_type": "stream",
          "text": [
            "Getting 'banana' index:\n"
          ]
        },
        {
          "data": {
            "text/plain": [
              "2"
            ]
          },
          "execution_count": 12,
          "metadata": {},
          "output_type": "execute_result"
        }
      ],
      "source": [
        "print(\"Getting 'banana' index:\")\n",
        "banana_index = fruits.index(\"banana\")  # find index of \"cherry\"\n",
        "banana_index"
      ]
    },
    {
      "cell_type": "code",
      "execution_count": 13,
      "id": "09c1af22",
      "metadata": {},
      "outputs": [
        {
          "name": "stdout",
          "output_type": "stream",
          "text": [
            "Counting 'kiwi' occurrences:\n"
          ]
        },
        {
          "data": {
            "text/plain": [
              "2"
            ]
          },
          "execution_count": 13,
          "metadata": {},
          "output_type": "execute_result"
        }
      ],
      "source": [
        "print(\"Counting 'kiwi' occurrences:\")\n",
        "fruits.insert(2, \"kiwi\")  # insert \"kiwi\" at index 2\n",
        "kiwi_count = fruits.count(\"kiwi\")  # count occurrences of \"kiwi\"\n",
        "kiwi_count"
      ]
    },
    {
      "cell_type": "code",
      "execution_count": 14,
      "id": "e637d8d1-9260-40f1-9e98-995e439fe1ef",
      "metadata": {
        "trusted": true
      },
      "outputs": [
        {
          "name": "stdout",
          "output_type": "stream",
          "text": [
            "Sort fruits: \n"
          ]
        },
        {
          "data": {
            "text/plain": [
              "['apple', 'banana', 'grape', 'kiwi', 'kiwi']"
            ]
          },
          "execution_count": 14,
          "metadata": {},
          "output_type": "execute_result"
        }
      ],
      "source": [
        "print(\"Sort fruits: \")\n",
        "fruits.sort()  # sort the list\n",
        "fruits"
      ]
    }
  ],
  "metadata": {
    "kernelspec": {
      "display_name": ".venv",
      "language": "python",
      "name": "python3"
    },
    "language_info": {
      "codemirror_mode": {
        "name": "ipython",
        "version": 3
      },
      "file_extension": ".py",
      "mimetype": "text/x-python",
      "name": "python",
      "nbconvert_exporter": "python",
      "pygments_lexer": "ipython3",
      "version": "3.12.6"
    }
  },
  "nbformat": 4,
  "nbformat_minor": 5
}

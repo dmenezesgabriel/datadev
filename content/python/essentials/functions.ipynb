{
 "cells": [
  {
   "cell_type": "markdown",
   "id": "e24f064a",
   "metadata": {},
   "source": [
    "# Functions\n"
   ]
  },
  {
   "cell_type": "code",
   "execution_count": 26,
   "id": "9514eb79",
   "metadata": {},
   "outputs": [
    {
     "name": "stdout",
     "output_type": "stream",
     "text": [
      "<class 'tuple'>\n",
      "args: (1, 2, 3, 4, 5, 6)\n",
      "<class 'dict'>\n",
      "kwargs: {'name': 'John', 'age': 30, 'city': 'New York'}\n"
     ]
    }
   ],
   "source": [
    "def print_numbers(*args, **kwargs):\n",
    "    print(type(args))\n",
    "    print(\"args:\", args)\n",
    "\n",
    "    print(type(kwargs))\n",
    "    print(\"kwargs:\", kwargs)\n",
    "\n",
    "\n",
    "print_numbers(1, 2, 3, 4, 5, 6, name=\"John\", age=30, city=\"New York\")"
   ]
  },
  {
   "cell_type": "code",
   "execution_count": null,
   "id": "fa579201",
   "metadata": {},
   "outputs": [
    {
     "name": "stdout",
     "output_type": "stream",
     "text": [
      "return multiple values from a function\n",
      "<class 'tuple'>\n",
      "Result: (1, 2, 3)\n",
      "a: 1\n",
      "b: 2\n",
      "c: 3\n"
     ]
    }
   ],
   "source": [
    "print(\"return multiple values from a function\")\n",
    "\n",
    "\n",
    "def return_multiple_values():\n",
    "    return 1, 2, 3\n",
    "\n",
    "\n",
    "result = return_multiple_values()\n",
    "print(type(result))\n",
    "print(\"Result:\", result)\n",
    "\n",
    "a, b, c = return_multiple_values()\n",
    "print(\"a:\", a)\n",
    "print(\"b:\", b)\n",
    "print(\"c:\", c)"
   ]
  },
  {
   "cell_type": "code",
   "execution_count": 35,
   "id": "712edb32",
   "metadata": {},
   "outputs": [
    {
     "name": "stdout",
     "output_type": "stream",
     "text": [
      "Is 'Password123' a strong password? False\n"
     ]
    }
   ],
   "source": [
    "def is_strong_password(password):\n",
    "    if len(password) < 8:\n",
    "        return False\n",
    "    if not any(char.isdigit() for char in password):\n",
    "        return False\n",
    "    if not any(char.isupper() for char in password):\n",
    "        return False\n",
    "    if not any(char.islower() for char in password):\n",
    "        return False\n",
    "    if not any(char in \"!@#$%^&*()-_=+[]{}|;:,.<>?/\" for char in password):\n",
    "        return False\n",
    "    return True\n",
    "\n",
    "\n",
    "print(\"Is 'Password123' a strong password?\", is_strong_password(\"Password123\"))"
   ]
  },
  {
   "cell_type": "code",
   "execution_count": null,
   "id": "dad9e4b8",
   "metadata": {},
   "outputs": [
    {
     "name": "stdout",
     "output_type": "stream",
     "text": [
      "Is 'race car' a palindrome? True\n",
      "Is 'hello' a palindrome? False\n"
     ]
    }
   ],
   "source": [
    "def is_palindrome(s):\n",
    "    s = s.lower().replace(\" \", \"\")\n",
    "    return s == s[::-1]\n",
    "\n",
    "\n",
    "print(\"Is 'race car' a palindrome?\", is_palindrome(\"race car\"))\n",
    "print(\"Is 'hello' a palindrome?\", is_palindrome(\"hello\"))"
   ]
  },
  {
   "cell_type": "code",
   "execution_count": null,
   "id": "ccd93458",
   "metadata": {},
   "outputs": [
    {
     "name": "stdout",
     "output_type": "stream",
     "text": [
      "Recursive function example: Factorial\n",
      "5\n",
      "4\n",
      "3\n",
      "2\n",
      "1\n",
      "Factorial of 5: 120\n"
     ]
    }
   ],
   "source": [
    "print(\"Recursive function example: Factorial\")\n",
    "\n",
    "\n",
    "def factorial(n):\n",
    "    print(n)\n",
    "    if n == 0 or n == 1:\n",
    "        return 1\n",
    "    else:\n",
    "        return n * factorial(n - 1)\n",
    "\n",
    "\n",
    "print(\"Factorial of 5:\", factorial(5))"
   ]
  },
  {
   "cell_type": "markdown",
   "id": "db90e812",
   "metadata": {},
   "source": [
    "## Lambda function\n"
   ]
  },
  {
   "cell_type": "markdown",
   "id": "59037d15",
   "metadata": {},
   "source": [
    "A lambda function is an anonymous function (a function without a name)\n"
   ]
  },
  {
   "cell_type": "code",
   "execution_count": 44,
   "id": "b6ec0018",
   "metadata": {},
   "outputs": [
    {
     "name": "stdout",
     "output_type": "stream",
     "text": [
      "<class 'function'>\n"
     ]
    },
    {
     "data": {
      "text/plain": [
       "8"
      ]
     },
     "execution_count": 44,
     "metadata": {},
     "output_type": "execute_result"
    }
   ],
   "source": [
    "addition = lambda x, y: x + y\n",
    "print(type(addition))\n",
    "addition(5, 3)"
   ]
  },
  {
   "cell_type": "markdown",
   "id": "e01a3db5",
   "metadata": {},
   "source": [
    "## Map function\n"
   ]
  },
  {
   "cell_type": "code",
   "execution_count": null,
   "id": "3bc7e5a4",
   "metadata": {},
   "outputs": [
    {
     "data": {
      "text/plain": [
       "[1, 4, 9, 16, 25, 36, 49, 64]"
      ]
     },
     "execution_count": 46,
     "metadata": {},
     "output_type": "execute_result"
    }
   ],
   "source": [
    "numbers = [1, 2, 3, 4, 5, 6, 7, 8]\n",
    "list(map(lambda x: x**2, numbers))"
   ]
  },
  {
   "cell_type": "code",
   "execution_count": 48,
   "id": "cac249e3",
   "metadata": {},
   "outputs": [
    {
     "name": "stdout",
     "output_type": "stream",
     "text": [
      "Map function with two lists\n"
     ]
    },
    {
     "data": {
      "text/plain": [
       "[5, 7, 9]"
      ]
     },
     "execution_count": 48,
     "metadata": {},
     "output_type": "execute_result"
    }
   ],
   "source": [
    "print(\"Map function with two lists\")\n",
    "numbers1 = [1, 2, 3]\n",
    "numbers2 = [4, 5, 6]\n",
    "list(map(lambda x, y: x + y, numbers1, numbers2))"
   ]
  },
  {
   "cell_type": "code",
   "execution_count": 49,
   "id": "22605efe",
   "metadata": {},
   "outputs": [
    {
     "data": {
      "text/plain": [
       "['HELLO', 'WORLD', 'PYTHON']"
      ]
     },
     "execution_count": 49,
     "metadata": {},
     "output_type": "execute_result"
    }
   ],
   "source": [
    "words = [\"hello\", \"world\", \"python\"]\n",
    "list(map(str.upper, words))"
   ]
  },
  {
   "cell_type": "code",
   "execution_count": 53,
   "id": "aa7336ae",
   "metadata": {},
   "outputs": [
    {
     "data": {
      "text/plain": [
       "['Alice', 'Bob', 'Charlie']"
      ]
     },
     "execution_count": 53,
     "metadata": {},
     "output_type": "execute_result"
    }
   ],
   "source": [
    "people = [\n",
    "    {\"name\": \"Alice\", \"age\": 30},\n",
    "    {\"name\": \"Bob\", \"age\": 25},\n",
    "    {\"name\": \"Charlie\", \"age\": 35},\n",
    "]\n",
    "\n",
    "list(map(lambda person: person[\"name\"], people))"
   ]
  },
  {
   "cell_type": "markdown",
   "id": "6e11500c",
   "metadata": {},
   "source": [
    "## Filter\n"
   ]
  },
  {
   "cell_type": "code",
   "execution_count": 54,
   "id": "d2256c4c",
   "metadata": {},
   "outputs": [
    {
     "data": {
      "text/plain": [
       "[2, 4]"
      ]
     },
     "execution_count": 54,
     "metadata": {},
     "output_type": "execute_result"
    }
   ],
   "source": [
    "numbers = [1, 2, 3, 4, 5]\n",
    "list(filter(lambda x: x % 2 == 0, numbers))"
   ]
  }
 ],
 "metadata": {
  "kernelspec": {
   "display_name": ".venv",
   "language": "python",
   "name": "python3"
  },
  "language_info": {
   "codemirror_mode": {
    "name": "ipython",
    "version": 3
   },
   "file_extension": ".py",
   "mimetype": "text/x-python",
   "name": "python",
   "nbconvert_exporter": "python",
   "pygments_lexer": "ipython3",
   "version": "3.12.6"
  }
 },
 "nbformat": 4,
 "nbformat_minor": 5
}

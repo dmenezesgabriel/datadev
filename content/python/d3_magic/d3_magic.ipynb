{
 "cells": [
  {
   "cell_type": "code",
   "execution_count": 1,
   "id": "f8aca564",
   "metadata": {},
   "outputs": [],
   "source": [
    "import d3_magic"
   ]
  },
  {
   "cell_type": "code",
   "execution_count": 3,
   "id": "9be5db40",
   "metadata": {},
   "outputs": [
    {
     "data": {
      "text/html": [
       "\n",
       "    <iframe\n",
       "        style=\"border: none\"\n",
       "        width=\"100%\"\n",
       "        height=\"350px\"\n",
       "        sandbox=\"allow-scripts allow-modals\"\n",
       "        referrerpolicy=\"no-referrer\"\n",
       "        src=\"data:text/html;charset=UTF-8,%0A%20%20%20%20%20%20%20%20%3Chtml%3E%0A%20%20%20%20%20%20%20%20%20%20%20%20%3Cbody%3E%0A%20%20%20%20%20%20%20%20%20%20%20%20%3Cscript%20src%3D%27https%3A%2F%2Fcdnjs.cloudflare.com%2Fajax%2Flibs%2Fd3%2F4.13.0%2Fd3.min.js%27%20integrity%3D%22sha512-RJJ1NNC88QhN7dwpCY8rm%2F6OxI%2BYdQP48DrLGe%2FeSAd%2Bn%2Bs1PXwQkkpzzAgoJe4cZFW2GALQoxox61gSY2yQfg%3D%3D%22%20crossorigin%3D%22anonymous%22%3E%3C%2Fscript%3E%0A%20%20%20%20%20%20%20%20%20%20%20%20%3Cscript%3Edocument.body.onload%20%3D%20function%20%28%29%20%7B%20var%20svg%20%3D%20d3.select%28%22body%22%29%0A%20%20%20%20.append%28%22svg%22%29%0A%20%20%20%20.attr%28%22width%22%2C%20300%29%0A%20%20%20%20.attr%28%22height%22%2C%20300%29%0A%0Asvg.append%28%22circle%22%29%0A%20%20%20%20.style%28%22stroke%22%2C%20%22gray%22%29%0A%20%20%20%20.style%28%22fill%22%2C%20%22cyan%22%29%0A%20%20%20%20.attr%28%22r%22%2C%20130%29%0A%20%20%20%20.attr%28%22cx%22%2C%20150%29%0A%20%20%20%20.attr%28%22cy%22%2C%20150%29%0A%20%7D%3C%2Fscript%3E%0A%20%20%20%20%20%20%20%20%20%20%20%20%3C%2Fbody%3E%0A%20%20%20%20%20%20%20%20%3C%2Fhtml%3E%0A%20%20%20%20%20%20%20%20\"\n",
       "    ></iframe>\n",
       "    "
      ],
      "text/plain": [
       "<IPython.core.display.HTML object>"
      ]
     },
     "execution_count": 3,
     "metadata": {},
     "output_type": "execute_result"
    }
   ],
   "source": [
    "%%d3\n",
    "var svg = d3.select(\"body\")\n",
    "    .append(\"svg\")\n",
    "    .attr(\"width\", 300)\n",
    "    .attr(\"height\", 300)\n",
    "\n",
    "svg.append(\"circle\")\n",
    "    .style(\"stroke\", \"gray\")\n",
    "    .style(\"fill\", \"cyan\")\n",
    "    .attr(\"r\", 130)\n",
    "    .attr(\"cx\", 150)\n",
    "    .attr(\"cy\", 150)"
   ]
  }
 ],
 "metadata": {
  "kernelspec": {
   "display_name": ".venv",
   "language": "python",
   "name": "python3"
  },
  "language_info": {
   "codemirror_mode": {
    "name": "ipython",
    "version": 3
   },
   "file_extension": ".py",
   "mimetype": "text/x-python",
   "name": "python",
   "nbconvert_exporter": "python",
   "pygments_lexer": "ipython3",
   "version": "3.12.6"
  }
 },
 "nbformat": 4,
 "nbformat_minor": 5
}

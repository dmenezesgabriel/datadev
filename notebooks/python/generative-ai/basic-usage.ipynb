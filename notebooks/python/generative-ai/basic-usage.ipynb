{
 "cells": [
  {
   "cell_type": "markdown",
   "id": "c6f33eb9",
   "metadata": {},
   "source": [
    "# Generative UI - Basics\n"
   ]
  },
  {
   "cell_type": "markdown",
   "id": "85de4f92",
   "metadata": {},
   "source": [
    "Install packages\n"
   ]
  },
  {
   "cell_type": "code",
   "execution_count": 21,
   "id": "bdbc3175",
   "metadata": {},
   "outputs": [],
   "source": [
    "!uv pip install -q \\\n",
    "    litellm==1.78.5 \\\n",
    "    python-dotenv==1.1.1\n"
   ]
  },
  {
   "cell_type": "markdown",
   "id": "cf3f6d21",
   "metadata": {},
   "source": [
    "Import packages\n"
   ]
  },
  {
   "cell_type": "code",
   "execution_count": null,
   "id": "7898699d",
   "metadata": {},
   "outputs": [
    {
     "data": {
      "text/plain": [
       "True"
      ]
     },
     "execution_count": 22,
     "metadata": {},
     "output_type": "execute_result"
    }
   ],
   "source": [
    "import litellm\n",
    "from dotenv import load_dotenv\n",
    "\n",
    "load_dotenv()"
   ]
  },
  {
   "cell_type": "markdown",
   "id": "59531771",
   "metadata": {},
   "source": [
    "Define messages\n",
    "\n",
    "- System message, defined once\n",
    "- User messages\n"
   ]
  },
  {
   "cell_type": "code",
   "execution_count": null,
   "id": "ec5031e0",
   "metadata": {},
   "outputs": [],
   "source": [
    "messages = [\n",
    "    {\"role\": \"system\", \"content\": \"You're a helpful assistant.\"},\n",
    "    {\n",
    "        \"role\": \"user\",\n",
    "        \"content\": \"Write a limerick about the Python programming language.\",\n",
    "    },\n",
    "]"
   ]
  },
  {
   "cell_type": "markdown",
   "id": "5e755ec0",
   "metadata": {},
   "source": [
    "Get chat completion\n"
   ]
  },
  {
   "cell_type": "code",
   "execution_count": null,
   "id": "113fe0ec",
   "metadata": {},
   "outputs": [
    {
     "name": "stdout",
     "output_type": "stream",
     "text": [
      "There once was a coder named Sue,\n",
      "Whose programs in Python all flew.\n",
      "With syntax so neat,\n",
      "And libraries sweet,\n",
      "Her projects were simple and new.\n",
      "\n"
     ]
    }
   ],
   "source": [
    "completion = litellm.completion(\n",
    "    model=\"gemini/gemini-2.0-flash\",\n",
    "    messages=messages,\n",
    ")\n",
    "\n",
    "response = completion.choices[0].message.content\n",
    "print(response)"
   ]
  }
 ],
 "metadata": {
  "kernelspec": {
   "display_name": "uv-3.12",
   "language": "python",
   "name": "uv-3.12"
  },
  "language_info": {
   "codemirror_mode": {
    "name": "ipython",
    "version": 3
   },
   "file_extension": ".py",
   "mimetype": "text/x-python",
   "name": "python",
   "nbconvert_exporter": "python",
   "pygments_lexer": "ipython3",
   "version": "3.12.12"
  }
 },
 "nbformat": 4,
 "nbformat_minor": 5
}

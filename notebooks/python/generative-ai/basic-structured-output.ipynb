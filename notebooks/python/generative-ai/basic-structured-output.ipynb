{
 "cells": [
  {
   "cell_type": "markdown",
   "id": "996595e7",
   "metadata": {},
   "source": [
    "# Generative AI - Structured Output\n"
   ]
  },
  {
   "cell_type": "markdown",
   "id": "0788f5c9",
   "metadata": {},
   "source": [
    "Install packages\n"
   ]
  },
  {
   "cell_type": "code",
   "execution_count": 1,
   "id": "c6a60d26",
   "metadata": {},
   "outputs": [],
   "source": [
    "!uv pip install -q \\\n",
    "    litellm==1.78.5 \\\n",
    "    python-dotenv==1.1.1 \\\n",
    "    pydantic==2.12.3\n"
   ]
  },
  {
   "cell_type": "markdown",
   "id": "50ebea3f",
   "metadata": {},
   "source": [
    "Import packages\n"
   ]
  },
  {
   "cell_type": "code",
   "execution_count": null,
   "id": "27abb079",
   "metadata": {},
   "outputs": [
    {
     "data": {
      "text/plain": [
       "True"
      ]
     },
     "execution_count": 2,
     "metadata": {},
     "output_type": "execute_result"
    }
   ],
   "source": [
    "import litellm\n",
    "from dotenv import load_dotenv\n",
    "from pydantic import BaseModel\n",
    "\n",
    "load_dotenv()"
   ]
  },
  {
   "cell_type": "markdown",
   "id": "ffb5fc84",
   "metadata": {},
   "source": [
    "Define output structure\n"
   ]
  },
  {
   "cell_type": "code",
   "execution_count": null,
   "id": "84ac1a37",
   "metadata": {},
   "outputs": [],
   "source": [
    "class CalendarEvent(BaseModel):\n",
    "    name: str\n",
    "    date: str\n",
    "    participants: list[str]"
   ]
  },
  {
   "cell_type": "markdown",
   "id": "8a67b556",
   "metadata": {},
   "source": [
    "Define messages\n",
    "\n",
    "- System message, defined once\n",
    "- User messages\n"
   ]
  },
  {
   "cell_type": "code",
   "execution_count": null,
   "id": "fce6df07",
   "metadata": {},
   "outputs": [],
   "source": [
    "messages = [\n",
    "    {\"role\": \"system\", \"content\": \"Extract the event information.\"},\n",
    "    {\n",
    "        \"role\": \"user\",\n",
    "        \"content\": \"Alice and Bob are going to a science fair on friday.\",\n",
    "    },\n",
    "]"
   ]
  },
  {
   "cell_type": "markdown",
   "id": "7d763ea8",
   "metadata": {},
   "source": [
    "Get chat completion\n"
   ]
  },
  {
   "cell_type": "code",
   "execution_count": null,
   "id": "f400558b",
   "metadata": {},
   "outputs": [
    {
     "name": "stdout",
     "output_type": "stream",
     "text": [
      "{\n",
      "  \"name\": \"science fair\",\n",
      "  \"date\": \"friday\",\n",
      "  \"participants\": [\"Alice\", \"Bob\"]\n",
      "}\n"
     ]
    }
   ],
   "source": [
    "completion = litellm.completion(\n",
    "    model=\"gemini/gemini-2.0-flash\",\n",
    "    messages=messages,\n",
    "    response_format=CalendarEvent,\n",
    ")\n",
    "\n",
    "response = completion.choices[0].message.content\n",
    "print(response)"
   ]
  }
 ],
 "metadata": {
  "kernelspec": {
   "display_name": "uv-3.12",
   "language": "python",
   "name": "uv-3.12"
  },
  "language_info": {
   "codemirror_mode": {
    "name": "ipython",
    "version": 3
   },
   "file_extension": ".py",
   "mimetype": "text/x-python",
   "name": "python",
   "nbconvert_exporter": "python",
   "pygments_lexer": "ipython3",
   "version": "3.12.12"
  }
 },
 "nbformat": 4,
 "nbformat_minor": 5
}

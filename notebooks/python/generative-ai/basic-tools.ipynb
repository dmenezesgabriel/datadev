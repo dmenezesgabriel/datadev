{
 "cells": [
  {
   "cell_type": "markdown",
   "id": "d45e5878",
   "metadata": {},
   "source": [
    "# Generative AI - Tools\n"
   ]
  },
  {
   "cell_type": "markdown",
   "id": "12134aea",
   "metadata": {},
   "source": [
    "Install packages\n"
   ]
  },
  {
   "cell_type": "code",
   "execution_count": 12,
   "id": "2d0e2174",
   "metadata": {},
   "outputs": [],
   "source": [
    "!uv pip install -q \\\n",
    "    litellm==1.78.5 \\\n",
    "    python-dotenv==1.1.1 \\\n",
    "    pydantic==2.12.3\n"
   ]
  },
  {
   "cell_type": "markdown",
   "id": "2d4765d4",
   "metadata": {},
   "source": [
    "Import packages\n"
   ]
  },
  {
   "cell_type": "code",
   "execution_count": null,
   "id": "13c2c872",
   "metadata": {},
   "outputs": [
    {
     "data": {
      "text/plain": [
       "True"
      ]
     },
     "execution_count": 13,
     "metadata": {},
     "output_type": "execute_result"
    }
   ],
   "source": [
    "import json\n",
    "\n",
    "import litellm\n",
    "from dotenv import load_dotenv\n",
    "from pydantic import BaseModel, Field\n",
    "\n",
    "load_dotenv()"
   ]
  },
  {
   "cell_type": "markdown",
   "id": "02c7ea2e",
   "metadata": {},
   "source": [
    "Define Weather Tool\n"
   ]
  },
  {
   "cell_type": "code",
   "execution_count": null,
   "id": "b42f0946",
   "metadata": {},
   "outputs": [],
   "source": [
    "def get_weather(location: str):\n",
    "    return f\"The temperature in {location} is 20°C.\""
   ]
  },
  {
   "cell_type": "markdown",
   "id": "c94311a4",
   "metadata": {},
   "source": [
    "Define tools specification\n"
   ]
  },
  {
   "cell_type": "code",
   "execution_count": null,
   "id": "51793ef1",
   "metadata": {},
   "outputs": [],
   "source": [
    "tools = [\n",
    "    {\n",
    "        \"type\": \"function\",\n",
    "        \"name\": \"get_weather\",\n",
    "        \"description\": \"Get current temperature for provided coordinates in celsius.\",\n",
    "        \"parameters\": {\n",
    "            \"type\": \"object\",\n",
    "            \"properties\": {\n",
    "                \"location\": {\"type\": \"string\"},\n",
    "            },\n",
    "            \"required\": [\"location\"],\n",
    "            \"additionalProperties\": False,\n",
    "        },\n",
    "        \"strict\": True,\n",
    "    }\n",
    "]"
   ]
  },
  {
   "cell_type": "markdown",
   "id": "d30a40ce",
   "metadata": {},
   "source": [
    "Define messages\n",
    "\n",
    "- System message, defined once\n",
    "- User messages\n"
   ]
  },
  {
   "cell_type": "code",
   "execution_count": null,
   "id": "35960920",
   "metadata": {},
   "outputs": [],
   "source": [
    "messages = [\n",
    "    {\"role\": \"system\", \"content\": \"You're a helpful weather assistant.\"},\n",
    "    {\n",
    "        \"role\": \"user\",\n",
    "        \"content\": \"What's the weather like in Paris today?\",\n",
    "    },\n",
    "]"
   ]
  },
  {
   "cell_type": "markdown",
   "id": "82755367",
   "metadata": {},
   "source": [
    "Get chat completion\n"
   ]
  },
  {
   "cell_type": "code",
   "execution_count": null,
   "id": "1fc21372",
   "metadata": {},
   "outputs": [
    {
     "name": "stdout",
     "output_type": "stream",
     "text": [
      "[ChatCompletionMessageToolCall(index=0, function=Function(arguments='{\"location\": \"Paris\"}', name='get_weather'), id='call_13e08dde992747ef881da39ef4db', type='function')]\n"
     ]
    }
   ],
   "source": [
    "completion = litellm.completion(\n",
    "    model=\"gemini/gemini-2.0-flash\",\n",
    "    messages=messages,\n",
    "    tools=tools,\n",
    ")\n",
    "\n",
    "print(completion.choices[0].message.tool_calls)"
   ]
  },
  {
   "cell_type": "markdown",
   "id": "f889cf51",
   "metadata": {},
   "source": [
    "Call the function and append its result to messages list\n"
   ]
  },
  {
   "cell_type": "code",
   "execution_count": null,
   "id": "b1950bee",
   "metadata": {},
   "outputs": [
    {
     "data": {
      "text/plain": [
       "[{'role': 'system', 'content': \"You're a helpful weather assistant.\"},\n",
       " {'role': 'user', 'content': \"What's the weather like in Paris today?\"},\n",
       " Message(content=None, role='assistant', tool_calls=[ChatCompletionMessageToolCall(index=0, function=Function(arguments='{\"location\": \"Paris\"}', name='get_weather'), id='call_13e08dde992747ef881da39ef4db', type='function')], function_call=None, images=[], thinking_blocks=[], provider_specific_fields=None),\n",
       " {'role': 'tool',\n",
       "  'tool_call_id': 'call_13e08dde992747ef881da39ef4db',\n",
       "  'content': 'The temperature in Paris is 20°C.'}]"
      ]
     },
     "execution_count": 18,
     "metadata": {},
     "output_type": "execute_result"
    }
   ],
   "source": [
    "def call_function(name, args):\n",
    "    if name == \"get_weather\":\n",
    "        return get_weather(**args)\n",
    "\n",
    "\n",
    "for tool_call in completion.choices[0].message.tool_calls:\n",
    "    name = tool_call.function.name\n",
    "    args = json.loads(tool_call.function.arguments)\n",
    "    messages.append(completion.choices[0].message)\n",
    "\n",
    "    result = call_function(name, args)\n",
    "    messages.append(\n",
    "        {\n",
    "            \"role\": \"tool\",\n",
    "            \"tool_call_id\": tool_call.id,\n",
    "            \"content\": result,\n",
    "        }\n",
    "    )\n",
    "\n",
    "messages"
   ]
  },
  {
   "cell_type": "markdown",
   "id": "15f429f6",
   "metadata": {},
   "source": [
    "Define output structure\n"
   ]
  },
  {
   "cell_type": "code",
   "execution_count": null,
   "id": "bc06a677",
   "metadata": {},
   "outputs": [],
   "source": [
    "class WeatherResponse(BaseModel):\n",
    "    location: str = Field(\n",
    "        ..., description=\"The location for which the weather is reported.\"\n",
    "    )\n",
    "    temperature: float = Field(\n",
    "        ..., description=\"The current temperature in Celsius.\"\n",
    "    )"
   ]
  },
  {
   "cell_type": "markdown",
   "id": "2ae00a11",
   "metadata": {},
   "source": [
    "Supply results and call the model again\n"
   ]
  },
  {
   "cell_type": "code",
   "execution_count": null,
   "id": "5acf2fd2",
   "metadata": {},
   "outputs": [
    {
     "name": "stdout",
     "output_type": "stream",
     "text": [
      "{\n",
      "  \"location\": \"Paris\",\n",
      "  \"temperature\": 20\n",
      "}\n"
     ]
    }
   ],
   "source": [
    "completion_2 = litellm.completion(\n",
    "    model=\"gemini/gemini-2.0-flash\",\n",
    "    messages=messages,\n",
    "    tools=tools,\n",
    "    response_format=WeatherResponse,\n",
    ")\n",
    "\n",
    "response = completion_2.choices[0].message.content\n",
    "print(response)"
   ]
  }
 ],
 "metadata": {
  "kernelspec": {
   "display_name": "uv-3.12",
   "language": "python",
   "name": "uv-3.12"
  },
  "language_info": {
   "codemirror_mode": {
    "name": "ipython",
    "version": 3
   },
   "file_extension": ".py",
   "mimetype": "text/x-python",
   "name": "python",
   "nbconvert_exporter": "python",
   "pygments_lexer": "ipython3",
   "version": "3.12.12"
  }
 },
 "nbformat": 4,
 "nbformat_minor": 5
}

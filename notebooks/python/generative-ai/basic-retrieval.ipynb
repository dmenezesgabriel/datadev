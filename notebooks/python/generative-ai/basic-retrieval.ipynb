{
 "cells": [
  {
   "cell_type": "markdown",
   "id": "f40d4df6",
   "metadata": {},
   "source": [
    "# Generative AI - Retrieval\n"
   ]
  },
  {
   "cell_type": "markdown",
   "id": "23dcc3d3",
   "metadata": {},
   "source": [
    "Install packages\n"
   ]
  },
  {
   "cell_type": "code",
   "execution_count": 1,
   "id": "b3387dba",
   "metadata": {},
   "outputs": [],
   "source": [
    "!uv pip install -q \\\n",
    "    litellm==1.78.5 \\\n",
    "    python-dotenv==1.1.1 \\\n",
    "    pydantic==2.12.3\n"
   ]
  },
  {
   "cell_type": "markdown",
   "id": "c27be583",
   "metadata": {},
   "source": [
    "Import packages\n"
   ]
  },
  {
   "cell_type": "code",
   "execution_count": null,
   "id": "ebee7bc4",
   "metadata": {},
   "outputs": [
    {
     "data": {
      "text/plain": [
       "True"
      ]
     },
     "execution_count": 2,
     "metadata": {},
     "output_type": "execute_result"
    }
   ],
   "source": [
    "import json\n",
    "\n",
    "import litellm\n",
    "from dotenv import load_dotenv\n",
    "from pydantic import BaseModel, Field\n",
    "\n",
    "load_dotenv()"
   ]
  },
  {
   "cell_type": "markdown",
   "id": "b59ea001",
   "metadata": {},
   "source": [
    "Define knowledge base\n"
   ]
  },
  {
   "cell_type": "code",
   "execution_count": null,
   "id": "2df2a57f",
   "metadata": {},
   "outputs": [],
   "source": [
    "def search_kb(question: str):\n",
    "    return str(\n",
    "        {\n",
    "            \"records\": [\n",
    "                {\n",
    "                    \"id\": 1,\n",
    "                    \"question\": \"What is the return policy?\",\n",
    "                    \"answer\": \"Items can be returned within 30 days of purchase with original receipt. Refunds will be processed to the original payment method within 5-7 business days.\",\n",
    "                },\n",
    "                {\n",
    "                    \"id\": 2,\n",
    "                    \"question\": \"Do you ship internationally?\",\n",
    "                    \"answer\": \"Yes, we ship to over 50 countries worldwide. International shipping typically takes 7-14 business days and costs vary by destination. Please note that customs fees may apply.\",\n",
    "                },\n",
    "                {\n",
    "                    \"id\": 3,\n",
    "                    \"question\": \"What payment methods do you accept?\",\n",
    "                    \"answer\": \"We accept Visa, Mastercard, American Express, PayPal, and Apple Pay. All payments are processed securely through our encrypted payment system.\",\n",
    "                },\n",
    "            ]\n",
    "        }\n",
    "    )"
   ]
  },
  {
   "cell_type": "markdown",
   "id": "36fb1dba",
   "metadata": {},
   "source": [
    "Define tools specification\n"
   ]
  },
  {
   "cell_type": "code",
   "execution_count": null,
   "id": "c8282571",
   "metadata": {},
   "outputs": [],
   "source": [
    "tools = [\n",
    "    {\n",
    "        \"type\": \"function\",\n",
    "        \"name\": \"search_kb\",\n",
    "        \"description\": \"Get the answer to the user's question from the knowledge base.\",\n",
    "        \"parameters\": {\n",
    "            \"type\": \"object\",\n",
    "            \"properties\": {\n",
    "                \"question\": {\"type\": \"string\"},\n",
    "            },\n",
    "            \"required\": [\"question\"],\n",
    "            \"additionalProperties\": False,\n",
    "        },\n",
    "        \"strict\": True,\n",
    "    }\n",
    "]"
   ]
  },
  {
   "cell_type": "markdown",
   "id": "08b9fa5f",
   "metadata": {},
   "source": [
    "Define messages\n",
    "\n",
    "- System message, defined once\n",
    "- User messages\n"
   ]
  },
  {
   "cell_type": "code",
   "execution_count": null,
   "id": "10bbc084",
   "metadata": {},
   "outputs": [],
   "source": [
    "messages = [\n",
    "    {\n",
    "        \"role\": \"system\",\n",
    "        \"content\": \"You are a helpful assistant that answers questions from the knowledge base about our e-commerce store.\",\n",
    "    },\n",
    "    {\n",
    "        \"role\": \"user\",\n",
    "        \"content\": \"What is the return policy?\",\n",
    "    },\n",
    "]"
   ]
  },
  {
   "cell_type": "markdown",
   "id": "a7277b83",
   "metadata": {},
   "source": [
    "Get chat completion\n"
   ]
  },
  {
   "cell_type": "code",
   "execution_count": null,
   "id": "4d62c83b",
   "metadata": {},
   "outputs": [
    {
     "name": "stdout",
     "output_type": "stream",
     "text": [
      "[ChatCompletionMessageToolCall(index=0, function=Function(arguments='{\"question\": \"What is the return policy?\"}', name='search_kb'), id='call_2ed16bb9ed424be8aeb1eea38408', type='function')]\n"
     ]
    }
   ],
   "source": [
    "completion = litellm.completion(\n",
    "    model=\"gemini/gemini-2.0-flash\",\n",
    "    messages=messages,\n",
    "    tools=tools,\n",
    ")\n",
    "\n",
    "print(completion.choices[0].message.tool_calls)"
   ]
  },
  {
   "cell_type": "markdown",
   "id": "ce00c269",
   "metadata": {},
   "source": [
    "Call the function and append its result to messages list\n"
   ]
  },
  {
   "cell_type": "code",
   "execution_count": null,
   "id": "e2745f56",
   "metadata": {},
   "outputs": [
    {
     "data": {
      "text/plain": [
       "[{'role': 'system',\n",
       "  'content': 'You are a helpful assistant that answers questions from the knowledge base about our e-commerce store.'},\n",
       " {'role': 'user', 'content': 'What is the return policy?'},\n",
       " Message(content=None, role='assistant', tool_calls=[ChatCompletionMessageToolCall(index=0, function=Function(arguments='{\"question\": \"What is the return policy?\"}', name='search_kb'), id='call_2ed16bb9ed424be8aeb1eea38408', type='function')], function_call=None, images=[], thinking_blocks=[], provider_specific_fields=None),\n",
       " {'role': 'tool',\n",
       "  'tool_call_id': 'call_2ed16bb9ed424be8aeb1eea38408',\n",
       "  'content': '\"{\\'records\\': [{\\'id\\': 1, \\'question\\': \\'What is the return policy?\\', \\'answer\\': \\'Items can be returned within 30 days of purchase with original receipt. Refunds will be processed to the original payment method within 5-7 business days.\\'}, {\\'id\\': 2, \\'question\\': \\'Do you ship internationally?\\', \\'answer\\': \\'Yes, we ship to over 50 countries worldwide. International shipping typically takes 7-14 business days and costs vary by destination. Please note that customs fees may apply.\\'}, {\\'id\\': 3, \\'question\\': \\'What payment methods do you accept?\\', \\'answer\\': \\'We accept Visa, Mastercard, American Express, PayPal, and Apple Pay. All payments are processed securely through our encrypted payment system.\\'}]}\"'}]"
      ]
     },
     "execution_count": 10,
     "metadata": {},
     "output_type": "execute_result"
    }
   ],
   "source": [
    "def call_function(name, args):\n",
    "    if name == \"search_kb\":\n",
    "        return search_kb(**args)\n",
    "\n",
    "\n",
    "for tool_call in completion.choices[0].message.tool_calls:\n",
    "    name = tool_call.function.name\n",
    "    args = json.loads(tool_call.function.arguments)\n",
    "    messages.append(completion.choices[0].message)\n",
    "\n",
    "    result = call_function(name, args)\n",
    "    messages.append(\n",
    "        {\n",
    "            \"role\": \"tool\",\n",
    "            \"tool_call_id\": tool_call.id,\n",
    "            \"content\": json.dumps(result),\n",
    "        }\n",
    "    )\n",
    "\n",
    "messages"
   ]
  },
  {
   "cell_type": "markdown",
   "id": "78f1c88f",
   "metadata": {},
   "source": [
    "Define output structure\n"
   ]
  },
  {
   "cell_type": "code",
   "execution_count": null,
   "id": "f0b7628f",
   "metadata": {},
   "outputs": [],
   "source": [
    "class KBResponse(BaseModel):\n",
    "    answer: str = Field(\n",
    "        description=\"The answer to the user's question from the knowledge base.\"\n",
    "    )\n",
    "    source: str = Field(\n",
    "        description=\"The record id of the knowledge base entry that was used to answer the question.\"\n",
    "    )"
   ]
  },
  {
   "cell_type": "markdown",
   "id": "54f14fca",
   "metadata": {},
   "source": [
    "Supply results and call the model again\n"
   ]
  },
  {
   "cell_type": "code",
   "execution_count": null,
   "id": "9d72ea61",
   "metadata": {},
   "outputs": [
    {
     "name": "stdout",
     "output_type": "stream",
     "text": [
      "{\n",
      "  \"answer\": \"Items can be returned within 30 days of purchase with original receipt. Refunds will be processed to the original payment method within 5-7 business days.\",\n",
      "  \"source\": \"1\"\n",
      "}\n"
     ]
    }
   ],
   "source": [
    "completion_2 = litellm.completion(\n",
    "    model=\"gemini/gemini-2.0-flash\",\n",
    "    messages=messages,\n",
    "    tools=tools,\n",
    "    response_format=KBResponse,\n",
    ")\n",
    "\n",
    "print(completion_2.choices[0].message.content)"
   ]
  }
 ],
 "metadata": {
  "kernelspec": {
   "display_name": "uv-3.12",
   "language": "python",
   "name": "uv-3.12"
  },
  "language_info": {
   "codemirror_mode": {
    "name": "ipython",
    "version": 3
   },
   "file_extension": ".py",
   "mimetype": "text/x-python",
   "name": "python",
   "nbconvert_exporter": "python",
   "pygments_lexer": "ipython3",
   "version": "3.12.12"
  }
 },
 "nbformat": 4,
 "nbformat_minor": 5
}

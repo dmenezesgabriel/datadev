{
  "cells": [
    {
      "cell_type": "code",
      "execution_count": 63,
      "id": "a8de3ced-83ee-4ceb-bb61-8d9019ac0cec",
      "metadata": {
        "trusted": true
      },
      "outputs": [
        {
          "name": "stdout",
          "output_type": "stream",
          "text": [
            "\u001b[2mAudited \u001b[1m1 package\u001b[0m \u001b[2min 11ms\u001b[0m\u001b[0m\n"
          ]
        }
      ],
      "source": [
        "!uv pip install numpy==2.3.0\n",
        "# %pip install numpy==2.3.0"
      ]
    },
    {
      "cell_type": "code",
      "execution_count": null,
      "id": "164a1cde-0ada-400f-811d-d008e6c91519",
      "metadata": {
        "trusted": true
      },
      "outputs": [],
      "source": [
        "import numpy as np"
      ]
    },
    {
      "cell_type": "code",
      "execution_count": null,
      "id": "ee4e1bc2-5d24-471b-b7e6-f5700c800444",
      "metadata": {
        "trusted": true
      },
      "outputs": [
        {
          "name": "stdout",
          "output_type": "stream",
          "text": [
            "[1 2 3 4 5]\n",
            "<class 'numpy.ndarray'>\n",
            "(5,)\n"
          ]
        }
      ],
      "source": [
        "array1 = np.array([1, 2, 3, 4, 5])\n",
        "print(array1)\n",
        "print(type(array1))\n",
        "print(array1.shape)"
      ]
    },
    {
      "cell_type": "code",
      "execution_count": null,
      "id": "abb670de-8fa6-4757-89d0-c973ca3a0493",
      "metadata": {
        "trusted": true
      },
      "outputs": [
        {
          "data": {
            "text/plain": [
              "array([[1, 2, 3, 4, 5]])"
            ]
          },
          "execution_count": 16,
          "metadata": {},
          "output_type": "execute_result"
        }
      ],
      "source": [
        "array2 = np.array([1, 2, 3, 4, 5])\n",
        "array2.reshape(1, 5)  # 1 row, 5 columns"
      ]
    },
    {
      "cell_type": "code",
      "execution_count": null,
      "id": "fb47c6de-aa95-44e0-9d86-ac9d8496cdd3",
      "metadata": {
        "trusted": true
      },
      "outputs": [
        {
          "data": {
            "text/plain": [
              "(1, 5)"
            ]
          },
          "execution_count": 17,
          "metadata": {},
          "output_type": "execute_result"
        }
      ],
      "source": [
        "array3 = np.array([[1, 2, 3, 4, 5]])\n",
        "array3.shape"
      ]
    },
    {
      "cell_type": "code",
      "execution_count": null,
      "id": "60893b2e-a800-46d4-af79-303a0f80cc2e",
      "metadata": {
        "trusted": true
      },
      "outputs": [
        {
          "name": "stdout",
          "output_type": "stream",
          "text": [
            "[[1 2 3 4 5]\n",
            " [2 3 4 5 6]]\n",
            "(2, 5)\n"
          ]
        }
      ],
      "source": [
        "array4 = np.array([[1, 2, 3, 4, 5], [2, 3, 4, 5, 6]])\n",
        "print(array4)\n",
        "print(array4.shape)"
      ]
    },
    {
      "cell_type": "code",
      "execution_count": null,
      "id": "d38b96f1-11c7-402e-a635-33729b6d1a9b",
      "metadata": {
        "trusted": true
      },
      "outputs": [
        {
          "data": {
            "text/plain": [
              "array([[0],\n",
              "       [2],\n",
              "       [4],\n",
              "       [6],\n",
              "       [8]])"
            ]
          },
          "execution_count": 19,
          "metadata": {},
          "output_type": "execute_result"
        }
      ],
      "source": [
        "# 0 - 10, from 2 to 2\n",
        "np.arange(0, 10, 2).reshape(5, 1)"
      ]
    },
    {
      "cell_type": "code",
      "execution_count": null,
      "id": "38183702-dcbb-4d68-bdf0-cecd1d304f7d",
      "metadata": {
        "trusted": true
      },
      "outputs": [
        {
          "data": {
            "text/plain": [
              "array([[1., 1., 1., 1.],\n",
              "       [1., 1., 1., 1.],\n",
              "       [1., 1., 1., 1.]])"
            ]
          },
          "execution_count": 20,
          "metadata": {},
          "output_type": "execute_result"
        }
      ],
      "source": [
        "np.ones((3, 4))  # 3 rows, 4 columns of number one"
      ]
    },
    {
      "cell_type": "code",
      "execution_count": null,
      "id": "e45ecd60-b51d-40f3-930f-ad70dbf01be5",
      "metadata": {
        "scrolled": true,
        "trusted": true
      },
      "outputs": [
        {
          "data": {
            "text/plain": [
              "array([[1., 0., 0.],\n",
              "       [0., 1., 0.],\n",
              "       [0., 0., 1.]])"
            ]
          },
          "execution_count": 21,
          "metadata": {},
          "output_type": "execute_result"
        }
      ],
      "source": [
        "## entity matrix\n",
        "np.eye(3)"
      ]
    },
    {
      "cell_type": "code",
      "execution_count": null,
      "id": "a871695a",
      "metadata": {},
      "outputs": [
        {
          "name": "stdout",
          "output_type": "stream",
          "text": [
            "Array: [[1 2 3]\n",
            " [4 5 6]]\n",
            "\n",
            "(Rows, Columns): (2, 3)\n",
            "Array number of dimensions: 2\n",
            "Array size: 6\n",
            "Data type: int64\n",
            "Item size (in bytes): 8\n"
          ]
        }
      ],
      "source": [
        "# Array attributes\n",
        "array5 = np.array([[1, 2, 3], [4, 5, 6]])\n",
        "print(f\"Array: {array5}\\n\")\n",
        "print(f\"(Rows, Columns): {array5.shape}\")\n",
        "print(f\"Array number of dimensions: {array5.ndim}\")\n",
        "print(f\"Array size: {array5.size}\")\n",
        "print(f\"Data type: {array5.dtype}\")\n",
        "print(f\"Item size (in bytes): {array5.itemsize}\")"
      ]
    },
    {
      "cell_type": "code",
      "execution_count": null,
      "id": "18d6c806",
      "metadata": {},
      "outputs": [
        {
          "name": "stdout",
          "output_type": "stream",
          "text": [
            "Addition: [11 22 33 44 55]\n",
            "Subtraction: [ -9 -18 -27 -36 -45]\n",
            "Multiplication: [ 10  40  90 160 250]\n",
            "Division: [0.1 0.1 0.1 0.1 0.1]\n"
          ]
        }
      ],
      "source": [
        "# Vectorized operations\n",
        "array6 = np.array([1, 2, 3, 4, 5])\n",
        "array7 = np.array([10, 20, 30, 40, 50])\n",
        "\n",
        "print(f\"Addition: {array6 + array7}\")\n",
        "print(f\"Subtraction: {array6 - array7}\")\n",
        "print(f\"Multiplication: {array6 * array7}\")\n",
        "print(f\"Division: {array6 / array7}\")"
      ]
    },
    {
      "cell_type": "code",
      "execution_count": null,
      "id": "1b1224eb",
      "metadata": {},
      "outputs": [
        {
          "name": "stdout",
          "output_type": "stream",
          "text": [
            "Square root: [1.41421356 1.73205081 2.         2.23606798 2.44948974]\n",
            "Exponential: [  7.3890561   20.08553692  54.59815003 148.4131591  403.42879349]\n",
            "Sine: [ 0.90929743  0.14112001 -0.7568025  -0.95892427 -0.2794155 ]\n",
            "Natural log: [0.69314718 1.09861229 1.38629436 1.60943791 1.79175947]\n"
          ]
        }
      ],
      "source": [
        "# Universal Functions\n",
        "array8 = np.array([2, 3, 4, 5, 6])\n",
        "\n",
        "print(f\"Square root: {np.sqrt(array8)}\")\n",
        "print(f\"Exponential: {np.exp(array8)}\")\n",
        "print(f\"Sine: {np.sin(array8)}\")\n",
        "print(f\"Natural log: {np.log(array8)}\")"
      ]
    },
    {
      "cell_type": "code",
      "execution_count": null,
      "id": "2f1ec8f0",
      "metadata": {},
      "outputs": [
        {
          "data": {
            "text/plain": [
              "array([[ 1,  2,  3,  4],\n",
              "       [ 5,  6,  7,  8],\n",
              "       [ 9, 10, 11, 12]])"
            ]
          },
          "execution_count": 59,
          "metadata": {},
          "output_type": "execute_result"
        }
      ],
      "source": [
        "# Array slicing and indexing\n",
        "array9 = np.array([[1, 2, 3, 4], [5, 6, 7, 8], [9, 10, 11, 12]])\n",
        "array9"
      ]
    }
  ],
  "metadata": {
    "kernelspec": {
      "display_name": "uv-3.12",
      "language": "python",
      "name": "uv-3.12"
    },
    "language_info": {
      "codemirror_mode": {
        "name": "ipython",
        "version": 3
      },
      "file_extension": ".py",
      "mimetype": "text/x-python",
      "name": "python",
      "nbconvert_exporter": "python",
      "pygments_lexer": "ipython3",
      "version": "3.12.6"
    }
  },
  "nbformat": 4,
  "nbformat_minor": 5
}

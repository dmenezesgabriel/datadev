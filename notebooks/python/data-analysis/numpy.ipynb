{
  "cells": [
    {
      "cell_type": "markdown",
      "id": "a388d4ce",
      "metadata": {},
      "source": [
        "# Numpy\n"
      ]
    },
    {
      "cell_type": "markdown",
      "id": "5d5df460",
      "metadata": {},
      "source": [
        "## Install packages\n"
      ]
    },
    {
      "cell_type": "markdown",
      "id": "80aca45b",
      "metadata": {},
      "source": [
        "You can use both pip magic as astral/uv\n"
      ]
    },
    {
      "cell_type": "code",
      "execution_count": null,
      "id": "a8de3ced-83ee-4ceb-bb61-8d9019ac0cec",
      "metadata": {
        "trusted": true
      },
      "outputs": [],
      "source": [
        "!uv pip install -q numpy==2.3.0 sympy==1.14.0\n",
        "# %pip install numpy==2.3.0 sympy==1.14.0"
      ]
    },
    {
      "cell_type": "markdown",
      "id": "d73087bf",
      "metadata": {},
      "source": [
        "## Import packages\n"
      ]
    },
    {
      "cell_type": "code",
      "execution_count": null,
      "id": "164a1cde-0ada-400f-811d-d008e6c91519",
      "metadata": {
        "trusted": true
      },
      "outputs": [],
      "source": [
        "import numpy as np\n",
        "import sympy\n",
        "from IPython.display import Math"
      ]
    },
    {
      "cell_type": "markdown",
      "id": "8091d838",
      "metadata": {},
      "source": [
        "## Usage\n"
      ]
    },
    {
      "cell_type": "markdown",
      "id": "2c38ee72",
      "metadata": {},
      "source": [
        "### Basic\n"
      ]
    },
    {
      "cell_type": "code",
      "execution_count": null,
      "id": "ee4e1bc2-5d24-471b-b7e6-f5700c800444",
      "metadata": {
        "trusted": true
      },
      "outputs": [
        {
          "data": {
            "text/latex": [
              "$\\displaystyle \\left[\\begin{matrix}1\\\\2\\\\3\\\\4\\\\5\\end{matrix}\\right]$"
            ],
            "text/plain": [
              "<IPython.core.display.Math object>"
            ]
          },
          "execution_count": 56,
          "metadata": {},
          "output_type": "execute_result"
        }
      ],
      "source": [
        "array1 = np.array([1, 2, 3, 4, 5])\n",
        "\n",
        "Math(sympy.latex(sympy.Matrix(array1)))"
      ]
    },
    {
      "cell_type": "code",
      "execution_count": null,
      "id": "f08390ce",
      "metadata": {},
      "outputs": [
        {
          "name": "stdout",
          "output_type": "stream",
          "text": [
            "[1 2 3 4 5]\n",
            "<class 'numpy.ndarray'>\n",
            "(5,)\n"
          ]
        }
      ],
      "source": [
        "print(array1)\n",
        "print(type(array1))\n",
        "print(array1.shape)"
      ]
    },
    {
      "cell_type": "code",
      "execution_count": null,
      "id": "abb670de-8fa6-4757-89d0-c973ca3a0493",
      "metadata": {
        "trusted": true
      },
      "outputs": [
        {
          "data": {
            "text/plain": [
              "array([[1, 2, 3, 4, 5]])"
            ]
          },
          "execution_count": 6,
          "metadata": {},
          "output_type": "execute_result"
        }
      ],
      "source": [
        "array2 = np.array([1, 2, 3, 4, 5])\n",
        "array2.reshape(1, 5)  # 1 row, 5 columns"
      ]
    },
    {
      "cell_type": "code",
      "execution_count": null,
      "id": "fb47c6de-aa95-44e0-9d86-ac9d8496cdd3",
      "metadata": {
        "trusted": true
      },
      "outputs": [
        {
          "data": {
            "text/latex": [
              "$\\displaystyle \\left[\\begin{matrix}1 & 2 & 3 & 4 & 5\\end{matrix}\\right]$"
            ],
            "text/plain": [
              "<IPython.core.display.Math object>"
            ]
          },
          "execution_count": 55,
          "metadata": {},
          "output_type": "execute_result"
        }
      ],
      "source": [
        "array3 = np.array([[1, 2, 3, 4, 5]])\n",
        "\n",
        "Math(sympy.latex(sympy.Matrix(array3)))"
      ]
    },
    {
      "cell_type": "code",
      "execution_count": null,
      "id": "2f0ef18c",
      "metadata": {},
      "outputs": [
        {
          "data": {
            "text/plain": [
              "(1, 5)"
            ]
          },
          "execution_count": 35,
          "metadata": {},
          "output_type": "execute_result"
        }
      ],
      "source": [
        "array3.shape"
      ]
    },
    {
      "cell_type": "code",
      "execution_count": null,
      "id": "60893b2e-a800-46d4-af79-303a0f80cc2e",
      "metadata": {
        "trusted": true
      },
      "outputs": [
        {
          "data": {
            "text/latex": [
              "$\\displaystyle \\left[\\begin{matrix}1 & 2 & 3 & 4 & 5\\\\2 & 3 & 4 & 5 & 6\\end{matrix}\\right]$"
            ],
            "text/plain": [
              "<IPython.core.display.Math object>"
            ]
          },
          "execution_count": 54,
          "metadata": {},
          "output_type": "execute_result"
        }
      ],
      "source": [
        "array4 = np.array([[1, 2, 3, 4, 5], [2, 3, 4, 5, 6]])\n",
        "\n",
        "Math(sympy.latex(sympy.Matrix(array4)))"
      ]
    },
    {
      "cell_type": "code",
      "execution_count": null,
      "id": "a7cbfcc2",
      "metadata": {},
      "outputs": [
        {
          "name": "stdout",
          "output_type": "stream",
          "text": [
            "[[1 2 3 4 5]\n",
            " [2 3 4 5 6]]\n",
            "(2, 5)\n"
          ]
        }
      ],
      "source": [
        "print(array4)\n",
        "print(array4.shape)"
      ]
    },
    {
      "cell_type": "code",
      "execution_count": null,
      "id": "d38b96f1-11c7-402e-a635-33729b6d1a9b",
      "metadata": {
        "trusted": true
      },
      "outputs": [
        {
          "data": {
            "text/plain": [
              "array([[0],\n",
              "       [2],\n",
              "       [4],\n",
              "       [6],\n",
              "       [8]])"
            ]
          },
          "execution_count": 9,
          "metadata": {},
          "output_type": "execute_result"
        }
      ],
      "source": [
        "# 0 - 10, from 2 to 2\n",
        "np.arange(0, 10, 2).reshape(5, 1)"
      ]
    },
    {
      "cell_type": "code",
      "execution_count": null,
      "id": "38183702-dcbb-4d68-bdf0-cecd1d304f7d",
      "metadata": {
        "trusted": true
      },
      "outputs": [
        {
          "data": {
            "text/plain": [
              "array([[1., 1., 1., 1.],\n",
              "       [1., 1., 1., 1.],\n",
              "       [1., 1., 1., 1.]])"
            ]
          },
          "execution_count": 10,
          "metadata": {},
          "output_type": "execute_result"
        }
      ],
      "source": [
        "np.ones((3, 4))  # 3 rows, 4 columns of number one"
      ]
    },
    {
      "cell_type": "code",
      "execution_count": null,
      "id": "e45ecd60-b51d-40f3-930f-ad70dbf01be5",
      "metadata": {
        "scrolled": true,
        "trusted": true
      },
      "outputs": [
        {
          "data": {
            "text/plain": [
              "array([[1., 0., 0.],\n",
              "       [0., 1., 0.],\n",
              "       [0., 0., 1.]])"
            ]
          },
          "execution_count": 16,
          "metadata": {},
          "output_type": "execute_result"
        }
      ],
      "source": [
        "# Entity Matrix\n",
        "np.eye(3)"
      ]
    },
    {
      "cell_type": "markdown",
      "id": "c67eda84",
      "metadata": {},
      "source": [
        "### Array attributes\n"
      ]
    },
    {
      "cell_type": "code",
      "execution_count": null,
      "id": "a871695a",
      "metadata": {},
      "outputs": [
        {
          "data": {
            "text/latex": [
              "$\\displaystyle \\left[\\begin{matrix}1 & 2 & 3\\\\4 & 5 & 6\\end{matrix}\\right]$"
            ],
            "text/plain": [
              "<IPython.core.display.Math object>"
            ]
          },
          "execution_count": 53,
          "metadata": {},
          "output_type": "execute_result"
        }
      ],
      "source": [
        "array5 = np.array([[1, 2, 3], [4, 5, 6]])\n",
        "\n",
        "Math(sympy.latex(sympy.Matrix(array5)))"
      ]
    },
    {
      "cell_type": "code",
      "execution_count": null,
      "id": "48624afe",
      "metadata": {},
      "outputs": [
        {
          "name": "stdout",
          "output_type": "stream",
          "text": [
            "Array: [[1 2 3]\n",
            " [4 5 6]]\n",
            "\n",
            "(Rows, Columns): (2, 3)\n",
            "Array number of dimensions: 2\n",
            "Array size: 6\n",
            "Data type: int64\n",
            "Item size (in bytes): 8\n"
          ]
        }
      ],
      "source": [
        "print(f\"Array: {array5}\\n\")\n",
        "print(f\"(Rows, Columns): {array5.shape}\")\n",
        "print(f\"Array number of dimensions: {array5.ndim}\")\n",
        "print(f\"Array size: {array5.size}\")\n",
        "print(f\"Data type: {array5.dtype}\")\n",
        "print(f\"Item size (in bytes): {array5.itemsize}\")"
      ]
    },
    {
      "cell_type": "markdown",
      "id": "de836aae",
      "metadata": {},
      "source": [
        "### Vectorized operations\n"
      ]
    },
    {
      "cell_type": "code",
      "execution_count": null,
      "id": "18d6c806",
      "metadata": {},
      "outputs": [
        {
          "name": "stdout",
          "output_type": "stream",
          "text": [
            "Addition: [11 22 33 44 55]\n",
            "Subtraction: [ -9 -18 -27 -36 -45]\n",
            "Multiplication: [ 10  40  90 160 250]\n",
            "Division: [0.1 0.1 0.1 0.1 0.1]\n"
          ]
        }
      ],
      "source": [
        "array6 = np.array([1, 2, 3, 4, 5])\n",
        "array7 = np.array([10, 20, 30, 40, 50])\n",
        "\n",
        "print(f\"Addition: {array6 + array7}\")\n",
        "print(f\"Subtraction: {array6 - array7}\")\n",
        "print(f\"Multiplication: {array6 * array7}\")\n",
        "print(f\"Division: {array6 / array7}\")"
      ]
    },
    {
      "cell_type": "markdown",
      "id": "4b976298",
      "metadata": {},
      "source": [
        "### Mathematical expressions\n"
      ]
    },
    {
      "cell_type": "code",
      "execution_count": null,
      "id": "1b1224eb",
      "metadata": {},
      "outputs": [
        {
          "name": "stdout",
          "output_type": "stream",
          "text": [
            "Square root: [1.41421356 1.73205081 2.         2.23606798 2.44948974]\n",
            "Exponential: [  7.3890561   20.08553692  54.59815003 148.4131591  403.42879349]\n",
            "Sine: [ 0.90929743  0.14112001 -0.7568025  -0.95892427 -0.2794155 ]\n",
            "Natural log: [0.69314718 1.09861229 1.38629436 1.60943791 1.79175947]\n"
          ]
        }
      ],
      "source": [
        "array8 = np.array([2, 3, 4, 5, 6])\n",
        "\n",
        "print(f\"Square root: {np.sqrt(array8)}\")\n",
        "print(f\"Exponential: {np.exp(array8)}\")\n",
        "print(f\"Sine: {np.sin(array8)}\")\n",
        "print(f\"Natural log: {np.log(array8)}\")"
      ]
    },
    {
      "cell_type": "markdown",
      "id": "b8267bd1",
      "metadata": {},
      "source": [
        "### Array slicing and indexing\n"
      ]
    },
    {
      "cell_type": "code",
      "execution_count": null,
      "id": "2f1ec8f0",
      "metadata": {},
      "outputs": [
        {
          "data": {
            "text/latex": [
              "$\\displaystyle \\left[\\begin{matrix}1 & 2 & 3 & 4\\\\5 & 6 & 7 & 8\\\\9 & 10 & 11 & 12\\end{matrix}\\right]$"
            ],
            "text/plain": [
              "<IPython.core.display.Math object>"
            ]
          },
          "execution_count": 52,
          "metadata": {},
          "output_type": "execute_result"
        }
      ],
      "source": [
        "array9 = np.array([[1, 2, 3, 4], [5, 6, 7, 8], [9, 10, 11, 12]])\n",
        "\n",
        "Math(sympy.latex(sympy.Matrix(array9)))"
      ]
    },
    {
      "cell_type": "code",
      "execution_count": null,
      "id": "48cbf763",
      "metadata": {},
      "outputs": [
        {
          "name": "stdout",
          "output_type": "stream",
          "text": [
            "Array:\n",
            " [[ 1  2  3  4]\n",
            " [ 5  6  7  8]\n",
            " [ 9 10 11 12]]\n",
            "Element in first row and first column: 1\n",
            "From rows from second onwards, columns from third onwards:\n",
            "  [[ 7  8]\n",
            " [11 12]]\n"
          ]
        }
      ],
      "source": [
        "print(f\"Array:\\n {array9}\")\n",
        "\n",
        "print(f\"Element in first row and first column: {array9[0][0]}\")  # array9[0, 0]\n",
        "print(\n",
        "    \"From rows from second onwards, columns from third onwards:\\n \"\n",
        "    f\" {array9[1:, 2:]}\"\n",
        ")"
      ]
    },
    {
      "cell_type": "markdown",
      "id": "dc7bf1e7",
      "metadata": {},
      "source": [
        "### Modify Arrays\n"
      ]
    },
    {
      "cell_type": "code",
      "execution_count": null,
      "id": "0be3b1ec",
      "metadata": {},
      "outputs": [
        {
          "data": {
            "text/latex": [
              "$\\displaystyle \\left[\\begin{matrix}1 & 2 & 3 & 4\\\\5 & 6 & 7 & 8\\\\9 & 10 & 11 & 12\\end{matrix}\\right]$"
            ],
            "text/plain": [
              "<IPython.core.display.Math object>"
            ]
          },
          "execution_count": 60,
          "metadata": {},
          "output_type": "execute_result"
        }
      ],
      "source": [
        "array10 = np.array([[1, 2, 3, 4], [5, 6, 7, 8], [9, 10, 11, 12]])\n",
        "\n",
        "Math(sympy.latex(sympy.Matrix(array10)))"
      ]
    },
    {
      "cell_type": "code",
      "execution_count": null,
      "id": "d51ca11f",
      "metadata": {},
      "outputs": [
        {
          "data": {
            "text/latex": [
              "$\\displaystyle \\left[\\begin{matrix}15 & 2 & 3 & 4\\\\5 & 6 & 7 & 8\\\\9 & 10 & 11 & 12\\end{matrix}\\right]$"
            ],
            "text/plain": [
              "<IPython.core.display.Math object>"
            ]
          },
          "execution_count": 62,
          "metadata": {},
          "output_type": "execute_result"
        }
      ],
      "source": [
        "array10[0, 0] = 15\n",
        "\n",
        "Math(sympy.latex(sympy.Matrix(array10)))"
      ]
    },
    {
      "cell_type": "code",
      "execution_count": null,
      "id": "2b151eeb",
      "metadata": {},
      "outputs": [
        {
          "data": {
            "text/latex": [
              "$\\displaystyle \\left[\\begin{matrix}15 & 2 & 3 & 4\\\\5 & 6 & 7 & 8\\\\20 & 20 & 20 & 20\\end{matrix}\\right]$"
            ],
            "text/plain": [
              "<IPython.core.display.Math object>"
            ]
          },
          "execution_count": 65,
          "metadata": {},
          "output_type": "execute_result"
        }
      ],
      "source": [
        "array10[2:] = 20\n",
        "\n",
        "Math(sympy.latex(sympy.Matrix(array10)))"
      ]
    },
    {
      "cell_type": "markdown",
      "id": "00dbf954",
      "metadata": {},
      "source": [
        "### Statistical applications\n"
      ]
    },
    {
      "cell_type": "markdown",
      "id": "0fbb030e",
      "metadata": {},
      "source": [
        "#### Normalization\n",
        "\n",
        "Mean of zero and standard deviation of 1\n"
      ]
    },
    {
      "cell_type": "code",
      "execution_count": null,
      "id": "3734cd7f",
      "metadata": {},
      "outputs": [
        {
          "data": {
            "text/latex": [
              "$\\displaystyle \\left[\\begin{matrix}1\\\\2\\\\3\\\\4\\\\5\\end{matrix}\\right]$"
            ],
            "text/plain": [
              "<IPython.core.display.Math object>"
            ]
          },
          "execution_count": 68,
          "metadata": {},
          "output_type": "execute_result"
        }
      ],
      "source": [
        "array11 = np.array([1, 2, 3, 4, 5])\n",
        "\n",
        "Math(sympy.latex(sympy.Matrix(array11)))"
      ]
    },
    {
      "cell_type": "code",
      "execution_count": null,
      "id": "ecb76cfa",
      "metadata": {},
      "outputs": [
        {
          "data": {
            "text/latex": [
              "$\\displaystyle \\left[\\begin{matrix}-1.41421356237309\\\\-0.707106781186547\\\\0.0\\\\0.707106781186547\\\\1.41421356237309\\end{matrix}\\right]$"
            ],
            "text/plain": [
              "<IPython.core.display.Math object>"
            ]
          },
          "execution_count": 70,
          "metadata": {},
          "output_type": "execute_result"
        }
      ],
      "source": [
        "mean = np.mean(array11)\n",
        "std_dev = np.std(array11)\n",
        "\n",
        "normalized_array11 = (array11 - mean) / std_dev\n",
        "Math(sympy.latex(sympy.Matrix(normalized_array11)))"
      ]
    },
    {
      "cell_type": "markdown",
      "id": "3990f71a",
      "metadata": {},
      "source": [
        "#### Statistical methods\n"
      ]
    },
    {
      "cell_type": "code",
      "execution_count": null,
      "id": "afa29181",
      "metadata": {},
      "outputs": [
        {
          "name": "stdout",
          "output_type": "stream",
          "text": [
            "Mean: 3.0\n",
            "Median: 3.0\n",
            "Standard Deviation: 1.4142135623730951\n",
            "Variance: 2.0\n"
          ]
        }
      ],
      "source": [
        "array12 = np.array([1, 2, 3, 4, 5])\n",
        "\n",
        "print(f\"Mean: {np.mean(array12)}\")\n",
        "print(f\"Median: {np.median(array12)}\")\n",
        "print(f\"Standard Deviation: {np.std(array12)}\")\n",
        "print(f\"Variance: {np.var(array12)}\")"
      ]
    },
    {
      "cell_type": "markdown",
      "id": "f75ee06b",
      "metadata": {},
      "source": [
        "### Logical Operations\n"
      ]
    },
    {
      "cell_type": "code",
      "execution_count": 77,
      "id": "e4c070fa",
      "metadata": {},
      "outputs": [
        {
          "name": "stdout",
          "output_type": "stream",
          "text": [
            "Data greater than 5:\n",
            "[False False False False False  True  True  True  True  True  True]\n",
            "Data greater than 5 and less than 8:\n",
            "[6 7]\n"
          ]
        }
      ],
      "source": [
        "array13 = np.array([1, 2, 3, 4, 5, 6, 7, 8, 9, 10, 11])\n",
        "\n",
        "print(f\"Data greater than 5:\\n{array13 > 5}\")\n",
        "print(\n",
        "    f\"Data greater than 5 and less than 8:\\n\"\n",
        "    f\"{array13[(array13 > 5) & (array13 < 8)]}\"\n",
        ")"
      ]
    }
  ],
  "metadata": {
    "kernelspec": {
      "display_name": "uv-3.12",
      "language": "python",
      "name": "uv-3.12"
    },
    "language_info": {
      "codemirror_mode": {
        "name": "ipython",
        "version": 3
      },
      "file_extension": ".py",
      "mimetype": "text/x-python",
      "name": "python",
      "nbconvert_exporter": "python",
      "pygments_lexer": "ipython3",
      "version": "3.12.6"
    }
  },
  "nbformat": 4,
  "nbformat_minor": 5
}

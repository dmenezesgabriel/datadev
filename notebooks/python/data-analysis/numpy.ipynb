{
  "metadata": {
    "kernelspec": {
      "name": "python",
      "display_name": "Python (Pyodide)",
      "language": "python"
    },
    "language_info": {
      "codemirror_mode": {
        "name": "python",
        "version": 3
      },
      "file_extension": ".py",
      "mimetype": "text/x-python",
      "name": "python",
      "nbconvert_exporter": "python",
      "pygments_lexer": "ipython3",
      "version": "3.8"
    }
  },
  "nbformat_minor": 5,
  "nbformat": 4,
  "cells": [
    {
      "id": "a8de3ced-83ee-4ceb-bb61-8d9019ac0cec",
      "cell_type": "code",
      "source": "%pip install numpy",
      "metadata": {
        "trusted": true
      },
      "outputs": [],
      "execution_count": 1
    },
    {
      "id": "164a1cde-0ada-400f-811d-d008e6c91519",
      "cell_type": "code",
      "source": "import numpy as np",
      "metadata": {
        "trusted": true
      },
      "outputs": [],
      "execution_count": 2
    },
    {
      "id": "ee4e1bc2-5d24-471b-b7e6-f5700c800444",
      "cell_type": "code",
      "source": "array1 = np.array([1, 2, 3, 4, 5])\nprint(array1)\nprint(type(array1))\nprint(array1.shape)",
      "metadata": {
        "trusted": true
      },
      "outputs": [
        {
          "name": "stdout",
          "output_type": "stream",
          "text": "[1 2 3 4 5]\n<class 'numpy.ndarray'>\n(5,)\n"
        }
      ],
      "execution_count": 10
    },
    {
      "id": "abb670de-8fa6-4757-89d0-c973ca3a0493",
      "cell_type": "code",
      "source": "array2 = np.array([1, 2, 3, 4, 5])\narray2.reshape(1, 5) # 1 row, 5 columns",
      "metadata": {
        "trusted": true
      },
      "outputs": [
        {
          "execution_count": 13,
          "output_type": "execute_result",
          "data": {
            "text/plain": "array([[1, 2, 3, 4, 5]])"
          },
          "metadata": {}
        }
      ],
      "execution_count": 13
    },
    {
      "id": "fb47c6de-aa95-44e0-9d86-ac9d8496cdd3",
      "cell_type": "code",
      "source": "array3 = np.array([[1, 2, 3, 4, 5]])\narray3.shape",
      "metadata": {
        "trusted": true
      },
      "outputs": [
        {
          "execution_count": 14,
          "output_type": "execute_result",
          "data": {
            "text/plain": "(1, 5)"
          },
          "metadata": {}
        }
      ],
      "execution_count": 14
    },
    {
      "id": "60893b2e-a800-46d4-af79-303a0f80cc2e",
      "cell_type": "code",
      "source": "array4 = np.array([[1, 2, 3, 4, 5], [2, 3, 4, 5, 6]])\nprint(array4)\nprint(array4.shape)",
      "metadata": {
        "trusted": true
      },
      "outputs": [
        {
          "name": "stdout",
          "output_type": "stream",
          "text": "[[1 2 3 4 5]\n [2 3 4 5 6]]\n(2, 5)\n"
        }
      ],
      "execution_count": 17
    },
    {
      "id": "d38b96f1-11c7-402e-a635-33729b6d1a9b",
      "cell_type": "code",
      "source": "# 0 - 10, from 2 to 2\nnp.arange(0, 10, 2).reshape(5, 1)",
      "metadata": {
        "trusted": true
      },
      "outputs": [
        {
          "execution_count": 20,
          "output_type": "execute_result",
          "data": {
            "text/plain": "array([[0],\n       [2],\n       [4],\n       [6],\n       [8]])"
          },
          "metadata": {}
        }
      ],
      "execution_count": 20
    },
    {
      "id": "38183702-dcbb-4d68-bdf0-cecd1d304f7d",
      "cell_type": "code",
      "source": "np.ones((3, 4)) # 3 rows, 4 columns of number one",
      "metadata": {
        "trusted": true
      },
      "outputs": [
        {
          "execution_count": 23,
          "output_type": "execute_result",
          "data": {
            "text/plain": "array([[1., 1., 1., 1.],\n       [1., 1., 1., 1.],\n       [1., 1., 1., 1.]])"
          },
          "metadata": {}
        }
      ],
      "execution_count": 23
    },
    {
      "id": "e45ecd60-b51d-40f3-930f-ad70dbf01be5",
      "cell_type": "code",
      "source": "## entity matrix\nnp.eye(3)",
      "metadata": {
        "trusted": true,
        "scrolled": true
      },
      "outputs": [
        {
          "execution_count": 24,
          "output_type": "execute_result",
          "data": {
            "text/plain": "array([[1., 0., 0.],\n       [0., 1., 0.],\n       [0., 0., 1.]])"
          },
          "metadata": {}
        }
      ],
      "execution_count": 24
    }
  ]
}
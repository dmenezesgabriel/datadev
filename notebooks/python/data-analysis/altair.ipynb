{
    "cells": [
        {
            "cell_type": "markdown",
            "id": "bad8f33b",
            "metadata": {},
            "source": [
                "# Altair\n"
            ]
        },
        {
            "cell_type": "code",
            "execution_count": 1,
            "id": "09f3b913",
            "metadata": {},
            "outputs": [],
            "source": [
                "!uv pip install -q \\\n",
                "    altair==5.5.0"
            ]
        },
        {
            "cell_type": "code",
            "execution_count": null,
            "id": "d6dda717",
            "metadata": {},
            "outputs": [
                {
                    "data": {
                        "text/plain": [
                            "RendererRegistry.enable('mimetype')"
                        ]
                    },
                    "execution_count": 2,
                    "metadata": {},
                    "output_type": "execute_result"
                }
            ],
            "source": [
                "import altair as alt\n",
                "\n",
                "# https://altair-viz.github.io/user_guide/display_frontends.html\n",
                "alt.renderers.enable(\"default\")\n",
                "alt.renderers.enable(\"mimetype\")  # Vscode"
            ]
        },
        {
            "cell_type": "code",
            "execution_count": 3,
            "id": "b1abf485",
            "metadata": {},
            "outputs": [
                {
                    "data": {
                        "application/vnd.vegalite.v5+json": {
                            "$schema": "https://vega.github.io/schema/vega-lite/v5.20.1.json",
                            "config": {
                                "view": {
                                    "continuousHeight": 300,
                                    "continuousWidth": 300
                                }
                            },
                            "data": {
                                "name": "data-e806fb3f37ee6d34f7041c4b654ec63b"
                            },
                            "datasets": {
                                "data-e806fb3f37ee6d34f7041c4b654ec63b": [
                                    {
                                        "a": "A",
                                        "b": 28
                                    },
                                    {
                                        "a": "A",
                                        "b": 10
                                    },
                                    {
                                        "a": "B",
                                        "b": 55
                                    },
                                    {
                                        "a": "B",
                                        "b": 5
                                    },
                                    {
                                        "a": "C",
                                        "b": 43
                                    },
                                    {
                                        "a": "C",
                                        "b": 7
                                    }
                                ]
                            },
                            "encoding": {
                                "x": {
                                    "field": "a",
                                    "type": "nominal"
                                },
                                "y": {
                                    "aggregate": "sum",
                                    "field": "b",
                                    "type": "quantitative"
                                }
                            },
                            "mark": "bar"
                        },
                        "text/plain": [
                            "<VegaLite 5 object>\n",
                            "\n",
                            "If you see this message, it means the renderer has not been properly enabled\n",
                            "for the frontend that you are using. For more information, see\n",
                            "https://altair-viz.github.io/user_guide/display_frontends.html#troubleshooting\n"
                        ]
                    },
                    "execution_count": 3,
                    "metadata": {},
                    "output_type": "execute_result"
                }
            ],
            "source": [
                "vega_lite_spec = {\n",
                "    \"data\": {\n",
                "        \"values\": [\n",
                "            {\"a\": \"A\", \"b\": 28},\n",
                "            {\"a\": \"A\", \"b\": 10},\n",
                "            {\"a\": \"B\", \"b\": 55},\n",
                "            {\"a\": \"B\", \"b\": 5},\n",
                "            {\"a\": \"C\", \"b\": 43},\n",
                "            {\"a\": \"C\", \"b\": 7},\n",
                "        ]\n",
                "    },\n",
                "    \"mark\": \"bar\",\n",
                "    \"encoding\": {\n",
                "        \"x\": {\"field\": \"a\", \"type\": \"nominal\"},\n",
                "        \"y\": {\"field\": \"b\", \"type\": \"quantitative\", \"aggregate\": \"sum\"},\n",
                "    },\n",
                "}\n",
                "chart = alt.Chart.from_dict(vega_lite_spec)\n",
                "chart"
            ]
        }
    ],
    "metadata": {
        "kernelspec": {
            "display_name": "uv-3.12",
            "language": "python",
            "name": "uv-3.12"
        },
        "language_info": {
            "codemirror_mode": {
                "name": "ipython",
                "version": 3
            },
            "file_extension": ".py",
            "mimetype": "text/x-python",
            "name": "python",
            "nbconvert_exporter": "python",
            "pygments_lexer": "ipython3",
            "version": "3.12.6"
        }
    },
    "nbformat": 4,
    "nbformat_minor": 5
}
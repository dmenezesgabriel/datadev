{
 "cells": [
  {
   "cell_type": "markdown",
   "id": "e4b90117",
   "metadata": {},
   "source": [
    "# Pandas\n"
   ]
  },
  {
   "cell_type": "markdown",
   "id": "302b56c4",
   "metadata": {},
   "source": [
    "Pandas is a data manipulation library in python, used for data analysis and cleaning.\n",
    "\n",
    "It provides two primary structures:\n",
    "\n",
    "- **Series**: one-dimension array like object\n",
    "- **DataFrames**: two-dimensional, size-mutable tabular data structure\n"
   ]
  },
  {
   "cell_type": "markdown",
   "id": "ea2f7722",
   "metadata": {},
   "source": [
    "## Install packages\n"
   ]
  },
  {
   "cell_type": "code",
   "execution_count": 4,
   "id": "c36d6bfe",
   "metadata": {},
   "outputs": [],
   "source": [
    "!uv pip install -q \\\n",
    "    pandas==2.3.2 \\\n",
    "    pandas-stubs==2.3.2.250827\n"
   ]
  },
  {
   "cell_type": "markdown",
   "id": "f1eb95e8",
   "metadata": {},
   "source": [
    "## Import packages\n"
   ]
  },
  {
   "cell_type": "code",
   "execution_count": null,
   "id": "6036c7a6",
   "metadata": {},
   "outputs": [],
   "source": [
    "import pandas as pd"
   ]
  },
  {
   "cell_type": "markdown",
   "id": "662f4dab",
   "metadata": {},
   "source": [
    "## Usage\n"
   ]
  },
  {
   "cell_type": "markdown",
   "id": "a2ed54e8",
   "metadata": {},
   "source": [
    "### Series\n"
   ]
  },
  {
   "cell_type": "markdown",
   "id": "ecd485c1",
   "metadata": {},
   "source": [
    "#### Create series from List\n"
   ]
  },
  {
   "cell_type": "code",
   "execution_count": null,
   "id": "da2117d7",
   "metadata": {},
   "outputs": [
    {
     "name": "stdout",
     "output_type": "stream",
     "text": [
      "Series:\n",
      "0    1\n",
      "1    2\n",
      "2    3\n",
      "3    4\n",
      "4    5\n",
      "dtype: int64\n",
      "<class 'pandas.core.series.Series'>\n"
     ]
    }
   ],
   "source": [
    "data1 = [1, 2, 3, 4, 5]\n",
    "series1 = pd.Series(data1)\n",
    "print(f\"Series:\\n{series1}\")\n",
    "print(type(series1))"
   ]
  },
  {
   "cell_type": "markdown",
   "id": "51712054",
   "metadata": {},
   "source": [
    "#### Create Series from Dict\n"
   ]
  },
  {
   "cell_type": "code",
   "execution_count": null,
   "id": "82e826e6",
   "metadata": {},
   "outputs": [
    {
     "name": "stdout",
     "output_type": "stream",
     "text": [
      "Series:\n",
      "a    1\n",
      "b    2\n",
      "dtype: int64\n"
     ]
    }
   ],
   "source": [
    "data2 = {\"a\": 1, \"b\": 2}\n",
    "series2 = pd.Series(data2)\n",
    "print(f\"Series:\\n{series2}\")"
   ]
  },
  {
   "cell_type": "markdown",
   "id": "9042c39e",
   "metadata": {},
   "source": [
    "#### Working with Series indexes\n"
   ]
  },
  {
   "cell_type": "code",
   "execution_count": null,
   "id": "356cbf64",
   "metadata": {},
   "outputs": [
    {
     "name": "stdout",
     "output_type": "stream",
     "text": [
      "Series:\n",
      "a    10\n",
      "b    20\n",
      "c    30\n",
      "dtype: int64\n"
     ]
    }
   ],
   "source": [
    "data3 = [10, 20, 30]\n",
    "index3 = [\"a\", \"b\", \"c\"]\n",
    "series3 = pd.Series(data3, index=index3)\n",
    "print(f\"Series:\\n{series3}\")"
   ]
  },
  {
   "cell_type": "markdown",
   "id": "0c166dc8",
   "metadata": {},
   "source": [
    "### Data frames\n"
   ]
  },
  {
   "cell_type": "markdown",
   "id": "12f63f8f",
   "metadata": {},
   "source": [
    "#### Loading Data\n"
   ]
  },
  {
   "cell_type": "markdown",
   "id": "5aebf367",
   "metadata": {},
   "source": [
    "##### Data frame from a dictionary of lists\n"
   ]
  },
  {
   "cell_type": "code",
   "execution_count": null,
   "id": "faee6ee3",
   "metadata": {},
   "outputs": [
    {
     "data": {
      "text/html": [
       "<div>\n",
       "<style scoped>\n",
       "    .dataframe tbody tr th:only-of-type {\n",
       "        vertical-align: middle;\n",
       "    }\n",
       "\n",
       "    .dataframe tbody tr th {\n",
       "        vertical-align: top;\n",
       "    }\n",
       "\n",
       "    .dataframe thead th {\n",
       "        text-align: right;\n",
       "    }\n",
       "</style>\n",
       "<table border=\"1\" class=\"dataframe\">\n",
       "  <thead>\n",
       "    <tr style=\"text-align: right;\">\n",
       "      <th></th>\n",
       "      <th>Name</th>\n",
       "      <th>Age</th>\n",
       "    </tr>\n",
       "  </thead>\n",
       "  <tbody>\n",
       "    <tr>\n",
       "      <th>0</th>\n",
       "      <td>Pedro</td>\n",
       "      <td>33</td>\n",
       "    </tr>\n",
       "    <tr>\n",
       "      <th>1</th>\n",
       "      <td>James</td>\n",
       "      <td>27</td>\n",
       "    </tr>\n",
       "    <tr>\n",
       "      <th>2</th>\n",
       "      <td>John</td>\n",
       "      <td>52</td>\n",
       "    </tr>\n",
       "  </tbody>\n",
       "</table>\n",
       "</div>"
      ],
      "text/plain": [
       "    Name  Age\n",
       "0  Pedro   33\n",
       "1  James   27\n",
       "2   John   52"
      ]
     },
     "execution_count": 30,
     "metadata": {},
     "output_type": "execute_result"
    }
   ],
   "source": [
    "data4 = {\n",
    "    \"Name\": [\"Pedro\", \"James\", \"John\"],\n",
    "    \"Age\": [33, 27, 52],\n",
    "}\n",
    "\n",
    "dataframe4 = pd.DataFrame(data4)\n",
    "dataframe4"
   ]
  },
  {
   "cell_type": "markdown",
   "id": "1448b717",
   "metadata": {},
   "source": [
    "##### Data frame from a list of dicts\n"
   ]
  },
  {
   "cell_type": "code",
   "execution_count": null,
   "id": "cfcc848b",
   "metadata": {},
   "outputs": [
    {
     "data": {
      "text/html": [
       "<div>\n",
       "<style scoped>\n",
       "    .dataframe tbody tr th:only-of-type {\n",
       "        vertical-align: middle;\n",
       "    }\n",
       "\n",
       "    .dataframe tbody tr th {\n",
       "        vertical-align: top;\n",
       "    }\n",
       "\n",
       "    .dataframe thead th {\n",
       "        text-align: right;\n",
       "    }\n",
       "</style>\n",
       "<table border=\"1\" class=\"dataframe\">\n",
       "  <thead>\n",
       "    <tr style=\"text-align: right;\">\n",
       "      <th></th>\n",
       "      <th>Name</th>\n",
       "      <th>Age</th>\n",
       "    </tr>\n",
       "  </thead>\n",
       "  <tbody>\n",
       "    <tr>\n",
       "      <th>0</th>\n",
       "      <td>Pedro</td>\n",
       "      <td>33</td>\n",
       "    </tr>\n",
       "    <tr>\n",
       "      <th>1</th>\n",
       "      <td>James</td>\n",
       "      <td>27</td>\n",
       "    </tr>\n",
       "    <tr>\n",
       "      <th>2</th>\n",
       "      <td>John</td>\n",
       "      <td>52</td>\n",
       "    </tr>\n",
       "  </tbody>\n",
       "</table>\n",
       "</div>"
      ],
      "text/plain": [
       "    Name  Age\n",
       "0  Pedro   33\n",
       "1  James   27\n",
       "2   John   52"
      ]
     },
     "execution_count": 32,
     "metadata": {},
     "output_type": "execute_result"
    }
   ],
   "source": [
    "data5 = [\n",
    "    {\"Name\": \"Pedro\", \"Age\": 33},\n",
    "    {\"Name\": \"James\", \"Age\": 27},\n",
    "    {\"Name\": \"John\", \"Age\": 52},\n",
    "]\n",
    "\n",
    "dataframe5 = pd.DataFrame(data5)\n",
    "dataframe5"
   ]
  },
  {
   "cell_type": "markdown",
   "id": "13019d28",
   "metadata": {},
   "source": [
    "#### Dataframe attributes\n"
   ]
  },
  {
   "cell_type": "code",
   "execution_count": null,
   "id": "48606e14",
   "metadata": {},
   "outputs": [
    {
     "data": {
      "text/plain": [
       "Name    object\n",
       "Age      int64\n",
       "dtype: object"
      ]
     },
     "execution_count": 58,
     "metadata": {},
     "output_type": "execute_result"
    }
   ],
   "source": [
    "dataframe5.dtypes"
   ]
  },
  {
   "cell_type": "markdown",
   "id": "fb689d64",
   "metadata": {},
   "source": [
    "#### Dataframe methods\n"
   ]
  },
  {
   "cell_type": "code",
   "execution_count": null,
   "id": "1da086c5",
   "metadata": {},
   "outputs": [
    {
     "data": {
      "text/html": [
       "<div>\n",
       "<style scoped>\n",
       "    .dataframe tbody tr th:only-of-type {\n",
       "        vertical-align: middle;\n",
       "    }\n",
       "\n",
       "    .dataframe tbody tr th {\n",
       "        vertical-align: top;\n",
       "    }\n",
       "\n",
       "    .dataframe thead th {\n",
       "        text-align: right;\n",
       "    }\n",
       "</style>\n",
       "<table border=\"1\" class=\"dataframe\">\n",
       "  <thead>\n",
       "    <tr style=\"text-align: right;\">\n",
       "      <th></th>\n",
       "      <th>Name</th>\n",
       "      <th>Age</th>\n",
       "    </tr>\n",
       "  </thead>\n",
       "  <tbody>\n",
       "    <tr>\n",
       "      <th>0</th>\n",
       "      <td>Pedro</td>\n",
       "      <td>33</td>\n",
       "    </tr>\n",
       "    <tr>\n",
       "      <th>1</th>\n",
       "      <td>James</td>\n",
       "      <td>27</td>\n",
       "    </tr>\n",
       "  </tbody>\n",
       "</table>\n",
       "</div>"
      ],
      "text/plain": [
       "    Name  Age\n",
       "0  Pedro   33\n",
       "1  James   27"
      ]
     },
     "execution_count": 35,
     "metadata": {},
     "output_type": "execute_result"
    }
   ],
   "source": [
    "data6 = [\n",
    "    {\"Name\": \"Pedro\", \"Age\": 33},\n",
    "    {\"Name\": \"James\", \"Age\": 27},\n",
    "    {\"Name\": \"John\", \"Age\": 52},\n",
    "]\n",
    "\n",
    "dataframe6 = pd.DataFrame(data6)\n",
    "dataframe6.head(2)"
   ]
  },
  {
   "cell_type": "code",
   "execution_count": null,
   "id": "a8e8fc8d",
   "metadata": {},
   "outputs": [
    {
     "name": "stdout",
     "output_type": "stream",
     "text": [
      "<class 'pandas.core.frame.DataFrame'>\n",
      "RangeIndex: 3 entries, 0 to 2\n",
      "Data columns (total 2 columns):\n",
      " #   Column  Non-Null Count  Dtype \n",
      "---  ------  --------------  ----- \n",
      " 0   Name    3 non-null      object\n",
      " 1   Age     3 non-null      int64 \n",
      "dtypes: int64(1), object(1)\n",
      "memory usage: 180.0+ bytes\n"
     ]
    }
   ],
   "source": [
    "dataframe6.info()"
   ]
  },
  {
   "cell_type": "code",
   "execution_count": null,
   "id": "31eb439c",
   "metadata": {},
   "outputs": [
    {
     "data": {
      "text/html": [
       "<div>\n",
       "<style scoped>\n",
       "    .dataframe tbody tr th:only-of-type {\n",
       "        vertical-align: middle;\n",
       "    }\n",
       "\n",
       "    .dataframe tbody tr th {\n",
       "        vertical-align: top;\n",
       "    }\n",
       "\n",
       "    .dataframe thead th {\n",
       "        text-align: right;\n",
       "    }\n",
       "</style>\n",
       "<table border=\"1\" class=\"dataframe\">\n",
       "  <thead>\n",
       "    <tr style=\"text-align: right;\">\n",
       "      <th></th>\n",
       "      <th>Age</th>\n",
       "    </tr>\n",
       "  </thead>\n",
       "  <tbody>\n",
       "    <tr>\n",
       "      <th>count</th>\n",
       "      <td>3.000000</td>\n",
       "    </tr>\n",
       "    <tr>\n",
       "      <th>mean</th>\n",
       "      <td>37.333333</td>\n",
       "    </tr>\n",
       "    <tr>\n",
       "      <th>std</th>\n",
       "      <td>13.051181</td>\n",
       "    </tr>\n",
       "    <tr>\n",
       "      <th>min</th>\n",
       "      <td>27.000000</td>\n",
       "    </tr>\n",
       "    <tr>\n",
       "      <th>25%</th>\n",
       "      <td>30.000000</td>\n",
       "    </tr>\n",
       "    <tr>\n",
       "      <th>50%</th>\n",
       "      <td>33.000000</td>\n",
       "    </tr>\n",
       "    <tr>\n",
       "      <th>75%</th>\n",
       "      <td>42.500000</td>\n",
       "    </tr>\n",
       "    <tr>\n",
       "      <th>max</th>\n",
       "      <td>52.000000</td>\n",
       "    </tr>\n",
       "  </tbody>\n",
       "</table>\n",
       "</div>"
      ],
      "text/plain": [
       "             Age\n",
       "count   3.000000\n",
       "mean   37.333333\n",
       "std    13.051181\n",
       "min    27.000000\n",
       "25%    30.000000\n",
       "50%    33.000000\n",
       "75%    42.500000\n",
       "max    52.000000"
      ]
     },
     "execution_count": 60,
     "metadata": {},
     "output_type": "execute_result"
    }
   ],
   "source": [
    "dataframe6.describe()"
   ]
  },
  {
   "cell_type": "code",
   "execution_count": null,
   "id": "e9afa9c1",
   "metadata": {},
   "outputs": [
    {
     "data": {
      "text/html": [
       "<div>\n",
       "<style scoped>\n",
       "    .dataframe tbody tr th:only-of-type {\n",
       "        vertical-align: middle;\n",
       "    }\n",
       "\n",
       "    .dataframe tbody tr th {\n",
       "        vertical-align: top;\n",
       "    }\n",
       "\n",
       "    .dataframe thead th {\n",
       "        text-align: right;\n",
       "    }\n",
       "</style>\n",
       "<table border=\"1\" class=\"dataframe\">\n",
       "  <thead>\n",
       "    <tr style=\"text-align: right;\">\n",
       "      <th></th>\n",
       "      <th>Name</th>\n",
       "      <th>Age</th>\n",
       "    </tr>\n",
       "  </thead>\n",
       "  <tbody>\n",
       "    <tr>\n",
       "      <th>1</th>\n",
       "      <td>James</td>\n",
       "      <td>27</td>\n",
       "    </tr>\n",
       "    <tr>\n",
       "      <th>2</th>\n",
       "      <td>John</td>\n",
       "      <td>52</td>\n",
       "    </tr>\n",
       "  </tbody>\n",
       "</table>\n",
       "</div>"
      ],
      "text/plain": [
       "    Name  Age\n",
       "1  James   27\n",
       "2   John   52"
      ]
     },
     "execution_count": 36,
     "metadata": {},
     "output_type": "execute_result"
    }
   ],
   "source": [
    "dataframe6.tail(2)"
   ]
  },
  {
   "cell_type": "markdown",
   "id": "59efc553",
   "metadata": {},
   "source": [
    "##### Accessing a Series\n"
   ]
  },
  {
   "cell_type": "code",
   "execution_count": null,
   "id": "20ce6517",
   "metadata": {},
   "outputs": [
    {
     "name": "stdout",
     "output_type": "stream",
     "text": [
      "0    Pedro\n",
      "1    James\n",
      "2     John\n",
      "Name: Name, dtype: object\n",
      "<class 'pandas.core.series.Series'>\n"
     ]
    }
   ],
   "source": [
    "print(dataframe6[\"Name\"])\n",
    "print(type(dataframe6[\"Name\"]))"
   ]
  },
  {
   "cell_type": "markdown",
   "id": "735902ec",
   "metadata": {},
   "source": [
    "##### Accessing an row index\n"
   ]
  },
  {
   "cell_type": "code",
   "execution_count": null,
   "id": "acb6be90",
   "metadata": {},
   "outputs": [
    {
     "data": {
      "text/plain": [
       "Name    Pedro\n",
       "Age        33\n",
       "Name: 0, dtype: object"
      ]
     },
     "execution_count": 43,
     "metadata": {},
     "output_type": "execute_result"
    }
   ],
   "source": [
    "dataframe6.loc[0]"
   ]
  },
  {
   "cell_type": "markdown",
   "id": "b99ec6a3",
   "metadata": {},
   "source": [
    "##### Accessing a particular value\n"
   ]
  },
  {
   "cell_type": "code",
   "execution_count": null,
   "id": "40832a84",
   "metadata": {},
   "outputs": [
    {
     "data": {
      "text/plain": [
       "np.int64(27)"
      ]
     },
     "execution_count": 44,
     "metadata": {},
     "output_type": "execute_result"
    }
   ],
   "source": [
    "dataframe6.at[1, \"Age\"]"
   ]
  },
  {
   "cell_type": "code",
   "execution_count": null,
   "id": "e2a64d74",
   "metadata": {},
   "outputs": [
    {
     "data": {
      "text/plain": [
       "np.int64(52)"
      ]
     },
     "execution_count": 49,
     "metadata": {},
     "output_type": "execute_result"
    }
   ],
   "source": [
    "dataframe6.iat[2, 1]"
   ]
  },
  {
   "cell_type": "markdown",
   "id": "5f804eed",
   "metadata": {},
   "source": [
    "#### Dataframe data manipulation\n"
   ]
  },
  {
   "cell_type": "code",
   "execution_count": null,
   "id": "2a3bccb0",
   "metadata": {},
   "outputs": [
    {
     "data": {
      "text/html": [
       "<div>\n",
       "<style scoped>\n",
       "    .dataframe tbody tr th:only-of-type {\n",
       "        vertical-align: middle;\n",
       "    }\n",
       "\n",
       "    .dataframe tbody tr th {\n",
       "        vertical-align: top;\n",
       "    }\n",
       "\n",
       "    .dataframe thead th {\n",
       "        text-align: right;\n",
       "    }\n",
       "</style>\n",
       "<table border=\"1\" class=\"dataframe\">\n",
       "  <thead>\n",
       "    <tr style=\"text-align: right;\">\n",
       "      <th></th>\n",
       "      <th>Name</th>\n",
       "      <th>Age</th>\n",
       "    </tr>\n",
       "  </thead>\n",
       "  <tbody>\n",
       "    <tr>\n",
       "      <th>0</th>\n",
       "      <td>Pedro</td>\n",
       "      <td>33</td>\n",
       "    </tr>\n",
       "    <tr>\n",
       "      <th>1</th>\n",
       "      <td>James</td>\n",
       "      <td>27</td>\n",
       "    </tr>\n",
       "  </tbody>\n",
       "</table>\n",
       "</div>"
      ],
      "text/plain": [
       "    Name  Age\n",
       "0  Pedro   33\n",
       "1  James   27"
      ]
     },
     "execution_count": 51,
     "metadata": {},
     "output_type": "execute_result"
    }
   ],
   "source": [
    "data7 = [\n",
    "    {\"Name\": \"Pedro\", \"Age\": 33},\n",
    "    {\"Name\": \"James\", \"Age\": 27},\n",
    "    {\"Name\": \"John\", \"Age\": 52},\n",
    "]\n",
    "\n",
    "dataframe7 = pd.DataFrame(data7)\n",
    "dataframe7.head(2)"
   ]
  },
  {
   "cell_type": "markdown",
   "id": "45fc7c8b",
   "metadata": {},
   "source": [
    "##### Adding a new column\n"
   ]
  },
  {
   "cell_type": "code",
   "execution_count": null,
   "id": "6cfacb54",
   "metadata": {},
   "outputs": [
    {
     "data": {
      "text/html": [
       "<div>\n",
       "<style scoped>\n",
       "    .dataframe tbody tr th:only-of-type {\n",
       "        vertical-align: middle;\n",
       "    }\n",
       "\n",
       "    .dataframe tbody tr th {\n",
       "        vertical-align: top;\n",
       "    }\n",
       "\n",
       "    .dataframe thead th {\n",
       "        text-align: right;\n",
       "    }\n",
       "</style>\n",
       "<table border=\"1\" class=\"dataframe\">\n",
       "  <thead>\n",
       "    <tr style=\"text-align: right;\">\n",
       "      <th></th>\n",
       "      <th>Name</th>\n",
       "      <th>Age</th>\n",
       "      <th>City</th>\n",
       "    </tr>\n",
       "  </thead>\n",
       "  <tbody>\n",
       "    <tr>\n",
       "      <th>0</th>\n",
       "      <td>Pedro</td>\n",
       "      <td>33</td>\n",
       "      <td>New York</td>\n",
       "    </tr>\n",
       "    <tr>\n",
       "      <th>1</th>\n",
       "      <td>James</td>\n",
       "      <td>27</td>\n",
       "      <td>Florida</td>\n",
       "    </tr>\n",
       "    <tr>\n",
       "      <th>2</th>\n",
       "      <td>John</td>\n",
       "      <td>52</td>\n",
       "      <td>Los Angeles</td>\n",
       "    </tr>\n",
       "  </tbody>\n",
       "</table>\n",
       "</div>"
      ],
      "text/plain": [
       "    Name  Age         City\n",
       "0  Pedro   33     New York\n",
       "1  James   27      Florida\n",
       "2   John   52  Los Angeles"
      ]
     },
     "execution_count": 53,
     "metadata": {},
     "output_type": "execute_result"
    }
   ],
   "source": [
    "dataframe7[\"City\"] = [\"New York\", \"Florida\", \"Los Angeles\"]\n",
    "dataframe7"
   ]
  },
  {
   "cell_type": "markdown",
   "id": "51dc5748",
   "metadata": {},
   "source": [
    "##### Removing a column\n"
   ]
  },
  {
   "cell_type": "code",
   "execution_count": null,
   "id": "4f377118",
   "metadata": {},
   "outputs": [
    {
     "data": {
      "text/html": [
       "<div>\n",
       "<style scoped>\n",
       "    .dataframe tbody tr th:only-of-type {\n",
       "        vertical-align: middle;\n",
       "    }\n",
       "\n",
       "    .dataframe tbody tr th {\n",
       "        vertical-align: top;\n",
       "    }\n",
       "\n",
       "    .dataframe thead th {\n",
       "        text-align: right;\n",
       "    }\n",
       "</style>\n",
       "<table border=\"1\" class=\"dataframe\">\n",
       "  <thead>\n",
       "    <tr style=\"text-align: right;\">\n",
       "      <th></th>\n",
       "      <th>Name</th>\n",
       "      <th>Age</th>\n",
       "    </tr>\n",
       "  </thead>\n",
       "  <tbody>\n",
       "    <tr>\n",
       "      <th>0</th>\n",
       "      <td>Pedro</td>\n",
       "      <td>33</td>\n",
       "    </tr>\n",
       "    <tr>\n",
       "      <th>1</th>\n",
       "      <td>James</td>\n",
       "      <td>27</td>\n",
       "    </tr>\n",
       "    <tr>\n",
       "      <th>2</th>\n",
       "      <td>John</td>\n",
       "      <td>52</td>\n",
       "    </tr>\n",
       "  </tbody>\n",
       "</table>\n",
       "</div>"
      ],
      "text/plain": [
       "    Name  Age\n",
       "0  Pedro   33\n",
       "1  James   27\n",
       "2   John   52"
      ]
     },
     "execution_count": 54,
     "metadata": {},
     "output_type": "execute_result"
    }
   ],
   "source": [
    "dataframe7.drop(\"City\", axis=1)  # axis=0 rows, axis=1 columns"
   ]
  },
  {
   "cell_type": "markdown",
   "id": "4b697d54",
   "metadata": {},
   "source": [
    "##### Removing a row\n"
   ]
  },
  {
   "cell_type": "code",
   "execution_count": null,
   "id": "c7248fce",
   "metadata": {},
   "outputs": [
    {
     "data": {
      "text/html": [
       "<div>\n",
       "<style scoped>\n",
       "    .dataframe tbody tr th:only-of-type {\n",
       "        vertical-align: middle;\n",
       "    }\n",
       "\n",
       "    .dataframe tbody tr th {\n",
       "        vertical-align: top;\n",
       "    }\n",
       "\n",
       "    .dataframe thead th {\n",
       "        text-align: right;\n",
       "    }\n",
       "</style>\n",
       "<table border=\"1\" class=\"dataframe\">\n",
       "  <thead>\n",
       "    <tr style=\"text-align: right;\">\n",
       "      <th></th>\n",
       "      <th>Name</th>\n",
       "      <th>Age</th>\n",
       "      <th>City</th>\n",
       "    </tr>\n",
       "  </thead>\n",
       "  <tbody>\n",
       "    <tr>\n",
       "      <th>0</th>\n",
       "      <td>Pedro</td>\n",
       "      <td>33</td>\n",
       "      <td>New York</td>\n",
       "    </tr>\n",
       "    <tr>\n",
       "      <th>2</th>\n",
       "      <td>John</td>\n",
       "      <td>52</td>\n",
       "      <td>Los Angeles</td>\n",
       "    </tr>\n",
       "  </tbody>\n",
       "</table>\n",
       "</div>"
      ],
      "text/plain": [
       "    Name  Age         City\n",
       "0  Pedro   33     New York\n",
       "2   John   52  Los Angeles"
      ]
     },
     "execution_count": 56,
     "metadata": {},
     "output_type": "execute_result"
    }
   ],
   "source": [
    "dataframe7.drop(1, axis=0)"
   ]
  },
  {
   "cell_type": "markdown",
   "id": "b28f5256",
   "metadata": {},
   "source": [
    "##### Modify column value\n"
   ]
  },
  {
   "cell_type": "code",
   "execution_count": null,
   "id": "959d2caa",
   "metadata": {},
   "outputs": [
    {
     "data": {
      "text/html": [
       "<div>\n",
       "<style scoped>\n",
       "    .dataframe tbody tr th:only-of-type {\n",
       "        vertical-align: middle;\n",
       "    }\n",
       "\n",
       "    .dataframe tbody tr th {\n",
       "        vertical-align: top;\n",
       "    }\n",
       "\n",
       "    .dataframe thead th {\n",
       "        text-align: right;\n",
       "    }\n",
       "</style>\n",
       "<table border=\"1\" class=\"dataframe\">\n",
       "  <thead>\n",
       "    <tr style=\"text-align: right;\">\n",
       "      <th></th>\n",
       "      <th>Name</th>\n",
       "      <th>Age</th>\n",
       "      <th>City</th>\n",
       "    </tr>\n",
       "  </thead>\n",
       "  <tbody>\n",
       "    <tr>\n",
       "      <th>0</th>\n",
       "      <td>Pedro</td>\n",
       "      <td>34</td>\n",
       "      <td>New York</td>\n",
       "    </tr>\n",
       "    <tr>\n",
       "      <th>1</th>\n",
       "      <td>James</td>\n",
       "      <td>28</td>\n",
       "      <td>Florida</td>\n",
       "    </tr>\n",
       "    <tr>\n",
       "      <th>2</th>\n",
       "      <td>John</td>\n",
       "      <td>53</td>\n",
       "      <td>Los Angeles</td>\n",
       "    </tr>\n",
       "  </tbody>\n",
       "</table>\n",
       "</div>"
      ],
      "text/plain": [
       "    Name  Age         City\n",
       "0  Pedro   34     New York\n",
       "1  James   28      Florida\n",
       "2   John   53  Los Angeles"
      ]
     },
     "execution_count": 57,
     "metadata": {},
     "output_type": "execute_result"
    }
   ],
   "source": [
    "dataframe7[\"Age\"] = dataframe7[\"Age\"] + 1\n",
    "dataframe7"
   ]
  }
 ],
 "metadata": {
  "kernelspec": {
   "display_name": "uv-3.12",
   "language": "python",
   "name": "uv-3.12"
  },
  "language_info": {
   "codemirror_mode": {
    "name": "ipython",
    "version": 3
   },
   "file_extension": ".py",
   "mimetype": "text/x-python",
   "name": "python",
   "nbconvert_exporter": "python",
   "pygments_lexer": "ipython3",
   "version": "3.12.6"
  }
 },
 "nbformat": 4,
 "nbformat_minor": 5
}

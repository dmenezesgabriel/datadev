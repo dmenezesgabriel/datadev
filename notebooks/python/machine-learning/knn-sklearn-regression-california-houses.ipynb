{
 "cells": [
  {
   "cell_type": "code",
   "execution_count": 1,
   "id": "df198278",
   "metadata": {},
   "outputs": [],
   "source": [
    "!uv pip install -q \\\n",
    "    matplotlib==3.10.6 \\\n",
    "    seaborn==0.13.2 \\\n",
    "    scikit-learn==1.7.1\n"
   ]
  },
  {
   "cell_type": "code",
   "execution_count": null,
   "id": "d4c6723d",
   "metadata": {},
   "outputs": [],
   "source": [
    "import matplotlib.pyplot as plt\n",
    "import seaborn as sns\n",
    "from sklearn.datasets import fetch_california_housing\n",
    "from sklearn.model_selection import train_test_split\n",
    "from sklearn.neighbors import KNeighborsRegressor\n",
    "from sklearn.pipeline import make_pipeline\n",
    "from sklearn.preprocessing import StandardScaler"
   ]
  },
  {
   "cell_type": "code",
   "execution_count": null,
   "id": "0dc3179a",
   "metadata": {},
   "outputs": [
    {
     "data": {
      "text/plain": [
       "(20640, 8)"
      ]
     },
     "execution_count": 3,
     "metadata": {},
     "output_type": "execute_result"
    }
   ],
   "source": [
    "housing = fetch_california_housing()\n",
    "\n",
    "housing.data.shape"
   ]
  },
  {
   "cell_type": "code",
   "execution_count": null,
   "id": "b2fda7a8",
   "metadata": {},
   "outputs": [
    {
     "data": {
      "text/plain": [
       "dict_keys(['data', 'target', 'frame', 'target_names', 'feature_names', 'DESCR'])"
      ]
     },
     "execution_count": 4,
     "metadata": {},
     "output_type": "execute_result"
    }
   ],
   "source": [
    "housing.keys()"
   ]
  },
  {
   "cell_type": "code",
   "execution_count": null,
   "id": "3b6aa4e0",
   "metadata": {},
   "outputs": [
    {
     "name": "stdout",
     "output_type": "stream",
     "text": [
      "(15480, 8)\n",
      "(5160, 8)\n"
     ]
    }
   ],
   "source": [
    "X_train, X_test, y_train, y_test = train_test_split(\n",
    "    housing.data, housing.target\n",
    ")\n",
    "\n",
    "print(X_train.shape)\n",
    "print(X_test.shape)"
   ]
  },
  {
   "cell_type": "code",
   "execution_count": null,
   "id": "bff74212",
   "metadata": {},
   "outputs": [],
   "source": [
    "def get_r_squared(k=9):\n",
    "    train_score = []\n",
    "    test_score = []\n",
    "    models = []\n",
    "\n",
    "    for neighbors in range(1, k + 1):\n",
    "        model = KNeighborsRegressor(n_neighbors=neighbors)\n",
    "\n",
    "        model.fit(X_train, y_train)\n",
    "\n",
    "        train_score.append(model.score(X_train, y_train))\n",
    "        test_score.append(model.score(X_test, y_test))\n",
    "\n",
    "        models.append(model)\n",
    "\n",
    "    return train_score, test_score, models"
   ]
  },
  {
   "cell_type": "code",
   "execution_count": null,
   "id": "59745d80",
   "metadata": {},
   "outputs": [],
   "source": [
    "train_score, test_score, models = get_r_squared()"
   ]
  },
  {
   "cell_type": "code",
   "execution_count": null,
   "id": "772aa154",
   "metadata": {},
   "outputs": [
    {
     "data": {
      "text/plain": [
       "[1.0,\n",
       " 0.703164465294281,\n",
       " 0.5797573375267688,\n",
       " 0.5051284182358494,\n",
       " 0.4530666095913092,\n",
       " 0.4124956845620369,\n",
       " 0.3794316464740475,\n",
       " 0.3557363155412586,\n",
       " 0.33601213194787494]"
      ]
     },
     "execution_count": 8,
     "metadata": {},
     "output_type": "execute_result"
    }
   ],
   "source": [
    "train_score"
   ]
  },
  {
   "cell_type": "code",
   "execution_count": null,
   "id": "793ffe62",
   "metadata": {},
   "outputs": [
    {
     "data": {
      "text/plain": [
       "[-0.24164705806034825,\n",
       " 0.03456566084194135,\n",
       " 0.08761169299544513,\n",
       " 0.1153727545756622,\n",
       " 0.1348776450834418,\n",
       " 0.14499118135289302,\n",
       " 0.15257015535485974,\n",
       " 0.151016057923266,\n",
       " 0.1450296572309302]"
      ]
     },
     "execution_count": 9,
     "metadata": {},
     "output_type": "execute_result"
    }
   ],
   "source": [
    "test_score"
   ]
  },
  {
   "cell_type": "code",
   "execution_count": null,
   "id": "99e37dd5",
   "metadata": {},
   "outputs": [
    {
     "name": "stdout",
     "output_type": "stream",
     "text": [
      "Training r2 for 6 neighbors: 0.41\n",
      "Testing r2 for 6 neighbors: 0.14\n"
     ]
    }
   ],
   "source": [
    "# Examining performance for k=6\n",
    "print(f\"Training r2 for 6 neighbors: {train_score[5]:.2f}\")\n",
    "print(f\"Testing r2 for 6 neighbors: {test_score[5]:.2f}\")"
   ]
  },
  {
   "cell_type": "code",
   "execution_count": null,
   "id": "a6ea11d1",
   "metadata": {},
   "outputs": [
    {
     "data": {
      "image/png": "[encoded data removed]",
      "text/plain": [
       "<Figure size 640x480 with 1 Axes>"
      ]
     },
     "metadata": {},
     "output_type": "display_data"
    }
   ],
   "source": [
    "k = range(1, 10)\n",
    "plt.plot(k, train_score, label=\"Training\")\n",
    "plt.plot(k, test_score, label=\"Testing\")\n",
    "plt.xlabel(\"neighbours\")\n",
    "plt.ylabel(\"$r^2$\")\n",
    "plt.legend()\n",
    "plt.show()"
   ]
  },
  {
   "cell_type": "code",
   "execution_count": null,
   "id": "dacad8f4",
   "metadata": {},
   "outputs": [],
   "source": [
    "def get_r_squared_scaled(k=9):\n",
    "    train_score = []\n",
    "    test_score = []\n",
    "    models = []\n",
    "    for neighbors in range(1, k + 1):\n",
    "        model = make_pipeline(\n",
    "            StandardScaler(), KNeighborsRegressor(n_neighbors=neighbors)\n",
    "        )\n",
    "        model.fit(X_train, y_train)\n",
    "        train_score.append(model.score(X_train, y_train))\n",
    "        test_score.append(model.score(X_test, y_test))\n",
    "        models.append(model)\n",
    "    return train_score, test_score, models"
   ]
  },
  {
   "cell_type": "code",
   "execution_count": null,
   "id": "5eb6fc2a",
   "metadata": {},
   "outputs": [],
   "source": [
    "train_score, test_score, models = get_r_squared_scaled()"
   ]
  },
  {
   "cell_type": "code",
   "execution_count": null,
   "id": "fd18e3bb",
   "metadata": {},
   "outputs": [
    {
     "name": "stdout",
     "output_type": "stream",
     "text": [
      "Training r2 for 6 neighbors: 0.78\n",
      "Testing r2 for 6 neighbors: 0.68\n"
     ]
    }
   ],
   "source": [
    "# Examining performance for k=6\n",
    "print(f\"Training r2 for 6 neighbors: {train_score[5]:.2f}\")\n",
    "print(f\"Testing r2 for 6 neighbors: {test_score[5]:.2f}\")"
   ]
  }
 ],
 "metadata": {
  "kernelspec": {
   "display_name": "uv-3.12",
   "language": "python",
   "name": "uv-3.12"
  }
 },
 "nbformat": 4,
 "nbformat_minor": 5
}

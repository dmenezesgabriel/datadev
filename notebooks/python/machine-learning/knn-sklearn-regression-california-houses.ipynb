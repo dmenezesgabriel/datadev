{
 "cells": [
  {
   "cell_type": "code",
   "execution_count": 2,
   "id": "df198278",
   "metadata": {},
   "outputs": [
    {
     "name": "stdout",
     "output_type": "stream",
     "text": [
      "\u001b[2K\u001b[2mResolved \u001b[1m19 packages\u001b[0m \u001b[2min 68ms\u001b[0m\u001b[0m                                         \u001b[0m\n",
      "\u001b[2K\u001b[2mInstalled \u001b[1m16 packages\u001b[0m \u001b[2min 444ms\u001b[0m\u001b[0m                              \u001b[0m\n",
      " \u001b[32m+\u001b[39m \u001b[1mcontourpy\u001b[0m\u001b[2m==1.3.3\u001b[0m\n",
      " \u001b[32m+\u001b[39m \u001b[1mcycler\u001b[0m\u001b[2m==0.12.1\u001b[0m\n",
      " \u001b[32m+\u001b[39m \u001b[1mfonttools\u001b[0m\u001b[2m==4.59.2\u001b[0m\n",
      " \u001b[32m+\u001b[39m \u001b[1mjoblib\u001b[0m\u001b[2m==1.5.2\u001b[0m\n",
      " \u001b[32m+\u001b[39m \u001b[1mkiwisolver\u001b[0m\u001b[2m==1.4.9\u001b[0m\n",
      " \u001b[32m+\u001b[39m \u001b[1mmatplotlib\u001b[0m\u001b[2m==3.10.6\u001b[0m\n",
      " \u001b[32m+\u001b[39m \u001b[1mnumpy\u001b[0m\u001b[2m==2.3.2\u001b[0m\n",
      " \u001b[32m+\u001b[39m \u001b[1mpandas\u001b[0m\u001b[2m==2.3.2\u001b[0m\n",
      " \u001b[32m+\u001b[39m \u001b[1mpillow\u001b[0m\u001b[2m==11.3.0\u001b[0m\n",
      " \u001b[32m+\u001b[39m \u001b[1mpyparsing\u001b[0m\u001b[2m==3.2.3\u001b[0m\n",
      " \u001b[32m+\u001b[39m \u001b[1mpytz\u001b[0m\u001b[2m==2025.2\u001b[0m\n",
      " \u001b[32m+\u001b[39m \u001b[1mscikit-learn\u001b[0m\u001b[2m==1.7.1\u001b[0m\n",
      " \u001b[32m+\u001b[39m \u001b[1mscipy\u001b[0m\u001b[2m==1.16.1\u001b[0m\n",
      " \u001b[32m+\u001b[39m \u001b[1mseaborn\u001b[0m\u001b[2m==0.13.2\u001b[0m\n",
      " \u001b[32m+\u001b[39m \u001b[1mthreadpoolctl\u001b[0m\u001b[2m==3.6.0\u001b[0m\n",
      " \u001b[32m+\u001b[39m \u001b[1mtzdata\u001b[0m\u001b[2m==2025.2\u001b[0m\n"
     ]
    }
   ],
   "source": [
    "!uv pip install \\\n",
    "    matplotlib==3.10.6 \\\n",
    "    seaborn==0.13.2 \\\n",
    "    scikit-learn==1.7.1\n"
   ]
  },
  {
   "cell_type": "code",
   "execution_count": null,
   "id": "d4c6723d",
   "metadata": {},
   "outputs": [],
   "source": [
    "import matplotlib.pyplot as plt\n",
    "import seaborn as sns\n",
    "from sklearn.datasets import fetch_california_housing\n",
    "from sklearn.model_selection import train_test_split\n",
    "from sklearn.neighbors import KNeighborsRegressor\n",
    "from sklearn.pipeline import make_pipeline\n",
    "from sklearn.preprocessing import StandardScaler"
   ]
  },
  {
   "cell_type": "code",
   "execution_count": null,
   "id": "0dc3179a",
   "metadata": {},
   "outputs": [
    {
     "data": {
      "text/plain": [
       "(20640, 8)"
      ]
     },
     "execution_count": 6,
     "metadata": {},
     "output_type": "execute_result"
    }
   ],
   "source": [
    "housing = fetch_california_housing()\n",
    "\n",
    "housing.data.shape"
   ]
  },
  {
   "cell_type": "code",
   "execution_count": null,
   "id": "b2fda7a8",
   "metadata": {},
   "outputs": [
    {
     "data": {
      "text/plain": [
       "dict_keys(['data', 'target', 'frame', 'target_names', 'feature_names', 'DESCR'])"
      ]
     },
     "execution_count": 9,
     "metadata": {},
     "output_type": "execute_result"
    }
   ],
   "source": [
    "housing.keys()"
   ]
  },
  {
   "cell_type": "code",
   "execution_count": null,
   "id": "3b6aa4e0",
   "metadata": {},
   "outputs": [
    {
     "name": "stdout",
     "output_type": "stream",
     "text": [
      "(15480, 8)\n",
      "(5160, 8)\n"
     ]
    }
   ],
   "source": [
    "X_train, X_test, y_train, y_test = train_test_split(\n",
    "    housing.data, housing.target\n",
    ")\n",
    "\n",
    "print(X_train.shape)\n",
    "print(X_test.shape)"
   ]
  },
  {
   "cell_type": "code",
   "execution_count": null,
   "id": "bff74212",
   "metadata": {},
   "outputs": [],
   "source": [
    "def get_r_squared(k=9):\n",
    "    train_score = []\n",
    "    test_score = []\n",
    "    models = []\n",
    "\n",
    "    for neighbors in range(1, k + 1):\n",
    "        model = KNeighborsRegressor(n_neighbors=neighbors)\n",
    "\n",
    "        model.fit(X_train, y_train)\n",
    "\n",
    "        train_score.append(model.score(X_train, y_train))\n",
    "        test_score.append(model.score(X_test, y_test))\n",
    "\n",
    "        models.append(model)\n",
    "\n",
    "    return train_score, test_score, models"
   ]
  },
  {
   "cell_type": "code",
   "execution_count": null,
   "id": "59745d80",
   "metadata": {},
   "outputs": [],
   "source": [
    "train_score, test_score, models = get_r_squared()"
   ]
  },
  {
   "cell_type": "code",
   "execution_count": null,
   "id": "772aa154",
   "metadata": {},
   "outputs": [
    {
     "data": {
      "text/plain": [
       "[1.0,\n",
       " 0.6997642271304491,\n",
       " 0.5801419067217667,\n",
       " 0.5001977481232421,\n",
       " 0.44405507627322427,\n",
       " 0.4071493868910271,\n",
       " 0.37615810372027225,\n",
       " 0.3538219340506408,\n",
       " 0.33289385252928283]"
      ]
     },
     "execution_count": 13,
     "metadata": {},
     "output_type": "execute_result"
    }
   ],
   "source": [
    "train_score"
   ]
  },
  {
   "cell_type": "code",
   "execution_count": null,
   "id": "793ffe62",
   "metadata": {},
   "outputs": [
    {
     "data": {
      "text/plain": [
       "[-0.18468155435295963,\n",
       " 0.05415067113622163,\n",
       " 0.10010913447909664,\n",
       " 0.13119830694246115,\n",
       " 0.13637041065267874,\n",
       " 0.14462073364655825,\n",
       " 0.14970859505022693,\n",
       " 0.14688816811671124,\n",
       " 0.1482739618013098]"
      ]
     },
     "execution_count": 14,
     "metadata": {},
     "output_type": "execute_result"
    }
   ],
   "source": [
    "test_score"
   ]
  },
  {
   "cell_type": "code",
   "execution_count": null,
   "id": "99e37dd5",
   "metadata": {},
   "outputs": [
    {
     "name": "stdout",
     "output_type": "stream",
     "text": [
      "Training r2 for 6 neighbors: 0.41\n",
      "Testing r2 for 6 neighbors: 0.14\n"
     ]
    }
   ],
   "source": [
    "# Examining performance for k=6\n",
    "print(f\"Training r2 for 6 neighbors: {train_score[5]:.2f}\")\n",
    "print(f\"Testing r2 for 6 neighbors: {test_score[5]:.2f}\")"
   ]
  },
  {
   "cell_type": "code",
   "execution_count": null,
   "id": "a6ea11d1",
   "metadata": {},
   "outputs": [
    {
     "data": {
      "image/png": "[encoded data removed]",
      "text/plain": [
       "<Figure size 640x480 with 1 Axes>"
      ]
     },
     "metadata": {},
     "output_type": "display_data"
    }
   ],
   "source": [
    "k = range(1, 10)\n",
    "plt.plot(k, train_score, label=\"Training\")\n",
    "plt.plot(k, test_score, label=\"Testing\")\n",
    "plt.xlabel(\"neighbours\")\n",
    "plt.ylabel(\"$r^2$\")\n",
    "plt.legend()\n",
    "plt.show()"
   ]
  },
  {
   "cell_type": "code",
   "execution_count": null,
   "id": "dacad8f4",
   "metadata": {},
   "outputs": [],
   "source": [
    "def get_r_squared_scaled(k=9):\n",
    "    train_score = []\n",
    "    test_score = []\n",
    "    models = []\n",
    "    for neighbors in range(1, k + 1):\n",
    "        model = make_pipeline(\n",
    "            StandardScaler(), KNeighborsRegressor(n_neighbors=neighbors)\n",
    "        )\n",
    "        model.fit(X_train, y_train)\n",
    "        train_score.append(model.score(X_train, y_train))\n",
    "        test_score.append(model.score(X_test, y_test))\n",
    "        models.append(model)\n",
    "    return train_score, test_score, models"
   ]
  },
  {
   "cell_type": "code",
   "execution_count": null,
   "id": "5eb6fc2a",
   "metadata": {},
   "outputs": [],
   "source": [
    "train_score, test_score, models = get_r_squared_scaled()"
   ]
  },
  {
   "cell_type": "code",
   "execution_count": null,
   "id": "fd18e3bb",
   "metadata": {},
   "outputs": [
    {
     "name": "stdout",
     "output_type": "stream",
     "text": [
      "Training r2 for 6 neighbors: 0.79\n",
      "Testing r2 for 6 neighbors: 0.71\n"
     ]
    }
   ],
   "source": [
    "# Examining performance for k=6\n",
    "print(f\"Training r2 for 6 neighbors: {train_score[5]:.2f}\")\n",
    "print(f\"Testing r2 for 6 neighbors: {test_score[5]:.2f}\")"
   ]
  }
 ],
 "metadata": {
  "kernelspec": {
   "display_name": "uv-3.12",
   "language": "python",
   "name": "uv-3.12"
  },
  "language_info": {
   "codemirror_mode": {
    "name": "ipython",
    "version": 3
   },
   "file_extension": ".py",
   "mimetype": "text/x-python",
   "name": "python",
   "nbconvert_exporter": "python",
   "pygments_lexer": "ipython3",
   "version": "3.12.6"
  }
 },
 "nbformat": 4,
 "nbformat_minor": 5
}

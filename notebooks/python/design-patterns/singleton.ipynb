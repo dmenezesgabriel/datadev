{
 "cells": [
  {
   "cell_type": "markdown",
   "id": "13627609",
   "metadata": {},
   "source": [
    "# Singleton\n"
   ]
  },
  {
   "cell_type": "markdown",
   "id": "319a11cb",
   "metadata": {},
   "source": [
    "## Import packages\n"
   ]
  },
  {
   "cell_type": "code",
   "execution_count": null,
   "id": "3187efbc",
   "metadata": {},
   "outputs": [],
   "source": [
    "import sqlite3\n",
    "import threading\n",
    "from typing import Any, Dict, Type"
   ]
  },
  {
   "cell_type": "markdown",
   "id": "2df508b5",
   "metadata": {},
   "source": [
    "### Singleton\n"
   ]
  },
  {
   "cell_type": "markdown",
   "id": "816c955d",
   "metadata": {},
   "source": [
    "Ensure only one instance of a class exists, no matter how many times you instantiate it.\n"
   ]
  },
  {
   "cell_type": "code",
   "execution_count": null,
   "id": "dcb97e7e",
   "metadata": {},
   "outputs": [],
   "source": [
    "class Singleton(type):\n",
    "    _instances: Dict[Type, Any] = {}\n",
    "    _locks: Dict[Type, threading.Lock] = {}\n",
    "    _global_lock: threading.Lock = threading.Lock()\n",
    "\n",
    "    def __call__(cls, *args: Any, **kwargs: Any) -> Any:\n",
    "        if cls in cls._instances:\n",
    "            return cls._instances[cls]\n",
    "\n",
    "        with cls._global_lock:\n",
    "            lock = cls._locks.setdefault(cls, threading.Lock())\n",
    "\n",
    "        with lock:\n",
    "            if cls not in cls._instances:\n",
    "                cls._instances[cls] = super().__call__(*args, **kwargs)\n",
    "        return cls._instances[cls]\n",
    "\n",
    "    @staticmethod\n",
    "    def drop() -> None:\n",
    "        Singleton._instances.clear()\n",
    "        Singleton._locks.clear()"
   ]
  },
  {
   "cell_type": "markdown",
   "id": "e7c231e2",
   "metadata": {},
   "source": [
    "#### Usage\n"
   ]
  },
  {
   "cell_type": "code",
   "execution_count": null,
   "id": "4c893cf8",
   "metadata": {},
   "outputs": [
    {
     "name": "stdout",
     "output_type": "stream",
     "text": [
      "True\n"
     ]
    }
   ],
   "source": [
    "class Database(metaclass=Singleton):\n",
    "    def __init__(self, db_url: str = \":memory:\"):\n",
    "        self.conn = sqlite3.connect(db_url)\n",
    "\n",
    "    def query(self, sql: str):\n",
    "        return self.conn.execute(sql).fetchall()\n",
    "\n",
    "\n",
    "db1 = Database(\"database.sqlite\")\n",
    "db2 = Database(\"ignored.sqlite\")\n",
    "\n",
    "print(db1 is db2)"
   ]
  },
  {
   "cell_type": "markdown",
   "id": "9ea6e1a1",
   "metadata": {},
   "source": [
    "### Singleton (multiton pattern)\n"
   ]
  },
  {
   "cell_type": "markdown",
   "id": "1b27890e",
   "metadata": {},
   "source": [
    "Ensure one instance per unique argument combination, as a cached object keyed by constructor arguments.\n"
   ]
  },
  {
   "cell_type": "code",
   "execution_count": null,
   "id": "ab2ffec6",
   "metadata": {},
   "outputs": [],
   "source": [
    "class SingletonHash(type):\n",
    "    _instances: Dict[int, Any] = {}\n",
    "    _locks: Dict[int, threading.Lock] = {}\n",
    "    _global_lock: threading.Lock = threading.Lock()\n",
    "\n",
    "    def __call__(cls, *args: Any, **kwargs: Any) -> Any:\n",
    "        key = hash((cls, args, frozenset(kwargs.items())))\n",
    "\n",
    "        if key in cls._instances:\n",
    "            return cls._instances[key]\n",
    "\n",
    "        with cls._global_lock:\n",
    "            lock = cls._locks.setdefault(key, threading.Lock())\n",
    "\n",
    "        with lock:\n",
    "            if key not in cls._instances:\n",
    "                cls._instances[key] = super().__call__(*args, **kwargs)\n",
    "\n",
    "        return cls._instances[key]\n",
    "\n",
    "    @staticmethod\n",
    "    def drop() -> None:\n",
    "        SingletonHash._instances.clear()\n",
    "        SingletonHash._locks.clear()"
   ]
  },
  {
   "cell_type": "markdown",
   "id": "0dbad782",
   "metadata": {},
   "source": [
    "#### Usage\n"
   ]
  },
  {
   "cell_type": "code",
   "execution_count": null,
   "id": "110a8306",
   "metadata": {},
   "outputs": [
    {
     "name": "stdout",
     "output_type": "stream",
     "text": [
      "True\n",
      "False\n"
     ]
    }
   ],
   "source": [
    "class APIClient(metaclass=SingletonHash):\n",
    "    def __init__(self, base_url: str):\n",
    "        self.base_url = base_url\n",
    "\n",
    "\n",
    "client1 = APIClient(\"https://service1.com\")\n",
    "client2 = APIClient(\"https://service1.com\")\n",
    "client3 = APIClient(\"https://service2.com\")\n",
    "\n",
    "print(client1 is client2)\n",
    "print(client1 is client3)"
   ]
  },
  {
   "cell_type": "code",
   "execution_count": null,
   "id": "cecd7068",
   "metadata": {},
   "outputs": [
    {
     "name": "stdout",
     "output_type": "stream",
     "text": [
      "True\n",
      "False\n"
     ]
    }
   ],
   "source": [
    "class Config(metaclass=SingletonHash):\n",
    "    def __init__(self, env: str):\n",
    "        self.env = env\n",
    "\n",
    "\n",
    "dev_config1 = Config(\"dev\")\n",
    "dev_config2 = Config(\"dev\")\n",
    "prod_config = Config(\"prod\")\n",
    "\n",
    "print(dev_config1 is dev_config2)\n",
    "print(dev_config1 is prod_config)"
   ]
  }
 ],
 "metadata": {
  "kernelspec": {
   "display_name": "uv-3.12",
   "language": "python",
   "name": "uv-3.12"
  },
  "language_info": {
   "codemirror_mode": {
    "name": "ipython",
    "version": 3
   },
   "file_extension": ".py",
   "mimetype": "text/x-python",
   "name": "python",
   "nbconvert_exporter": "python",
   "pygments_lexer": "ipython3",
   "version": "3.12.6"
  }
 },
 "nbformat": 4,
 "nbformat_minor": 5
}

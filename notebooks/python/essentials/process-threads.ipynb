{
 "cells": [
  {
   "cell_type": "markdown",
   "id": "105661e3",
   "metadata": {},
   "source": [
    "# Process and threads\n"
   ]
  },
  {
   "cell_type": "markdown",
   "id": "0afb79d9",
   "metadata": {},
   "source": [
    "- **Program**: Sequence of instructions written in a programming language.\n",
    "- **Process**: Process is an instance of a program that is being executed.\n",
    "  - Separated memory spaces.\n",
    "  - One process cannot corrupt another one.\n",
    "- **Thread**: Is an unity of execution within a process.\n"
   ]
  },
  {
   "cell_type": "markdown",
   "id": "1390569b",
   "metadata": {},
   "source": [
    "## Import packages\n"
   ]
  },
  {
   "cell_type": "code",
   "execution_count": null,
   "id": "b33136b4",
   "metadata": {},
   "outputs": [],
   "source": [
    "import multiprocessing\n",
    "import threading\n",
    "import time"
   ]
  },
  {
   "cell_type": "markdown",
   "id": "cecfebdf",
   "metadata": {},
   "source": [
    "## Multithreading\n",
    "\n",
    "- Concurrent execution\n",
    "- I/O bound tasks\n"
   ]
  },
  {
   "cell_type": "markdown",
   "id": "d76311b5",
   "metadata": {},
   "source": [
    "Simulate some I/O expensive task.\n"
   ]
  },
  {
   "cell_type": "code",
   "execution_count": null,
   "id": "2940570c",
   "metadata": {},
   "outputs": [],
   "source": [
    "def expensive_io_operation(index, sleep_time):\n",
    "    print(f\"Task {index}: Starting I/O operation...\")\n",
    "    time.sleep(sleep_time)  # Simulate the I/O wait time\n",
    "    print(f\"Task {index}: Finished I/O operation.\")"
   ]
  },
  {
   "cell_type": "markdown",
   "id": "732dec15",
   "metadata": {},
   "source": [
    "Execute synchronously.\n"
   ]
  },
  {
   "cell_type": "code",
   "execution_count": null,
   "id": "76e54077",
   "metadata": {},
   "outputs": [
    {
     "name": "stdout",
     "output_type": "stream",
     "text": [
      "Task 0: Starting I/O operation...\n",
      "Task 0: Finished I/O operation.\n",
      "Task 1: Starting I/O operation...\n",
      "Task 1: Finished I/O operation.\n",
      "Task 2: Starting I/O operation...\n",
      "Task 2: Finished I/O operation.\n",
      "Task 3: Starting I/O operation...\n",
      "Task 3: Finished I/O operation.\n",
      "Task 4: Starting I/O operation...\n",
      "Task 4: Finished I/O operation.\n",
      "Operation took 5 seconds\n"
     ]
    }
   ],
   "source": [
    "def do_something_that_takes_time():\n",
    "    start_time = time.time()\n",
    "\n",
    "    io_operation_execution_time_in_seconds = 1\n",
    "    for index in range(5):\n",
    "        # some I/O expensive task\n",
    "        expensive_io_operation(index, io_operation_execution_time_in_seconds)\n",
    "\n",
    "    end_time = time.time()\n",
    "    print(f\"Operation took {end_time - start_time:.0f} seconds\")\n",
    "\n",
    "\n",
    "do_something_that_takes_time()"
   ]
  },
  {
   "cell_type": "markdown",
   "id": "61a93cae",
   "metadata": {},
   "source": [
    "Execute the same tasks in parallel with threads.\n"
   ]
  },
  {
   "cell_type": "code",
   "execution_count": null,
   "id": "a34fe7f0",
   "metadata": {},
   "outputs": [
    {
     "name": "stdout",
     "output_type": "stream",
     "text": [
      "Task 0: Starting I/O operation...\n",
      "Task 1: Starting I/O operation...\n",
      "Task 2: Starting I/O operation...\n",
      "Task 3: Starting I/O operation...\n",
      "Task 4: Starting I/O operation...\n",
      "Task 0: Finished I/O operation.\n",
      "Task 1: Finished I/O operation.\n",
      "Task 2: Finished I/O operation.\n",
      "Task 3: Finished I/O operation.\n",
      "Task 4: Finished I/O operation.\n",
      "Operation took 1 seconds\n"
     ]
    }
   ],
   "source": [
    "def do_something_that_takes_time_using_threads():\n",
    "    start_time = time.time()\n",
    "\n",
    "    threads = []\n",
    "    io_operation_execution_time_in_seconds = 1\n",
    "\n",
    "    for index in range(5):\n",
    "        thread = threading.Thread(\n",
    "            target=expensive_io_operation,\n",
    "            args=(index, io_operation_execution_time_in_seconds),\n",
    "        )\n",
    "        threads.append(thread)\n",
    "        thread.start()\n",
    "\n",
    "    # Wait for all threads to complete (join)\n",
    "    for thread in threads:\n",
    "        # Blocks the main program until this specific thread\n",
    "        # terminates\n",
    "        thread.join()\n",
    "\n",
    "    end_time = time.time()\n",
    "\n",
    "    print(f\"Operation took {end_time - start_time:.0f} seconds\")\n",
    "\n",
    "\n",
    "do_something_that_takes_time_using_threads()"
   ]
  },
  {
   "cell_type": "markdown",
   "id": "b6e2803a",
   "metadata": {},
   "source": [
    "## Multiprocessing\n",
    "\n",
    "- Run processes in parallel\n",
    "- CPU bound tasks\n",
    "- Use multiple cores of CPU\n"
   ]
  },
  {
   "cell_type": "code",
   "execution_count": 11,
   "id": "87cfa659",
   "metadata": {},
   "outputs": [],
   "source": [
    "def expensive_cpu_operation(index, sleep_time):\n",
    "    print(f\"Task {index}: Starting CPU operation...\")\n",
    "    time.sleep(sleep_time)  # Simulate the CPU wait time\n",
    "    print(f\"Task {index}: Finished CPU operation.\")"
   ]
  }
 ],
 "metadata": {
  "kernelspec": {
   "display_name": "uv-3.12",
   "language": "python",
   "name": "uv-3.12"
  },
  "language_info": {
   "codemirror_mode": {
    "name": "ipython",
    "version": 3
   },
   "file_extension": ".py",
   "mimetype": "text/x-python",
   "name": "python",
   "nbconvert_exporter": "python",
   "pygments_lexer": "ipython3",
   "version": "3.12.6"
  }
 },
 "nbformat": 4,
 "nbformat_minor": 5
}

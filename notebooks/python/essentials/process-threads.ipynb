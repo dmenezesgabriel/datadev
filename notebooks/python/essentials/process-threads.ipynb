{
 "cells": [
  {
   "cell_type": "markdown",
   "id": "105661e3",
   "metadata": {},
   "source": [
    "# Process and threads\n"
   ]
  },
  {
   "cell_type": "markdown",
   "id": "0afb79d9",
   "metadata": {},
   "source": [
    "- **Program**: Sequence of instructions written in a programming language.\n",
    "- **Process**: Process is an instance of a program that is being executed.\n",
    "  - Separated memory spaces.\n",
    "  - One process cannot corrupt another one.\n",
    "- **Thread**: Is an unity of execution within a process.\n"
   ]
  },
  {
   "cell_type": "markdown",
   "id": "1390569b",
   "metadata": {},
   "source": [
    "## Import packages\n"
   ]
  },
  {
   "cell_type": "code",
   "execution_count": null,
   "id": "b33136b4",
   "metadata": {},
   "outputs": [],
   "source": [
    "import multiprocessing\n",
    "import threading\n",
    "import time\n",
    "from concurrent.futures import ProcessPoolExecutor, ThreadPoolExecutor"
   ]
  },
  {
   "cell_type": "markdown",
   "id": "cecfebdf",
   "metadata": {},
   "source": [
    "## Multithreading\n",
    "\n",
    "- Concurrent execution\n",
    "- I/O bound tasks\n"
   ]
  },
  {
   "cell_type": "markdown",
   "id": "d76311b5",
   "metadata": {},
   "source": [
    "Simulate some I/O expensive task.\n"
   ]
  },
  {
   "cell_type": "code",
   "execution_count": null,
   "id": "2940570c",
   "metadata": {},
   "outputs": [],
   "source": [
    "def expensive_io_operation(index, sleep_time):\n",
    "    print(f\"Task {index}: Starting I/O operation...\")\n",
    "    time.sleep(sleep_time)  # Simulate the I/O wait time\n",
    "    print(f\"Task {index}: Finished I/O operation.\")"
   ]
  },
  {
   "cell_type": "markdown",
   "id": "732dec15",
   "metadata": {},
   "source": [
    "Execute synchronously.\n"
   ]
  },
  {
   "cell_type": "code",
   "execution_count": null,
   "id": "76e54077",
   "metadata": {},
   "outputs": [
    {
     "name": "stdout",
     "output_type": "stream",
     "text": [
      "Task 0: Starting I/O operation...\n",
      "Task 0: Finished I/O operation.\n",
      "Task 1: Starting I/O operation...\n",
      "Task 1: Finished I/O operation.\n",
      "Task 2: Starting I/O operation...\n",
      "Task 2: Finished I/O operation.\n",
      "Task 3: Starting I/O operation...\n",
      "Task 3: Finished I/O operation.\n",
      "Task 4: Starting I/O operation...\n",
      "Task 4: Finished I/O operation.\n",
      "Operation took 5 seconds\n"
     ]
    }
   ],
   "source": [
    "def do_something_that_takes_time():\n",
    "    start_time = time.time()\n",
    "\n",
    "    io_operation_execution_time_in_seconds = 1\n",
    "    for index in range(5):\n",
    "        # some I/O expensive task\n",
    "        expensive_io_operation(index, io_operation_execution_time_in_seconds)\n",
    "\n",
    "    end_time = time.time()\n",
    "    print(f\"Operation took {end_time - start_time:.0f} seconds\")\n",
    "\n",
    "\n",
    "do_something_that_takes_time()"
   ]
  },
  {
   "cell_type": "markdown",
   "id": "61a93cae",
   "metadata": {},
   "source": [
    "Execute the same tasks in parallel with threads.\n"
   ]
  },
  {
   "cell_type": "code",
   "execution_count": null,
   "id": "a34fe7f0",
   "metadata": {},
   "outputs": [
    {
     "name": "stdout",
     "output_type": "stream",
     "text": [
      "Task 0: Starting I/O operation...\n",
      "Task 1: Starting I/O operation...\n",
      "Task 2: Starting I/O operation...\n",
      "Task 3: Starting I/O operation...\n",
      "Task 4: Starting I/O operation...\n",
      "Task 0: Finished I/O operation.\n",
      "Task 1: Finished I/O operation.\n",
      "Task 2: Finished I/O operation.\n",
      "Task 3: Finished I/O operation.\n",
      "Task 4: Finished I/O operation.\n",
      "Operation took 1 seconds\n"
     ]
    }
   ],
   "source": [
    "def do_something_that_takes_time_using_threads():\n",
    "    start_time = time.time()\n",
    "\n",
    "    threads = []\n",
    "    io_operation_execution_time_in_seconds = 1\n",
    "\n",
    "    for index in range(5):\n",
    "        thread = threading.Thread(\n",
    "            target=expensive_io_operation,\n",
    "            args=(index, io_operation_execution_time_in_seconds),\n",
    "        )\n",
    "        threads.append(thread)\n",
    "        thread.start()\n",
    "\n",
    "    # Wait for all threads to complete (join)\n",
    "    for thread in threads:\n",
    "        # Blocks the main program until this specific thread\n",
    "        # terminates\n",
    "        thread.join()\n",
    "\n",
    "    end_time = time.time()\n",
    "\n",
    "    print(f\"Operation took {end_time - start_time:.0f} seconds\")\n",
    "\n",
    "\n",
    "do_something_that_takes_time_using_threads()"
   ]
  },
  {
   "cell_type": "markdown",
   "id": "13da1410",
   "metadata": {},
   "source": [
    "### Thread Pool Executor\n"
   ]
  },
  {
   "cell_type": "code",
   "execution_count": null,
   "id": "aff26dda",
   "metadata": {},
   "outputs": [
    {
     "name": "stdout",
     "output_type": "stream",
     "text": [
      "Number: 0\n",
      "Number: 1\n",
      "Number: 2\n",
      "Number: 3\n",
      "Number: 4\n",
      "Operation took 2 seconds\n"
     ]
    }
   ],
   "source": [
    "def log_a_number(number: int):\n",
    "    time.sleep(1)\n",
    "    return f\"Number: {number}\"\n",
    "\n",
    "\n",
    "with ThreadPoolExecutor(max_workers=3) as executor:\n",
    "    start_time = time.time()\n",
    "\n",
    "    numbers = [index for index in range(5)]\n",
    "    results = executor.map(log_a_number, numbers)\n",
    "\n",
    "    for result in results:\n",
    "        print(result)\n",
    "\n",
    "    end_time = time.time()\n",
    "\n",
    "    print(f\"Operation took {end_time - start_time:.0f} seconds\")"
   ]
  },
  {
   "cell_type": "markdown",
   "id": "b6e2803a",
   "metadata": {},
   "source": [
    "## Multiprocessing\n",
    "\n",
    "- Run processes in parallel\n",
    "- CPU bound tasks\n",
    "- Use multiple cores of CPU\n"
   ]
  },
  {
   "cell_type": "code",
   "execution_count": null,
   "id": "87cfa659",
   "metadata": {},
   "outputs": [],
   "source": [
    "def expensive_cpu_operation(index, sleep_time):\n",
    "    print(f\"Task {index}: Starting CPU operation...\")\n",
    "    time.sleep(sleep_time)  # Simulate the CPU wait time\n",
    "    print(f\"Task {index}: Finished CPU operation.\")"
   ]
  },
  {
   "cell_type": "code",
   "execution_count": null,
   "id": "d2493d88",
   "metadata": {},
   "outputs": [
    {
     "name": "stdout",
     "output_type": "stream",
     "text": [
      "Task 0: Starting I/O operation...\n",
      "Task 1: Starting I/O operation...\n",
      "Task 2: Starting I/O operation...\n",
      "Task 3: Starting I/O operation...\n",
      "Task 4: Starting I/O operation...\n"
     ]
    },
    {
     "name": "stdout",
     "output_type": "stream",
     "text": [
      "Task 0: Finished I/O operation.\n",
      "Task 1: Finished I/O operation.\n",
      "Task 2: Finished I/O operation.Task 3: Finished I/O operation.\n",
      "Task 4: Finished I/O operation.\n",
      "\n",
      "Operation took 1 seconds\n"
     ]
    }
   ],
   "source": [
    "def do_something_that_takes_time_using_cpus():\n",
    "    start_time = time.time()\n",
    "\n",
    "    processes = []\n",
    "    cpu_operation_execution_time_in_seconds = 1\n",
    "\n",
    "    for index in range(5):\n",
    "        process = multiprocessing.Process(\n",
    "            target=expensive_io_operation,\n",
    "            args=(index, cpu_operation_execution_time_in_seconds),\n",
    "        )\n",
    "        processes.append(process)\n",
    "        process.start()\n",
    "\n",
    "    # Wait for all processes to complete (join)\n",
    "    for process in processes:\n",
    "        # Blocks the main program until this specific process\n",
    "        # terminates\n",
    "        process.join()\n",
    "\n",
    "    end_time = time.time()\n",
    "\n",
    "    print(f\"Operation took {end_time - start_time:.0f} seconds\")\n",
    "\n",
    "\n",
    "do_something_that_takes_time_using_cpus()"
   ]
  },
  {
   "cell_type": "markdown",
   "id": "ed33a4bd",
   "metadata": {},
   "source": [
    "### Process Pool Executor\n"
   ]
  },
  {
   "cell_type": "code",
   "execution_count": null,
   "id": "8d6a7fe6",
   "metadata": {},
   "outputs": [
    {
     "name": "stdout",
     "output_type": "stream",
     "text": [
      "Square: 0\n",
      "Square: 1\n",
      "Square: 4\n",
      "Square: 9\n",
      "Square: 16\n",
      "Operation took 2 seconds\n"
     ]
    }
   ],
   "source": [
    "def square_of_number(number: int):\n",
    "    time.sleep(1)\n",
    "    return f\"Square: {number ** 2}\"\n",
    "\n",
    "\n",
    "with ProcessPoolExecutor(max_workers=3) as executor:\n",
    "    start_time = time.time()\n",
    "\n",
    "    numbers = [index for index in range(5)]\n",
    "    results = executor.map(square_of_number, numbers)\n",
    "\n",
    "    for result in results:\n",
    "        print(result)\n",
    "\n",
    "    end_time = time.time()\n",
    "\n",
    "    print(f\"Operation took {end_time - start_time:.0f} seconds\")"
   ]
  }
 ],
 "metadata": {
  "kernelspec": {
   "display_name": "uv-3.12",
   "language": "python",
   "name": "uv-3.12"
  },
  "language_info": {
   "codemirror_mode": {
    "name": "ipython",
    "version": 3
   },
   "file_extension": ".py",
   "mimetype": "text/x-python",
   "name": "python",
   "nbconvert_exporter": "python",
   "pygments_lexer": "ipython3",
   "version": "3.12.6"
  }
 },
 "nbformat": 4,
 "nbformat_minor": 5
}

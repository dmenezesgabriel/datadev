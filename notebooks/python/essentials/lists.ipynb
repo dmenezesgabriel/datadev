{
  "cells": [
    {
      "cell_type": "markdown",
      "id": "5d93c79b-3a79-4ab1-8fd0-5a9503c90133",
      "metadata": {},
      "source": [
        "# Lists\n"
      ]
    },
    {
      "cell_type": "markdown",
      "id": "9cff19b3-d08a-4344-9420-dd8081bcdc0f",
      "metadata": {},
      "source": [
        "## Slicing\n"
      ]
    },
    {
      "cell_type": "code",
      "execution_count": null,
      "id": "5a99228c",
      "metadata": {},
      "outputs": [
        {
          "data": {
            "text/plain": [
              "['apple', 'banana', 'cherry', 'kiwi', 'orange']"
            ]
          },
          "execution_count": 1,
          "metadata": {},
          "output_type": "execute_result"
        }
      ],
      "source": [
        "fruits = [\"apple\", \"banana\", \"cherry\", \"kiwi\", \"orange\"]\n",
        "fruits"
      ]
    },
    {
      "cell_type": "code",
      "execution_count": null,
      "id": "e2750037",
      "metadata": {},
      "outputs": [
        {
          "name": "stdout",
          "output_type": "stream",
          "text": [
            "Accessing element with index 0:\n"
          ]
        },
        {
          "data": {
            "text/plain": [
              "'apple'"
            ]
          },
          "execution_count": 2,
          "metadata": {},
          "output_type": "execute_result"
        }
      ],
      "source": [
        "print(\"Accessing element with index 0:\")\n",
        "fruits[0]"
      ]
    },
    {
      "cell_type": "code",
      "execution_count": null,
      "id": "fa292c61",
      "metadata": {},
      "outputs": [
        {
          "name": "stdout",
          "output_type": "stream",
          "text": [
            "Accessing element with index 2:\n"
          ]
        },
        {
          "data": {
            "text/plain": [
              "'cherry'"
            ]
          },
          "execution_count": 3,
          "metadata": {},
          "output_type": "execute_result"
        }
      ],
      "source": [
        "print(\"Accessing element with index 2:\")\n",
        "fruits[2]"
      ]
    },
    {
      "cell_type": "code",
      "execution_count": null,
      "id": "e5d109f2",
      "metadata": {},
      "outputs": [
        {
          "name": "stdout",
          "output_type": "stream",
          "text": [
            "Accessing last element:\n"
          ]
        },
        {
          "data": {
            "text/plain": [
              "'orange'"
            ]
          },
          "execution_count": 4,
          "metadata": {},
          "output_type": "execute_result"
        }
      ],
      "source": [
        "print(\"Accessing last element:\")\n",
        "fruits[-1]"
      ]
    },
    {
      "cell_type": "code",
      "execution_count": null,
      "id": "3bdb651c",
      "metadata": {},
      "outputs": [
        {
          "name": "stdout",
          "output_type": "stream",
          "text": [
            "Slicing from index 1 to 3:\n"
          ]
        },
        {
          "data": {
            "text/plain": [
              "['banana', 'cherry']"
            ]
          },
          "execution_count": 5,
          "metadata": {},
          "output_type": "execute_result"
        }
      ],
      "source": [
        "print(\"Slicing from index 1 to 3:\")\n",
        "fruits[1:3]"
      ]
    },
    {
      "cell_type": "code",
      "execution_count": null,
      "id": "a28c897d-a515-4ba6-98b2-8b879b3f09fa",
      "metadata": {
        "trusted": true
      },
      "outputs": [
        {
          "name": "stdout",
          "output_type": "stream",
          "text": [
            "Replacing the second element with 'watermelon':\n"
          ]
        },
        {
          "data": {
            "text/plain": [
              "['apple', 'watermelon', 'cherry', 'kiwi', 'orange']"
            ]
          },
          "execution_count": 6,
          "metadata": {},
          "output_type": "execute_result"
        }
      ],
      "source": [
        "print(\"Replacing the second element with 'watermelon':\")\n",
        "fruits[1] = \"watermelon\"\n",
        "fruits"
      ]
    },
    {
      "cell_type": "code",
      "execution_count": null,
      "id": "27e8a307",
      "metadata": {},
      "outputs": [
        {
          "data": {
            "text/plain": [
              "[1, 2, 3, 4, 5, 6, 7, 8, 9, 10]"
            ]
          },
          "execution_count": 20,
          "metadata": {},
          "output_type": "execute_result"
        }
      ],
      "source": [
        "numbers = [1, 2, 3, 4, 5, 6, 7, 8, 9, 10]\n",
        "numbers"
      ]
    },
    {
      "cell_type": "code",
      "execution_count": null,
      "id": "4a1f001f",
      "metadata": {},
      "outputs": [
        {
          "name": "stdout",
          "output_type": "stream",
          "text": [
            "[3, 4, 5]\n",
            "[1, 2, 3, 4, 5]\n",
            "[6, 7, 8, 9, 10]\n",
            "[1, 3, 5, 7, 9]\n",
            "[10, 9, 8, 7, 6, 5, 4, 3, 2, 1]\n",
            "[10, 8, 6, 4, 2]\n"
          ]
        }
      ],
      "source": [
        "print(numbers[2:5])  # From index 2 to index 5\n",
        "print(numbers[:5])  # From the start to index 5\n",
        "print(numbers[5:])  # From index 5 to the end\n",
        "print(numbers[::2])  # Step size of 2\n",
        "print(numbers[::-1])  # Reverse the list\n",
        "print(numbers[::-2])  # Reverse the list with step size of 2"
      ]
    },
    {
      "cell_type": "markdown",
      "id": "3bdd0738-3a12-4275-94e9-eb36d6987a0e",
      "metadata": {},
      "source": [
        "## Methods\n"
      ]
    },
    {
      "cell_type": "code",
      "execution_count": null,
      "id": "b4f663bd",
      "metadata": {},
      "outputs": [],
      "source": [
        "fruits = [\"apple\", \"banana\", \"cherry\", \"kiwi\", \"orange\"]"
      ]
    },
    {
      "cell_type": "code",
      "execution_count": null,
      "id": "431ea0c6",
      "metadata": {},
      "outputs": [
        {
          "name": "stdout",
          "output_type": "stream",
          "text": [
            "Adding 'grape' to the end of the list:\n"
          ]
        },
        {
          "data": {
            "text/plain": [
              "['apple', 'grape', 'banana', 'cherry', 'kiwi', 'orange']"
            ]
          },
          "execution_count": 8,
          "metadata": {},
          "output_type": "execute_result"
        }
      ],
      "source": [
        "print(\"Adding 'grape' to the end of the list:\")\n",
        "fruits.insert(1, \"grape\")\n",
        "fruits"
      ]
    },
    {
      "cell_type": "code",
      "execution_count": null,
      "id": "acb3865a",
      "metadata": {},
      "outputs": [
        {
          "name": "stdout",
          "output_type": "stream",
          "text": [
            "Remove first occurrence of cherry:\n"
          ]
        },
        {
          "data": {
            "text/plain": [
              "['apple', 'grape', 'banana', 'kiwi', 'orange']"
            ]
          },
          "execution_count": 9,
          "metadata": {},
          "output_type": "execute_result"
        }
      ],
      "source": [
        "print(\"Remove first occurrence of cherry:\")\n",
        "fruits.remove(\"cherry\")  # remove first occurrence\n",
        "fruits"
      ]
    },
    {
      "cell_type": "code",
      "execution_count": null,
      "id": "f552ec14",
      "metadata": {},
      "outputs": [
        {
          "name": "stdout",
          "output_type": "stream",
          "text": [
            "Removing last element from list:\n",
            "orange\n"
          ]
        },
        {
          "data": {
            "text/plain": [
              "['apple', 'grape', 'banana', 'kiwi']"
            ]
          },
          "execution_count": 10,
          "metadata": {},
          "output_type": "execute_result"
        }
      ],
      "source": [
        "print(\"Removing last element from list:\")\n",
        "popped_fruits = fruits.pop()  # remove last item\n",
        "print(popped_fruits)\n",
        "fruits"
      ]
    },
    {
      "cell_type": "code",
      "execution_count": null,
      "id": "8c77ef87",
      "metadata": {},
      "outputs": [
        {
          "name": "stdout",
          "output_type": "stream",
          "text": [
            "Getting 'banana' index:\n"
          ]
        },
        {
          "data": {
            "text/plain": [
              "2"
            ]
          },
          "execution_count": 11,
          "metadata": {},
          "output_type": "execute_result"
        }
      ],
      "source": [
        "print(\"Getting 'banana' index:\")\n",
        "banana_index = fruits.index(\"banana\")  # find index of \"cherry\"\n",
        "banana_index"
      ]
    },
    {
      "cell_type": "code",
      "execution_count": null,
      "id": "09c1af22",
      "metadata": {},
      "outputs": [
        {
          "name": "stdout",
          "output_type": "stream",
          "text": [
            "Counting 'kiwi' occurrences:\n"
          ]
        },
        {
          "data": {
            "text/plain": [
              "2"
            ]
          },
          "execution_count": 12,
          "metadata": {},
          "output_type": "execute_result"
        }
      ],
      "source": [
        "print(\"Counting 'kiwi' occurrences:\")\n",
        "fruits.insert(2, \"kiwi\")  # insert \"kiwi\" at index 2\n",
        "kiwi_count = fruits.count(\"kiwi\")  # count occurrences of \"kiwi\"\n",
        "kiwi_count"
      ]
    },
    {
      "cell_type": "code",
      "execution_count": null,
      "id": "e637d8d1-9260-40f1-9e98-995e439fe1ef",
      "metadata": {
        "trusted": true
      },
      "outputs": [
        {
          "name": "stdout",
          "output_type": "stream",
          "text": [
            "Sort fruits: \n"
          ]
        },
        {
          "data": {
            "text/plain": [
              "['apple', 'banana', 'grape', 'kiwi', 'kiwi']"
            ]
          },
          "execution_count": 13,
          "metadata": {},
          "output_type": "execute_result"
        }
      ],
      "source": [
        "print(\"Sort fruits: \")\n",
        "fruits.sort()  # sort the list in ascending order\n",
        "fruits"
      ]
    },
    {
      "cell_type": "code",
      "execution_count": null,
      "id": "3b0768b0",
      "metadata": {},
      "outputs": [
        {
          "name": "stdout",
          "output_type": "stream",
          "text": [
            "Sort fruits: \n"
          ]
        },
        {
          "data": {
            "text/plain": [
              "['kiwi', 'kiwi', 'grape', 'banana', 'apple']"
            ]
          },
          "execution_count": 14,
          "metadata": {},
          "output_type": "execute_result"
        }
      ],
      "source": [
        "print(\"Sort fruits: \")\n",
        "fruits.reverse()  # sort the list in descending order\n",
        "fruits"
      ]
    },
    {
      "cell_type": "code",
      "execution_count": null,
      "id": "fba197aa",
      "metadata": {},
      "outputs": [
        {
          "name": "stdout",
          "output_type": "stream",
          "text": [
            "Remove all elements from the list: \n"
          ]
        },
        {
          "data": {
            "text/plain": [
              "[]"
            ]
          },
          "execution_count": 17,
          "metadata": {},
          "output_type": "execute_result"
        }
      ],
      "source": [
        "print(\"Remove all elements from the list: \")\n",
        "fruits.clear()  # sort the list in descending order\n",
        "fruits"
      ]
    },
    {
      "cell_type": "markdown",
      "id": "8697f7e8",
      "metadata": {},
      "source": [
        "## Iterating over a list\n"
      ]
    },
    {
      "cell_type": "code",
      "execution_count": null,
      "id": "17cb015e",
      "metadata": {},
      "outputs": [
        {
          "name": "stdout",
          "output_type": "stream",
          "text": [
            "Iterate over a list of numbers:\n",
            "1 2 3 4 5 6 7 8 9 10 "
          ]
        }
      ],
      "source": [
        "print(\"Iterate over a list of numbers:\")\n",
        "numbers = [1, 2, 3, 4, 5, 6, 7, 8, 9, 10]\n",
        "for number in numbers:\n",
        "    print(number, end=\" \")  # Print each number in the list"
      ]
    },
    {
      "cell_type": "code",
      "execution_count": null,
      "id": "c5119138",
      "metadata": {},
      "outputs": [
        {
          "name": "stdout",
          "output_type": "stream",
          "text": [
            "Iterate over a list of numbers printing index and value:\n",
            "Index: 0, Number: 1\n",
            "Index: 1, Number: 2\n",
            "Index: 2, Number: 3\n",
            "Index: 3, Number: 4\n",
            "Index: 4, Number: 5\n",
            "Index: 5, Number: 6\n",
            "Index: 6, Number: 7\n",
            "Index: 7, Number: 8\n",
            "Index: 8, Number: 9\n",
            "Index: 9, Number: 10\n"
          ]
        }
      ],
      "source": [
        "print(\"Iterate over a list of numbers printing index and value:\")\n",
        "for index, number in enumerate(numbers):\n",
        "    print(f\"Index: {index}, Number: {number}\")"
      ]
    },
    {
      "cell_type": "code",
      "execution_count": null,
      "id": "918f9635",
      "metadata": {},
      "outputs": [
        {
          "name": "stdout",
          "output_type": "stream",
          "text": [
            "List comprehension to create a new list with squares of numbers:\n"
          ]
        }
      ],
      "source": [
        "print(\"List comprehension to create a new list with squares of numbers:\")\n",
        "squares = [number**2 for number in range(1, 11)]"
      ]
    },
    {
      "cell_type": "code",
      "execution_count": null,
      "id": "523a3167",
      "metadata": {},
      "outputs": [
        {
          "name": "stdout",
          "output_type": "stream",
          "text": [
            "List comprehension to create a new list with even numbers:\n"
          ]
        }
      ],
      "source": [
        "print(\"List comprehension to create a new list with even numbers:\")\n",
        "even = [number for number in range(1, 11) if number % 2 == 0]"
      ]
    },
    {
      "cell_type": "code",
      "execution_count": null,
      "id": "be523338",
      "metadata": {},
      "outputs": [
        {
          "name": "stdout",
          "output_type": "stream",
          "text": [
            "Nested list comprehension:\n"
          ]
        },
        {
          "data": {
            "text/plain": [
              "[[1, 'a'],\n",
              " [1, 'b'],\n",
              " [1, 'c'],\n",
              " [1, 'd'],\n",
              " [2, 'a'],\n",
              " [2, 'b'],\n",
              " [2, 'c'],\n",
              " [2, 'd'],\n",
              " [3, 'a'],\n",
              " [3, 'b'],\n",
              " [3, 'c'],\n",
              " [3, 'd'],\n",
              " [4, 'a'],\n",
              " [4, 'b'],\n",
              " [4, 'c'],\n",
              " [4, 'd']]"
            ]
          },
          "execution_count": 18,
          "metadata": {},
          "output_type": "execute_result"
        }
      ],
      "source": [
        "print(\"Nested list comprehension:\")\n",
        "lst1 = [1, 2, 3, 4]\n",
        "lst2 = [\"a\", \"b\", \"c\", \"d\"]\n",
        "nested_list = [[i, j] for i in lst1 for j in lst2]\n",
        "nested_list"
      ]
    },
    {
      "cell_type": "code",
      "execution_count": null,
      "id": "e815131d",
      "metadata": {},
      "outputs": [
        {
          "name": "stdout",
          "output_type": "stream",
          "text": [
            "List comprehension with function calls:\n"
          ]
        },
        {
          "data": {
            "text/plain": [
              "[5, 5, 6]"
            ]
          },
          "execution_count": 19,
          "metadata": {},
          "output_type": "execute_result"
        }
      ],
      "source": [
        "print(\"List comprehension with function calls:\")\n",
        "words = [\"hello\", \"world\", \"python\"]\n",
        "length_words = [len(word) for word in words]\n",
        "length_words"
      ]
    }
  ],
  "metadata": {
    "kernelspec": {
      "display_name": ".venv",
      "language": "python",
      "name": "python3"
    },
    "language_info": {
      "codemirror_mode": {
        "name": "ipython",
        "version": 3
      },
      "file_extension": ".py",
      "mimetype": "text/x-python",
      "name": "python",
      "nbconvert_exporter": "python",
      "pygments_lexer": "ipython3",
      "version": "3.12.6"
    }
  },
  "nbformat": 4,
  "nbformat_minor": 5
}

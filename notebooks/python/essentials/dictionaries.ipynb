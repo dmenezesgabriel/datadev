{
 "cells": [
  {
   "cell_type": "markdown",
   "id": "cd5d0162",
   "metadata": {},
   "source": [
    "# Dictionaries\n"
   ]
  },
  {
   "cell_type": "markdown",
   "id": "b7fd0f31",
   "metadata": {},
   "source": [
    "Dictionaries are unordered collections of items. Data is stored in key value pairs and keys should be unique and immutable.\n"
   ]
  },
  {
   "cell_type": "code",
   "execution_count": 2,
   "id": "36a1779e",
   "metadata": {},
   "outputs": [
    {
     "name": "stdout",
     "output_type": "stream",
     "text": [
      "{}\n",
      "<class 'dict'>\n"
     ]
    }
   ],
   "source": [
    "empty_dict = {}\n",
    "print(empty_dict)\n",
    "print(type(empty_dict))"
   ]
  },
  {
   "cell_type": "code",
   "execution_count": 3,
   "id": "50b358b1",
   "metadata": {},
   "outputs": [
    {
     "name": "stdout",
     "output_type": "stream",
     "text": [
      "{}\n"
     ]
    }
   ],
   "source": [
    "empty_dict = dict()\n",
    "print(empty_dict)"
   ]
  },
  {
   "cell_type": "code",
   "execution_count": 5,
   "id": "13ca1360",
   "metadata": {},
   "outputs": [
    {
     "name": "stdout",
     "output_type": "stream",
     "text": [
      "{'name': 'John', 'age': 20, 'grade': 'A'}\n"
     ]
    }
   ],
   "source": [
    "student = {\"name\": \"John\", \"age\": 20, \"grade\": \"A\"}\n",
    "print(student)"
   ]
  },
  {
   "cell_type": "code",
   "execution_count": 7,
   "id": "3b005b5a",
   "metadata": {},
   "outputs": [
    {
     "name": "stdout",
     "output_type": "stream",
     "text": [
      "Accessing dictionary elements\n",
      "A\n"
     ]
    }
   ],
   "source": [
    "print(\"Accessing dictionary elements\")\n",
    "student = {\"name\": \"John\", \"age\": 20, \"grade\": \"A\"}\n",
    "print(student[\"grade\"])"
   ]
  },
  {
   "cell_type": "code",
   "execution_count": 10,
   "id": "8573f579",
   "metadata": {},
   "outputs": [
    {
     "name": "stdout",
     "output_type": "stream",
     "text": [
      "Accessing dictionary elements\n",
      "A\n",
      "None\n",
      "Not available\n"
     ]
    }
   ],
   "source": [
    "print(\"Accessing dictionary elements\")\n",
    "student = {\"name\": \"John\", \"age\": 20, \"grade\": \"A\"}\n",
    "print(student.get(\"grade\"))\n",
    "print(student.get(\"last_name\"))\n",
    "print(student.get(\"last_name\", \"Not available\"))"
   ]
  },
  {
   "cell_type": "code",
   "execution_count": 15,
   "id": "d77f0589",
   "metadata": {},
   "outputs": [
    {
     "name": "stdout",
     "output_type": "stream",
     "text": [
      "Modifying dictionary elements\n",
      "{'name': 'John', 'age': 20, 'grade': 'A'}\n",
      "{'name': 'John', 'age': 21, 'grade': 'A'}\n",
      "{'name': 'John', 'age': 21, 'grade': 'A', 'last_name': 'Doe'}\n",
      "{'name': 'John', 'age': 21, 'last_name': 'Doe'}\n"
     ]
    }
   ],
   "source": [
    "print(\"Modifying dictionary elements\")\n",
    "student = {\"name\": \"John\", \"age\": 20, \"grade\": \"A\"}\n",
    "print(student)\n",
    "student[\"age\"] = 21\n",
    "print(student)\n",
    "student[\"last_name\"] = \"Doe\"\n",
    "print(student)\n",
    "del student[\"grade\"]\n",
    "print(student)"
   ]
  },
  {
   "cell_type": "code",
   "execution_count": 16,
   "id": "ca1fc596",
   "metadata": {},
   "outputs": [
    {
     "data": {
      "text/plain": [
       "dict_keys(['name', 'age', 'grade'])"
      ]
     },
     "execution_count": 16,
     "metadata": {},
     "output_type": "execute_result"
    }
   ],
   "source": [
    "student = {\"name\": \"John\", \"age\": 20, \"grade\": \"A\"}\n",
    "student.keys()"
   ]
  },
  {
   "cell_type": "code",
   "execution_count": 17,
   "id": "16dedfbb",
   "metadata": {},
   "outputs": [
    {
     "data": {
      "text/plain": [
       "dict_values(['John', 20, 'A'])"
      ]
     },
     "execution_count": 17,
     "metadata": {},
     "output_type": "execute_result"
    }
   ],
   "source": [
    "student = {\"name\": \"John\", \"age\": 20, \"grade\": \"A\"}\n",
    "student.values()"
   ]
  },
  {
   "cell_type": "code",
   "execution_count": 18,
   "id": "6da4d0ca",
   "metadata": {},
   "outputs": [
    {
     "data": {
      "text/plain": [
       "dict_items([('name', 'John'), ('age', 20), ('grade', 'A')])"
      ]
     },
     "execution_count": 18,
     "metadata": {},
     "output_type": "execute_result"
    }
   ],
   "source": [
    "student = {\"name\": \"John\", \"age\": 20, \"grade\": \"A\"}\n",
    "student.items()"
   ]
  },
  {
   "cell_type": "code",
   "execution_count": 23,
   "id": "ffea5aca",
   "metadata": {},
   "outputs": [
    {
     "name": "stdout",
     "output_type": "stream",
     "text": [
      "{'name': 'John', 'age': 20, 'grade': 'A'}\n",
      "{'name': 'John', 'age': 21, 'grade': 'A'}\n",
      "{'name': 'John', 'age': 21, 'grade': 'A'}\n"
     ]
    }
   ],
   "source": [
    "student = {\"name\": \"John\", \"age\": 20, \"grade\": \"A\"}\n",
    "student_copy = student\n",
    "print(student_copy)\n",
    "student[\"age\"] = 21\n",
    "print(student_copy)\n",
    "print(student)"
   ]
  },
  {
   "cell_type": "code",
   "execution_count": 24,
   "id": "7cf4e295",
   "metadata": {},
   "outputs": [
    {
     "name": "stdout",
     "output_type": "stream",
     "text": [
      "{'name': 'John', 'age': 20, 'grade': 'A'}\n",
      "{'name': 'John', 'age': 20, 'grade': 'A'}\n",
      "{'name': 'John', 'age': 22, 'grade': 'A'}\n"
     ]
    }
   ],
   "source": [
    "student = {\"name\": \"John\", \"age\": 20, \"grade\": \"A\"}\n",
    "student_shallow_copy = student.copy()\n",
    "print(student_shallow_copy)\n",
    "student[\"age\"] = 22\n",
    "print(student_shallow_copy)\n",
    "print(student)"
   ]
  },
  {
   "cell_type": "code",
   "execution_count": 25,
   "id": "5e9fd905",
   "metadata": {},
   "outputs": [
    {
     "name": "stdout",
     "output_type": "stream",
     "text": [
      "name\n",
      "age\n",
      "grade\n"
     ]
    }
   ],
   "source": [
    "student = {\"name\": \"John\", \"age\": 20, \"grade\": \"A\"}\n",
    "for keys in student.keys():\n",
    "    print(keys)"
   ]
  },
  {
   "cell_type": "code",
   "execution_count": 26,
   "id": "f5c04d50",
   "metadata": {},
   "outputs": [
    {
     "name": "stdout",
     "output_type": "stream",
     "text": [
      "John\n",
      "20\n",
      "A\n"
     ]
    }
   ],
   "source": [
    "student = {\"name\": \"John\", \"age\": 20, \"grade\": \"A\"}\n",
    "for keys in student.values():\n",
    "    print(keys)"
   ]
  },
  {
   "cell_type": "code",
   "execution_count": 27,
   "id": "f31cdd18",
   "metadata": {},
   "outputs": [
    {
     "name": "stdout",
     "output_type": "stream",
     "text": [
      "name John\n",
      "age 20\n",
      "grade A\n"
     ]
    }
   ],
   "source": [
    "student = {\"name\": \"John\", \"age\": 20, \"grade\": \"A\"}\n",
    "for key, value in student.items():\n",
    "    print(key, value)"
   ]
  },
  {
   "cell_type": "code",
   "execution_count": 28,
   "id": "ac6f31bc",
   "metadata": {},
   "outputs": [
    {
     "name": "stdout",
     "output_type": "stream",
     "text": [
      "Dictionary comprehension\n",
      "{1: 1, 2: 4, 3: 9, 4: 16, 5: 25}\n"
     ]
    }
   ],
   "source": [
    "print(\"Dictionary comprehension\")\n",
    "squares = {x: x**2 for x in range(1, 6)}\n",
    "print(squares)"
   ]
  },
  {
   "cell_type": "code",
   "execution_count": 29,
   "id": "7b0c80c0",
   "metadata": {},
   "outputs": [
    {
     "name": "stdout",
     "output_type": "stream",
     "text": [
      "Dictionary comprehension\n",
      "{2: 4, 4: 16}\n"
     ]
    }
   ],
   "source": [
    "print(\"Dictionary comprehension\")\n",
    "squares = {x: x**2 for x in range(1, 6) if x % 2 == 0}\n",
    "print(squares)"
   ]
  },
  {
   "cell_type": "code",
   "execution_count": 32,
   "id": "6ac01c12",
   "metadata": {},
   "outputs": [
    {
     "name": "stdout",
     "output_type": "stream",
     "text": [
      "Counting occurrences of numbers in a list\n"
     ]
    },
    {
     "data": {
      "text/plain": [
       "{1: 4, 2: 3, 3: 3, 4: 6}"
      ]
     },
     "execution_count": 32,
     "metadata": {},
     "output_type": "execute_result"
    }
   ],
   "source": [
    "print(\"Counting occurrences of numbers in a list\")\n",
    "numbers = [1, 1, 1, 1, 2, 2, 2, 3, 3, 3, 4, 4, 4, 4, 4, 4]\n",
    "number_count = {num: numbers.count(num) for num in set(numbers)}\n",
    "number_count"
   ]
  },
  {
   "cell_type": "code",
   "execution_count": 35,
   "id": "7f1e3e7b",
   "metadata": {},
   "outputs": [
    {
     "name": "stdout",
     "output_type": "stream",
     "text": [
      "Merging dictionaries\n",
      "{'a': 1, 'b': 3, 'c': 4}\n"
     ]
    }
   ],
   "source": [
    "print(\"Merging dictionaries\")\n",
    "dict1 = {\"a\": 1, \"b\": 2}\n",
    "dict2 = {\"b\": 3, \"c\": 4}\n",
    "merged_dict = {**dict1, **dict2}\n",
    "print(merged_dict)"
   ]
  }
 ],
 "metadata": {
  "kernelspec": {
   "display_name": ".venv",
   "language": "python",
   "name": "python3"
  },
  "language_info": {
   "codemirror_mode": {
    "name": "ipython",
    "version": 3
   },
   "file_extension": ".py",
   "mimetype": "text/x-python",
   "name": "python",
   "nbconvert_exporter": "python",
   "pygments_lexer": "ipython3",
   "version": "3.12.6"
  }
 },
 "nbformat": 4,
 "nbformat_minor": 5
}

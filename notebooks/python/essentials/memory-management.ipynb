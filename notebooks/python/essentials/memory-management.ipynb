{
 "cells": [
  {
   "cell_type": "markdown",
   "id": "742ce406",
   "metadata": {},
   "source": [
    "# Memory Management\n"
   ]
  },
  {
   "cell_type": "markdown",
   "id": "83ef70d7",
   "metadata": {},
   "source": [
    "- [Reference counting](#reference-counting)\n",
    "- [Garbage collection](#garbage-collection)\n"
   ]
  },
  {
   "cell_type": "markdown",
   "id": "7424253a",
   "metadata": {},
   "source": [
    "## Reference counting\n"
   ]
  },
  {
   "cell_type": "markdown",
   "id": "53892934",
   "metadata": {},
   "source": [
    "Reference counting is the primary method Python uses to manage memory. Each object in Python maintains a count of references pointing to it. When the reference count drops to zero, the memory occupied by the object is deallocated.\n"
   ]
  },
  {
   "cell_type": "code",
   "execution_count": null,
   "id": "9ec0705a",
   "metadata": {},
   "outputs": [],
   "source": [
    "import gc\n",
    "import json\n",
    "import sys"
   ]
  },
  {
   "cell_type": "markdown",
   "id": "3e884c11",
   "metadata": {},
   "source": [
    "One reference is coming from `a` and another from `getrefcount`, so there are two references.\n"
   ]
  },
  {
   "cell_type": "code",
   "execution_count": null,
   "id": "c841c9e9",
   "metadata": {},
   "outputs": [
    {
     "name": "stdout",
     "output_type": "stream",
     "text": [
      "2\n"
     ]
    }
   ],
   "source": [
    "a = []\n",
    "\n",
    "print(sys.getrefcount(a))"
   ]
  },
  {
   "cell_type": "markdown",
   "id": "9faafd27",
   "metadata": {},
   "source": [
    "One reference is coming from `a`, other for `b` and another from `getrefcount`, so there are three references.\n"
   ]
  },
  {
   "cell_type": "code",
   "execution_count": null,
   "id": "55e67079",
   "metadata": {},
   "outputs": [
    {
     "name": "stdout",
     "output_type": "stream",
     "text": [
      "3\n"
     ]
    }
   ],
   "source": [
    "b = a\n",
    "\n",
    "print(sys.getrefcount(a))"
   ]
  },
  {
   "cell_type": "markdown",
   "id": "1f7b4df7",
   "metadata": {},
   "source": [
    "When `b` is deleted, one value is automatically deallocated.\n"
   ]
  },
  {
   "cell_type": "code",
   "execution_count": null,
   "id": "657fee74",
   "metadata": {},
   "outputs": [
    {
     "name": "stdout",
     "output_type": "stream",
     "text": [
      "2\n"
     ]
    }
   ],
   "source": [
    "del b\n",
    "\n",
    "print(sys.getrefcount(a))"
   ]
  },
  {
   "cell_type": "markdown",
   "id": "99f36ace",
   "metadata": {},
   "source": [
    "## Garbage Collection\n"
   ]
  },
  {
   "cell_type": "markdown",
   "id": "a9c5fef1",
   "metadata": {},
   "source": [
    "Python includes a cyclic garbage collector to handle reference cycles. Reference cycles occur when objects reference each other, preventing their reference counts from reaching zero.\n"
   ]
  },
  {
   "cell_type": "code",
   "execution_count": null,
   "id": "0ce485ac",
   "metadata": {},
   "outputs": [],
   "source": [
    "# Enable gc\n",
    "gc.enable()\n",
    "# Disable gc\n",
    "gc.disable()"
   ]
  },
  {
   "cell_type": "code",
   "execution_count": null,
   "id": "568a5e52",
   "metadata": {},
   "outputs": [
    {
     "data": {
      "text/plain": [
       "6"
      ]
     },
     "execution_count": 8,
     "metadata": {},
     "output_type": "execute_result"
    }
   ],
   "source": [
    "gc.collect()"
   ]
  },
  {
   "cell_type": "markdown",
   "id": "cac8162f",
   "metadata": {},
   "source": [
    "Get garbage collection stats.\n"
   ]
  },
  {
   "cell_type": "code",
   "execution_count": null,
   "id": "7cd83ece",
   "metadata": {},
   "outputs": [
    {
     "name": "stdout",
     "output_type": "stream",
     "text": [
      "[\n",
      "    {\n",
      "        \"collections\": 158,\n",
      "        \"collected\": 1510,\n",
      "        \"uncollectable\": 0\n",
      "    },\n",
      "    {\n",
      "        \"collections\": 14,\n",
      "        \"collected\": 187,\n",
      "        \"uncollectable\": 0\n",
      "    },\n",
      "    {\n",
      "        \"collections\": 2,\n",
      "        \"collected\": 31,\n",
      "        \"uncollectable\": 0\n",
      "    }\n",
      "]\n"
     ]
    }
   ],
   "source": [
    "print(json.dumps(gc.get_stats(), indent=4))"
   ]
  },
  {
   "cell_type": "markdown",
   "id": "ede3a5b1",
   "metadata": {},
   "source": [
    "Get unreachable objects\n"
   ]
  },
  {
   "cell_type": "code",
   "execution_count": null,
   "id": "51b63301",
   "metadata": {},
   "outputs": [
    {
     "name": "stdout",
     "output_type": "stream",
     "text": [
      "[]\n"
     ]
    }
   ],
   "source": [
    "print(gc.garbage)"
   ]
  }
 ],
 "metadata": {
  "kernelspec": {
   "display_name": "uv-3.12",
   "language": "python",
   "name": "uv-3.12"
  },
  "language_info": {
   "codemirror_mode": {
    "name": "ipython",
    "version": 3
   },
   "file_extension": ".py",
   "mimetype": "text/x-python",
   "name": "python",
   "nbconvert_exporter": "python",
   "pygments_lexer": "ipython3",
   "version": "3.12.6"
  }
 },
 "nbformat": 4,
 "nbformat_minor": 5
}

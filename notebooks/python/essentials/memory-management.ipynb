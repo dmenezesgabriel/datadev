{
 "cells": [
  {
   "cell_type": "markdown",
   "id": "742ce406",
   "metadata": {},
   "source": [
    "# Memory Management\n"
   ]
  },
  {
   "cell_type": "markdown",
   "id": "83ef70d7",
   "metadata": {},
   "source": [
    "- [Reference counting](#reference-counting)\n",
    "- [Garbage collection](#garbage-collection)\n"
   ]
  },
  {
   "cell_type": "markdown",
   "id": "7424253a",
   "metadata": {},
   "source": [
    "## Reference counting\n"
   ]
  },
  {
   "cell_type": "markdown",
   "id": "53892934",
   "metadata": {},
   "source": [
    "Reference counting is the primary method Python uses to manage memory. Each object in Python maintains a count of references pointing to it. When the reference count drops to zero, the memory occupied by the object is deallocated.\n"
   ]
  },
  {
   "cell_type": "code",
   "execution_count": null,
   "id": "9ec0705a",
   "metadata": {},
   "outputs": [],
   "source": [
    "import gc\n",
    "import json\n",
    "import sys\n",
    "import tracemalloc\n",
    "from typing import Optional"
   ]
  },
  {
   "cell_type": "markdown",
   "id": "3e884c11",
   "metadata": {},
   "source": [
    "One reference is coming from `a` and another from `getrefcount`, so there are two references.\n"
   ]
  },
  {
   "cell_type": "code",
   "execution_count": null,
   "id": "c841c9e9",
   "metadata": {},
   "outputs": [
    {
     "name": "stdout",
     "output_type": "stream",
     "text": [
      "2\n"
     ]
    }
   ],
   "source": [
    "a = []\n",
    "\n",
    "print(sys.getrefcount(a))"
   ]
  },
  {
   "cell_type": "markdown",
   "id": "9faafd27",
   "metadata": {},
   "source": [
    "One reference is coming from `a`, other for `b` and another from `getrefcount`, so there are three references.\n"
   ]
  },
  {
   "cell_type": "code",
   "execution_count": null,
   "id": "55e67079",
   "metadata": {},
   "outputs": [
    {
     "name": "stdout",
     "output_type": "stream",
     "text": [
      "3\n"
     ]
    }
   ],
   "source": [
    "b = a\n",
    "\n",
    "print(sys.getrefcount(a))"
   ]
  },
  {
   "cell_type": "markdown",
   "id": "1f7b4df7",
   "metadata": {},
   "source": [
    "When `b` is deleted, one value is automatically deallocated.\n"
   ]
  },
  {
   "cell_type": "code",
   "execution_count": null,
   "id": "657fee74",
   "metadata": {},
   "outputs": [
    {
     "name": "stdout",
     "output_type": "stream",
     "text": [
      "2\n"
     ]
    }
   ],
   "source": [
    "del b\n",
    "\n",
    "print(sys.getrefcount(a))"
   ]
  },
  {
   "cell_type": "markdown",
   "id": "99f36ace",
   "metadata": {},
   "source": [
    "## Garbage Collection\n"
   ]
  },
  {
   "cell_type": "markdown",
   "id": "a9c5fef1",
   "metadata": {},
   "source": [
    "Python includes a cyclic garbage collector to handle reference cycles. Reference cycles occur when objects reference each other, preventing their reference counts from reaching zero.\n"
   ]
  },
  {
   "cell_type": "code",
   "execution_count": null,
   "id": "0ce485ac",
   "metadata": {},
   "outputs": [],
   "source": [
    "# Enable gc\n",
    "gc.enable()\n",
    "# Disable gc\n",
    "gc.disable()"
   ]
  },
  {
   "cell_type": "code",
   "execution_count": null,
   "id": "568a5e52",
   "metadata": {},
   "outputs": [
    {
     "data": {
      "text/plain": [
       "6"
      ]
     },
     "execution_count": 6,
     "metadata": {},
     "output_type": "execute_result"
    }
   ],
   "source": [
    "gc.collect()"
   ]
  },
  {
   "cell_type": "markdown",
   "id": "cac8162f",
   "metadata": {},
   "source": [
    "### Get garbage collection stats.\n"
   ]
  },
  {
   "cell_type": "code",
   "execution_count": null,
   "id": "7cd83ece",
   "metadata": {},
   "outputs": [
    {
     "name": "stdout",
     "output_type": "stream",
     "text": [
      "[\n",
      "    {\n",
      "        \"collections\": 158,\n",
      "        \"collected\": 1510,\n",
      "        \"uncollectable\": 0\n",
      "    },\n",
      "    {\n",
      "        \"collections\": 14,\n",
      "        \"collected\": 187,\n",
      "        \"uncollectable\": 0\n",
      "    },\n",
      "    {\n",
      "        \"collections\": 2,\n",
      "        \"collected\": 31,\n",
      "        \"uncollectable\": 0\n",
      "    }\n",
      "]\n"
     ]
    }
   ],
   "source": [
    "print(json.dumps(gc.get_stats(), indent=4))"
   ]
  },
  {
   "cell_type": "markdown",
   "id": "ede3a5b1",
   "metadata": {},
   "source": [
    "### Get unreachable objects\n"
   ]
  },
  {
   "cell_type": "code",
   "execution_count": null,
   "id": "51b63301",
   "metadata": {},
   "outputs": [
    {
     "name": "stdout",
     "output_type": "stream",
     "text": [
      "[]\n"
     ]
    }
   ],
   "source": [
    "print(gc.garbage)"
   ]
  },
  {
   "cell_type": "markdown",
   "id": "cacbb155",
   "metadata": {},
   "source": [
    "### Handling circular references.\n"
   ]
  },
  {
   "cell_type": "code",
   "execution_count": null,
   "id": "0f169a8b",
   "metadata": {},
   "outputs": [
    {
     "name": "stdout",
     "output_type": "stream",
     "text": [
      "Object: foo created\n",
      "Object: bar created\n"
     ]
    }
   ],
   "source": [
    "class SomeObject:\n",
    "    def __init__(self, name):\n",
    "        self.name = name\n",
    "        self.ref: Optional[SomeObject] = None\n",
    "        print(f\"Object: {name} created\")\n",
    "\n",
    "    def __del__(self):\n",
    "        print(f\"Object: {self.name} deleted \")\n",
    "\n",
    "\n",
    "foo = SomeObject(\"foo\")\n",
    "bar = SomeObject(\"bar\")\n",
    "\n",
    "# Circular reference\n",
    "foo.ref = bar\n",
    "bar.ref = foo\n",
    "\n",
    "# Due to the circular reference, the objects are not garbage collected\n",
    "del foo\n",
    "del bar"
   ]
  },
  {
   "cell_type": "markdown",
   "id": "69f7307e",
   "metadata": {},
   "source": [
    "The garbage collector should be manually triggered.\n"
   ]
  },
  {
   "cell_type": "code",
   "execution_count": null,
   "id": "c3dacd3b",
   "metadata": {},
   "outputs": [
    {
     "name": "stdout",
     "output_type": "stream",
     "text": [
      "Object: foo deleted \n",
      "Object: bar deleted \n"
     ]
    },
    {
     "data": {
      "text/plain": [
       "35"
      ]
     },
     "execution_count": 10,
     "metadata": {},
     "output_type": "execute_result"
    }
   ],
   "source": [
    "gc.collect()"
   ]
  },
  {
   "cell_type": "markdown",
   "id": "3f0b420b",
   "metadata": {},
   "source": [
    "## Generators for memory efficiency\n"
   ]
  },
  {
   "cell_type": "code",
   "execution_count": null,
   "id": "cd971727",
   "metadata": {},
   "outputs": [
    {
     "name": "stdout",
     "output_type": "stream",
     "text": [
      "0\n",
      "1\n",
      "2\n",
      "3\n",
      "4\n",
      "5\n",
      "6\n",
      "7\n",
      "8\n",
      "9\n",
      "10\n"
     ]
    }
   ],
   "source": [
    "def generate_numbers(number: int):\n",
    "    for item in range(number):\n",
    "        yield item\n",
    "\n",
    "\n",
    "for number in generate_numbers(1000):\n",
    "    print(number)\n",
    "    if number > 9:\n",
    "        break"
   ]
  },
  {
   "cell_type": "markdown",
   "id": "6ab5e04b",
   "metadata": {},
   "source": [
    "## Profiling memory usage\n"
   ]
  },
  {
   "cell_type": "code",
   "execution_count": 12,
   "id": "d6e1b144",
   "metadata": {},
   "outputs": [
    {
     "name": "stdout",
     "output_type": "stream",
     "text": [
      "[Top 10] memory consumption files\n",
      "#0: /.local/share/uv/python/cpython-3.12.6-linux-x86_64-gnu/lib/python3.12/contextlib.py:105: 0.2 KiB\n",
      "#1: /.cache/uv/archive-v0/tb82FWm1ArcUI7kLRed3k/lib/python3.12/site-packages/zmq/sugar/attrsettr.py:45: 0.1 KiB\n",
      "#2: /.cache/uv/archive-v0/tb82FWm1ArcUI7kLRed3k/lib/python3.12/site-packages/ipykernel/iostream.py:287: 0.1 KiB\n",
      "#3: /.cache/uv/archive-v0/tb82FWm1ArcUI7kLRed3k/lib/python3.12/site-packages/ipykernel/iostream.py:276: 0.1 KiB\n",
      "#4: /.local/share/uv/python/cpython-3.12.6-linux-x86_64-gnu/lib/python3.12/contextlib.py:301: 0.1 KiB\n",
      "#5: /.cache/uv/archive-v0/tb82FWm1ArcUI7kLRed3k/lib/python3.12/site-packages/IPython/core/history.py:1011: 0.1 KiB\n",
      "#6: /.local/share/uv/python/cpython-3.12.6-linux-x86_64-gnu/lib/python3.12/asyncio/base_events.py:815: 0.1 KiB\n",
      "#7: /.cache/uv/archive-v0/tb82FWm1ArcUI7kLRed3k/lib/python3.12/site-packages/ipykernel/iostream.py:722: 0.1 KiB\n",
      "#8: /.cache/uv/archive-v0/tb82FWm1ArcUI7kLRed3k/lib/python3.12/site-packages/IPython/core/history.py:1030: 0.1 KiB\n",
      "#9: /.cache/uv/archive-v0/tb82FWm1ArcUI7kLRed3k/lib/python3.12/site-packages/IPython/core/history.py:1009: 0.1 KiB\n"
     ]
    }
   ],
   "source": [
    "def create_list():\n",
    "    return [number for number in range(10000)]\n",
    "\n",
    "\n",
    "def main():\n",
    "    tracemalloc.start()\n",
    "\n",
    "    create_list()\n",
    "\n",
    "    snapshot = tracemalloc.take_snapshot()\n",
    "    top_stats = snapshot.statistics(\"lineno\")\n",
    "\n",
    "    print(\"[Top 10] memory consumption files\")\n",
    "\n",
    "    for index, stat in enumerate(top_stats[:10]):\n",
    "        frame = stat.traceback[0]\n",
    "        print(\n",
    "            \"#%s: %s:%s: %.1f KiB\"\n",
    "            % (index, frame.filename[21:], frame.lineno, stat.size / 1024)\n",
    "        )\n",
    "\n",
    "\n",
    "main()"
   ]
  }
 ],
 "metadata": {
  "kernelspec": {
   "display_name": "uv-3.12",
   "language": "python",
   "name": "uv-3.12"
  },
  "language_info": {
   "codemirror_mode": {
    "name": "ipython",
    "version": 3
   },
   "file_extension": ".py",
   "mimetype": "text/x-python",
   "name": "python",
   "nbconvert_exporter": "python",
   "pygments_lexer": "ipython3",
   "version": "3.12.6"
  }
 },
 "nbformat": 4,
 "nbformat_minor": 5
}

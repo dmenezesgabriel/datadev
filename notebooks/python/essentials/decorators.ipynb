{
 "cells": [
  {
   "cell_type": "markdown",
   "id": "9f0e668f",
   "metadata": {},
   "source": [
    "# Decorators\n"
   ]
  },
  {
   "cell_type": "markdown",
   "id": "d9c4dd94",
   "metadata": {},
   "source": [
    "Decorators allow to modify a function or a class method in python without modifying they actual code\n"
   ]
  },
  {
   "cell_type": "code",
   "execution_count": 8,
   "id": "dfa5351a",
   "metadata": {},
   "outputs": [
    {
     "name": "stdout",
     "output_type": "stream",
     "text": [
      "<function hello at 0x7f74585882c0>\n",
      "Hello World!\n",
      "<function hello at 0x7f74585882c0>\n",
      "Hello World!\n",
      "<function hello at 0x7f74585882c0>\n"
     ]
    }
   ],
   "source": [
    "# Function Copy\n",
    "def hello():\n",
    "    return \"Hello World!\"\n",
    "\n",
    "\n",
    "print(hello)\n",
    "print(hello())\n",
    "\n",
    "hello_copy = hello\n",
    "print(hello_copy)\n",
    "print(hello_copy())\n",
    "\n",
    "del hello\n",
    "print(hello_copy)"
   ]
  },
  {
   "cell_type": "code",
   "execution_count": 16,
   "id": "0c8300f3",
   "metadata": {},
   "outputs": [
    {
     "data": {
      "text/plain": [
       "'Hello, World!'"
      ]
     },
     "execution_count": 16,
     "metadata": {},
     "output_type": "execute_result"
    }
   ],
   "source": [
    "# Closures\n",
    "def outer_function(msg):\n",
    "    def inner_function():\n",
    "        return msg\n",
    "\n",
    "    return inner_function()\n",
    "\n",
    "\n",
    "outer_function(\"Hello, World!\")"
   ]
  },
  {
   "cell_type": "code",
   "execution_count": 23,
   "id": "870516af",
   "metadata": {},
   "outputs": [
    {
     "name": "stdout",
     "output_type": "stream",
     "text": [
      "Something is happening before the original function is called.\n",
      "Display function executed\n",
      "Something is happening after the original function is called.\n"
     ]
    }
   ],
   "source": [
    "## Decorator\n",
    "\n",
    "\n",
    "def decorator_function(original_function: callable):\n",
    "    def wrapper_function():\n",
    "        print(\"Something is happening before the original function is called.\")\n",
    "        original_function()\n",
    "        print(\"Something is happening after the original function is called.\")\n",
    "\n",
    "    return wrapper_function\n",
    "\n",
    "\n",
    "@decorator_function\n",
    "def display():\n",
    "    print(\"Display function executed\")\n",
    "\n",
    "\n",
    "display()"
   ]
  },
  {
   "cell_type": "code",
   "execution_count": null,
   "id": "1e9cc6ce",
   "metadata": {},
   "outputs": [
    {
     "name": "stdout",
     "output_type": "stream",
     "text": [
      "Hello, Alice!\n",
      "Hello, Alice!\n",
      "Hello, Alice!\n"
     ]
    }
   ],
   "source": [
    "## Decorator with arguments\n",
    "def repeat(num_times: int):\n",
    "    def decorator_repeat(original_function: callable):\n",
    "        def wrapper_function(*args, **kwargs):\n",
    "            for _ in range(num_times):\n",
    "                original_function(*args, **kwargs)\n",
    "\n",
    "        return wrapper_function\n",
    "\n",
    "    return decorator_repeat\n",
    "\n",
    "\n",
    "@repeat(num_times=3)\n",
    "def greet(name: str):\n",
    "    print(f\"Hello, {name}!\")\n",
    "\n",
    "\n",
    "greet(\"Alice\")"
   ]
  }
 ],
 "metadata": {
  "kernelspec": {
   "display_name": ".venv",
   "language": "python",
   "name": "python3"
  },
  "language_info": {
   "codemirror_mode": {
    "name": "ipython",
    "version": 3
   },
   "file_extension": ".py",
   "mimetype": "text/x-python",
   "name": "python",
   "nbconvert_exporter": "python",
   "pygments_lexer": "ipython3",
   "version": "3.12.6"
  }
 },
 "nbformat": 4,
 "nbformat_minor": 5
}

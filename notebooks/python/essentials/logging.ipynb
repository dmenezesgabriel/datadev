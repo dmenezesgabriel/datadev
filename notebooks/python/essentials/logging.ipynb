{
 "cells": [
  {
   "cell_type": "markdown",
   "id": "13644f0c",
   "metadata": {},
   "source": [
    "# Logging\n"
   ]
  },
  {
   "cell_type": "markdown",
   "id": "c7ec7fd6",
   "metadata": {},
   "source": [
    "## Import packages\n"
   ]
  },
  {
   "cell_type": "code",
   "execution_count": null,
   "id": "dcf159ae",
   "metadata": {},
   "outputs": [],
   "source": [
    "import logging"
   ]
  },
  {
   "cell_type": "markdown",
   "id": "98735fae",
   "metadata": {},
   "source": [
    "## Usage\n"
   ]
  },
  {
   "cell_type": "markdown",
   "id": "563aa41e",
   "metadata": {},
   "source": [
    "### Basic config\n"
   ]
  },
  {
   "cell_type": "code",
   "execution_count": null,
   "id": "d16e595e",
   "metadata": {},
   "outputs": [],
   "source": [
    "logging.basicConfig(\n",
    "    # filename=\"app.log\",\n",
    "    # filemode=\"w\",\n",
    "    level=logging.DEBUG,\n",
    "    format=\"%(asctime)s - %(name)s - %(levelname)s - %(message)s\",\n",
    "    datefmt=\"%Y-%m-%d %H:%M:%S\",\n",
    "    force=True,  # Jupyter on VSCode\n",
    ")\n",
    "\n",
    "logger = logging.getLogger()"
   ]
  },
  {
   "cell_type": "markdown",
   "id": "07a3df1b",
   "metadata": {},
   "source": [
    "#### Message\n"
   ]
  },
  {
   "cell_type": "code",
   "execution_count": null,
   "id": "e177db3d",
   "metadata": {},
   "outputs": [
    {
     "name": "stderr",
     "output_type": "stream",
     "text": [
      "2025-09-19 23:24:40 - root - DEBUG - Debugging\n",
      "2025-09-19 23:24:40 - root - INFO - Don't worry, this is just an info message\n",
      "2025-09-19 23:24:40 - root - WARNING - I'm am warning you!\n",
      "2025-09-19 23:24:40 - root - ERROR - This was a mistake!\n",
      "2025-09-19 23:24:40 - root - CRITICAL - Well, this was not meant to happen\n"
     ]
    }
   ],
   "source": [
    "logger.debug(\"Debugging\")\n",
    "logger.info(\"Don't worry, this is just an info message\")\n",
    "logger.warning(\"I'm am warning you!\")\n",
    "logger.error(\"This was a mistake!\")\n",
    "logger.critical(\"Well, this was not meant to happen\")"
   ]
  }
 ],
 "metadata": {
  "kernelspec": {
   "display_name": "uv-3.12",
   "language": "python",
   "name": "uv-3.12"
  },
  "language_info": {
   "codemirror_mode": {
    "name": "ipython",
    "version": 3
   },
   "file_extension": ".py",
   "mimetype": "text/x-python",
   "name": "python",
   "nbconvert_exporter": "python",
   "pygments_lexer": "ipython3",
   "version": "3.12.6"
  }
 },
 "nbformat": 4,
 "nbformat_minor": 5
}

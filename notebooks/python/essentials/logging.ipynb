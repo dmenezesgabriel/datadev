{
 "cells": [
  {
   "cell_type": "markdown",
   "id": "13644f0c",
   "metadata": {},
   "source": [
    "# Logging\n"
   ]
  },
  {
   "cell_type": "markdown",
   "id": "c7ec7fd6",
   "metadata": {},
   "source": [
    "## Import packages\n"
   ]
  },
  {
   "cell_type": "code",
   "execution_count": null,
   "id": "dcf159ae",
   "metadata": {},
   "outputs": [],
   "source": [
    "import logging"
   ]
  },
  {
   "cell_type": "markdown",
   "id": "98735fae",
   "metadata": {},
   "source": [
    "## Usage\n"
   ]
  },
  {
   "cell_type": "markdown",
   "id": "563aa41e",
   "metadata": {},
   "source": [
    "### Basic config\n"
   ]
  },
  {
   "cell_type": "code",
   "execution_count": null,
   "id": "d16e595e",
   "metadata": {},
   "outputs": [],
   "source": [
    "logging.basicConfig(\n",
    "    # filename=\"app.log\",\n",
    "    # filemode=\"w\",\n",
    "    level=logging.DEBUG,\n",
    "    format=\"%(asctime)s - %(name)s - %(levelname)s - %(message)s\",\n",
    "    datefmt=\"%Y-%m-%d %H:%M:%S\",\n",
    "    handlers=[\n",
    "        logging.StreamHandler(),\n",
    "        # logging.FileHandler(\"example.log\")\n",
    "    ],\n",
    "    force=True,  # Jupyter on VSCode\n",
    ")\n",
    "\n",
    "logger = logging.getLogger()"
   ]
  },
  {
   "cell_type": "markdown",
   "id": "07a3df1b",
   "metadata": {},
   "source": [
    "#### Message\n"
   ]
  },
  {
   "cell_type": "code",
   "execution_count": null,
   "id": "e177db3d",
   "metadata": {},
   "outputs": [
    {
     "name": "stderr",
     "output_type": "stream",
     "text": [
      "2025-09-22 18:55:59 - root - DEBUG - Debugging\n",
      "2025-09-22 18:55:59 - root - INFO - Don't worry, this is just an info message\n",
      "2025-09-22 18:55:59 - root - WARNING - I'm warning you!\n",
      "2025-09-22 18:55:59 - root - ERROR - This was a mistake!\n",
      "2025-09-22 18:55:59 - root - CRITICAL - Well, this was not meant to happen\n"
     ]
    }
   ],
   "source": [
    "logger.debug(\"Debugging\")\n",
    "logger.info(\"Don't worry, this is just an info message\")\n",
    "logger.warning(\"I'm warning you!\")\n",
    "logger.error(\"This was a mistake!\")\n",
    "logger.critical(\"Well, this was not meant to happen\")"
   ]
  },
  {
   "cell_type": "markdown",
   "id": "c838212c",
   "metadata": {},
   "source": [
    "### Multiple loggers\n"
   ]
  },
  {
   "cell_type": "code",
   "execution_count": null,
   "id": "ef5b4619",
   "metadata": {},
   "outputs": [],
   "source": [
    "debugging_logger = logging.getLogger(\"debugging_logger\")\n",
    "debugging_logger.setLevel(logging.DEBUG)\n",
    "\n",
    "warning_logger = logging.getLogger(\"warning_logger\")\n",
    "warning_logger.setLevel(logging.WARNING)"
   ]
  },
  {
   "cell_type": "code",
   "execution_count": null,
   "id": "8c7445f6",
   "metadata": {},
   "outputs": [
    {
     "name": "stderr",
     "output_type": "stream",
     "text": [
      "2025-09-22 19:01:16 - debugging_logger - DEBUG - Debugging\n",
      "2025-09-22 19:01:16 - warning_logger - WARNING - Warning\n"
     ]
    }
   ],
   "source": [
    "debugging_logger.debug(\"Debugging\")\n",
    "warning_logger.warning(\"Warning\")"
   ]
  }
 ],
 "metadata": {
  "kernelspec": {
   "display_name": "uv-3.12",
   "language": "python",
   "name": "uv-3.12"
  }
 },
 "nbformat": 4,
 "nbformat_minor": 5
}

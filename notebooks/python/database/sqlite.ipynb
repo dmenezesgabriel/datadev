{
 "cells": [
  {
   "cell_type": "markdown",
   "id": "2211f33d",
   "metadata": {},
   "source": [
    "# SQLite\n"
   ]
  },
  {
   "cell_type": "markdown",
   "id": "ae7e0752",
   "metadata": {},
   "source": [
    "## Import packages\n"
   ]
  },
  {
   "cell_type": "code",
   "execution_count": null,
   "id": "664bbdb4",
   "metadata": {},
   "outputs": [],
   "source": [
    "import sqlite3\n",
    "from typing import Dict, List, Tuple, Union"
   ]
  },
  {
   "cell_type": "markdown",
   "id": "834e0cbd",
   "metadata": {},
   "source": [
    "## Usage\n"
   ]
  },
  {
   "cell_type": "markdown",
   "id": "0ee58a73",
   "metadata": {},
   "source": [
    "### Creating a database\n"
   ]
  },
  {
   "cell_type": "markdown",
   "id": "7fc46974",
   "metadata": {},
   "source": [
    "#### Creating a connection\n"
   ]
  },
  {
   "cell_type": "code",
   "execution_count": null,
   "id": "69a78734",
   "metadata": {},
   "outputs": [
    {
     "name": "stdout",
     "output_type": "stream",
     "text": [
      "<sqlite3.Connection object at 0x7fb52dac1c60>\n"
     ]
    }
   ],
   "source": [
    "conn = sqlite3.connect(\":memory:\")\n",
    "print(conn)"
   ]
  },
  {
   "cell_type": "markdown",
   "id": "d75b68ae",
   "metadata": {},
   "source": [
    "#### Creating a cursor\n"
   ]
  },
  {
   "cell_type": "code",
   "execution_count": null,
   "id": "f8875116",
   "metadata": {},
   "outputs": [],
   "source": [
    "cursor = conn.cursor()"
   ]
  },
  {
   "cell_type": "markdown",
   "id": "8ab07db1",
   "metadata": {},
   "source": [
    "#### Creating a table\n"
   ]
  },
  {
   "cell_type": "code",
   "execution_count": null,
   "id": "35bebb36",
   "metadata": {},
   "outputs": [],
   "source": [
    "create_employee_table_statement = \"\"\"\n",
    "CREATE TABLE IF NOT EXISTS employees(\n",
    "    id INTEGER PRIMARY KEY,\n",
    "    name TEXT NOT NULL,\n",
    "    age INTEGER,\n",
    "    department text\n",
    ");\n",
    "\"\"\"\n",
    "\n",
    "cursor.execute(create_employee_table_statement)\n",
    "\n",
    "# commit changes\n",
    "conn.commit()"
   ]
  },
  {
   "cell_type": "markdown",
   "id": "8e7da1cf",
   "metadata": {},
   "source": [
    "#### Getting table information\n"
   ]
  },
  {
   "cell_type": "code",
   "execution_count": null,
   "id": "2a925f75",
   "metadata": {},
   "outputs": [
    {
     "name": "stdout",
     "output_type": "stream",
     "text": [
      "(0, 'id', 'INTEGER', 0, None, 1)\n",
      "(1, 'name', 'TEXT', 1, None, 0)\n",
      "(2, 'age', 'INTEGER', 0, None, 0)\n",
      "(3, 'department', 'TEXT', 0, None, 0)\n"
     ]
    }
   ],
   "source": [
    "cursor.execute(\"PRAGMA table_info(employees)\")\n",
    "\n",
    "for employees_col in cursor.fetchall():\n",
    "    print(employees_col)"
   ]
  },
  {
   "cell_type": "markdown",
   "id": "b265d7e5",
   "metadata": {},
   "source": [
    "#### Inserting data into a table\n"
   ]
  },
  {
   "cell_type": "markdown",
   "id": "2110c87b",
   "metadata": {},
   "source": [
    "With execute\n"
   ]
  },
  {
   "cell_type": "code",
   "execution_count": null,
   "id": "1d44c9bd",
   "metadata": {},
   "outputs": [],
   "source": [
    "insert_employee_table_statement = \"\"\"\n",
    "INSERT INTO employees(name, age, department)\n",
    "VALUES\n",
    "    ('John Doe', 33, 'Machine Learning Engineering'),\n",
    "    (\"Jane Smith\", 29, 'Data Science'),\n",
    "    (\"Alice Brown\", 40, 'HR')\n",
    "\"\"\"\n",
    "\n",
    "cursor.execute(insert_employee_table_statement)\n",
    "\n",
    "# commit changes\n",
    "conn.commit()"
   ]
  },
  {
   "cell_type": "markdown",
   "id": "38090690",
   "metadata": {},
   "source": [
    "With execute many.\n"
   ]
  },
  {
   "cell_type": "code",
   "execution_count": null,
   "id": "244f844d",
   "metadata": {},
   "outputs": [],
   "source": [
    "employees = [\n",
    "    (\"Michael Johnson\", 45, \"Finance\"),\n",
    "    (\"Emily Davis\", 27, \"Marketing\"),\n",
    "    (\"Robert Wilson\", 38, \"Software Engineering\"),\n",
    "]\n",
    "\n",
    "cursor.executemany(\n",
    "    \"INSERT INTO employees (name, age, department) VALUES (?, ?, ?)\", employees\n",
    ")\n",
    "\n",
    "# commit changes\n",
    "conn.commit()"
   ]
  },
  {
   "cell_type": "markdown",
   "id": "1322dfa8",
   "metadata": {},
   "source": [
    "#### Query data\n"
   ]
  },
  {
   "cell_type": "code",
   "execution_count": null,
   "id": "4c5d91c9",
   "metadata": {},
   "outputs": [
    {
     "name": "stdout",
     "output_type": "stream",
     "text": [
      "{'id': 1, 'name': 'John Doe', 'age': 33, 'department': 'Machine Learning Engineering'}\n",
      "{'id': 2, 'name': 'Jane Smith', 'age': 29, 'department': 'Data Science'}\n",
      "{'id': 3, 'name': 'Alice Brown', 'age': 40, 'department': 'HR'}\n",
      "{'id': 4, 'name': 'Michael Johnson', 'age': 45, 'department': 'Finance'}\n",
      "{'id': 5, 'name': 'Emily Davis', 'age': 27, 'department': 'Marketing'}\n",
      "{'id': 6, 'name': 'Robert Wilson', 'age': 38, 'department': 'Software Engineering'}\n"
     ]
    }
   ],
   "source": [
    "cursor.execute(\"SELECT * FROM employees\")\n",
    "employee_rows: List[Tuple[int, str, int, str]] = cursor.fetchall()\n",
    "\n",
    "# Get column names\n",
    "column_names = [description[0] for description in cursor.description]\n",
    "\n",
    "# Get rows\n",
    "for employee_row in employee_rows:\n",
    "    print(dict(zip(column_names, employee_row)))"
   ]
  },
  {
   "cell_type": "markdown",
   "id": "9d8719c7",
   "metadata": {},
   "source": [
    "#### Update table data\n"
   ]
  },
  {
   "cell_type": "code",
   "execution_count": null,
   "id": "7c6aa637",
   "metadata": {},
   "outputs": [],
   "source": [
    "update_employee_statement = \"\"\"\n",
    "UPDATE employees\n",
    "SET age = ?, department = ?\n",
    "WHERE id = ?\n",
    "\"\"\"\n",
    "\n",
    "cursor.execute(update_employee_statement, (30, \"AI Research\", 2))\n",
    "\n",
    "# commit changes\n",
    "conn.commit()"
   ]
  },
  {
   "cell_type": "markdown",
   "id": "e053d484",
   "metadata": {},
   "source": [
    "Check for the updated data.\n"
   ]
  },
  {
   "cell_type": "code",
   "execution_count": null,
   "id": "0ab452fe",
   "metadata": {},
   "outputs": [
    {
     "data": {
      "text/plain": [
       "(2, 'Jane Smith', 30, 'AI Research')"
      ]
     },
     "execution_count": 9,
     "metadata": {},
     "output_type": "execute_result"
    }
   ],
   "source": [
    "cursor.execute(\"SELECT * FROM employees WHERE id = 2\")\n",
    "\n",
    "updated_employee_row = cursor.fetchone()\n",
    "updated_employee_row"
   ]
  },
  {
   "cell_type": "markdown",
   "id": "cbe92a51",
   "metadata": {},
   "source": [
    "#### Delete data from table\n"
   ]
  },
  {
   "cell_type": "code",
   "execution_count": null,
   "id": "ca0f3a4f",
   "metadata": {},
   "outputs": [],
   "source": [
    "delete_employee_statement = \"\"\"\n",
    "DELETE FROM employees WHERE id = ?\n",
    "\"\"\"\n",
    "\n",
    "cursor.execute(delete_employee_statement, (2,))\n",
    "\n",
    "# commit changes\n",
    "conn.commit()"
   ]
  },
  {
   "cell_type": "markdown",
   "id": "84d81977",
   "metadata": {},
   "source": [
    "Check for deleted data.\n"
   ]
  },
  {
   "cell_type": "code",
   "execution_count": null,
   "id": "21d8cb7c",
   "metadata": {},
   "outputs": [
    {
     "data": {
      "text/plain": [
       "NoneType"
      ]
     },
     "execution_count": 14,
     "metadata": {},
     "output_type": "execute_result"
    }
   ],
   "source": [
    "cursor.execute(\"SELECT * FROM employees WHERE id = 2\")\n",
    "\n",
    "deleted_employee_row = cursor.fetchone()\n",
    "type(deleted_employee_row)"
   ]
  },
  {
   "cell_type": "markdown",
   "id": "45b42ae3",
   "metadata": {},
   "source": [
    "#### Make rows behave like dictionaries\n"
   ]
  },
  {
   "cell_type": "code",
   "execution_count": null,
   "id": "c097ed37",
   "metadata": {},
   "outputs": [],
   "source": [
    "conn.row_factory = sqlite3.Row\n",
    "\n",
    "cursor = conn.cursor()"
   ]
  },
  {
   "cell_type": "code",
   "execution_count": null,
   "id": "197c0834",
   "metadata": {},
   "outputs": [
    {
     "name": "stdout",
     "output_type": "stream",
     "text": [
      "{'id': 1, 'name': 'John Doe', 'age': 33, 'department': 'Machine Learning Engineering'}\n",
      "{'id': 3, 'name': 'Alice Brown', 'age': 40, 'department': 'HR'}\n",
      "{'id': 4, 'name': 'Michael Johnson', 'age': 45, 'department': 'Finance'}\n",
      "{'id': 5, 'name': 'Emily Davis', 'age': 27, 'department': 'Marketing'}\n",
      "{'id': 6, 'name': 'Robert Wilson', 'age': 38, 'department': 'Software Engineering'}\n"
     ]
    }
   ],
   "source": [
    "cursor.execute(\"SELECT * FROM employees\")\n",
    "employee_rows: List[Dict[str, Union[str, int]]] = cursor.fetchall()\n",
    "\n",
    "# Get rows\n",
    "for employee_row in employee_rows:\n",
    "    print({**employee_row})"
   ]
  }
 ],
 "metadata": {
  "kernelspec": {
   "display_name": "uv-3.12",
   "language": "python",
   "name": "uv-3.12"
  },
  "language_info": {
   "codemirror_mode": {
    "name": "ipython",
    "version": 3
   },
   "file_extension": ".py",
   "mimetype": "text/x-python",
   "name": "python",
   "nbconvert_exporter": "python",
   "pygments_lexer": "ipython3",
   "version": "3.12.6"
  }
 },
 "nbformat": 4,
 "nbformat_minor": 5
}

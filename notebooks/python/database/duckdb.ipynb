{
 "cells": [
  {
   "cell_type": "code",
   "execution_count": 1,
   "id": "ddba331a",
   "metadata": {},
   "outputs": [],
   "source": [
    "!uv pip install -q \\\n",
    "    pandas==2.3.3 \\\n",
    "    matplotlib==3.10.7 \\\n",
    "    duckdb==1.4.1 \\\n",
    "    duckdb-engine==0.17.0 \\\n",
    "    jupysql==0.11.1"
   ]
  },
  {
   "cell_type": "code",
   "execution_count": 2,
   "id": "5e063fe8",
   "metadata": {},
   "outputs": [
    {
     "data": {
      "text/html": [
       "<span style=\"None\">The &#x27;toml&#x27; package isn&#x27;t installed. To load settings from pyproject.toml or ~/.jupysql/config, install with: pip install toml</span>"
      ],
      "text/plain": [
       "The 'toml' package isn't installed. To load settings from pyproject.toml or ~/.jupysql/config, install with: pip install toml"
      ]
     },
     "metadata": {},
     "output_type": "display_data"
    }
   ],
   "source": [
    "import duckdb\n",
    "import pandas as pd\n",
    "import warnings\n",
    "\n",
    "warnings.filterwarnings(\"ignore\", category=SyntaxWarning)\n",
    "\n",
    "%config SqlMagic.autopandas = True\n",
    "%config SqlMagic.feedback = False\n",
    "%config SqlMagic.displaycon = False\n",
    "\n",
    "%load_ext sql\n",
    "conn = duckdb.connect(\":memory:\")\n",
    "%sql conn --alias duckdb"
   ]
  },
  {
   "cell_type": "code",
   "execution_count": 3,
   "id": "af8eef3b",
   "metadata": {},
   "outputs": [
    {
     "data": {
      "text/html": [
       "<div>\n",
       "<style scoped>\n",
       "    .dataframe tbody tr th:only-of-type {\n",
       "        vertical-align: middle;\n",
       "    }\n",
       "\n",
       "    .dataframe tbody tr th {\n",
       "        vertical-align: top;\n",
       "    }\n",
       "\n",
       "    .dataframe thead th {\n",
       "        text-align: right;\n",
       "    }\n",
       "</style>\n",
       "<table border=\"1\" class=\"dataframe\">\n",
       "  <thead>\n",
       "    <tr style=\"text-align: right;\">\n",
       "      <th></th>\n",
       "      <th>a_duckdb_column</th>\n",
       "    </tr>\n",
       "  </thead>\n",
       "  <tbody>\n",
       "    <tr>\n",
       "      <th>0</th>\n",
       "      <td>Off and flying!</td>\n",
       "    </tr>\n",
       "  </tbody>\n",
       "</table>\n",
       "</div>"
      ],
      "text/plain": [
       "   a_duckdb_column\n",
       "0  Off and flying!"
      ]
     },
     "execution_count": 3,
     "metadata": {},
     "output_type": "execute_result"
    }
   ],
   "source": [
    "%sql SELECT 'Off and flying!' AS a_duckdb_column;"
   ]
  }
 ],
 "metadata": {
  "kernelspec": {
   "display_name": "uv-3.12",
   "language": "python",
   "name": "uv-3.12"
  },
  "language_info": {
   "codemirror_mode": {
    "name": "ipython",
    "version": 3
   },
   "file_extension": ".py",
   "mimetype": "text/x-python",
   "name": "python",
   "nbconvert_exporter": "python",
   "pygments_lexer": "ipython3",
   "version": "3.12.6"
  }
 },
 "nbformat": 4,
 "nbformat_minor": 5
}

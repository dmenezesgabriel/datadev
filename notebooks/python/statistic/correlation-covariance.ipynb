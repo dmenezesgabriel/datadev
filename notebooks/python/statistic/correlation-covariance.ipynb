{
 "cells": [
  {
   "cell_type": "markdown",
   "id": "f4688cca",
   "metadata": {},
   "source": [
    "# Correlation & Covariance\n"
   ]
  },
  {
   "cell_type": "markdown",
   "id": "0fe2001b",
   "metadata": {},
   "source": [
    "Covariance and correlation are statistical measures used to determine the relationship between two variables. Both are used to understand how changes in one variable are associated with changes in another one.\n",
    "\n",
    "- [Covariance](#covariance)\n"
   ]
  },
  {
   "cell_type": "markdown",
   "id": "c2bf3229",
   "metadata": {},
   "source": [
    "## Covariance\n",
    "\n",
    "Covariance is a measure of how much two random variables change together. If the variables tend to increase and decrease together, the covariance is positive. If one tends to increase when other decreases, the covariance is negative.\n"
   ]
  },
  {
   "cell_type": "code",
   "execution_count": null,
   "id": "96b86bf3",
   "metadata": {},
   "outputs": [],
   "source": []
  }
 ],
 "metadata": {
  "kernelspec": {
   "display_name": "uv-3.12",
   "language": "python",
   "name": "uv-3.12"
  }
 },
 "nbformat": 4,
 "nbformat_minor": 5
}

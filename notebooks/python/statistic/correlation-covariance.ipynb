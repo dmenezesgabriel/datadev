{
    "cells": [
        {
            "cell_type": "markdown",
            "id": "f4688cca",
            "metadata": {},
            "source": [
                "# Correlation & Covariance\n"
            ]
        },
        {
            "cell_type": "markdown",
            "id": "0fe2001b",
            "metadata": {},
            "source": [
                "Covariance and correlation are statistical measures used to determine the relationship between two variables. Both are used to understand how changes in one variable are associated with changes in another one.\n",
                "\n",
                "- [Covariance](#covariance)\n",
                "- [Correlation](#correlation)\n",
                "\n",
                "## Covariance\n",
                "\n",
                "Covariance is a measure of how much two random variables change together. If the variables tend to increase and decrease together, the covariance is positive. If one tends to increase when other decreases, the covariance is negative.\n",
                "\n",
                "Covariance of $(x, y)$\n",
                "\n",
                "$s_{xy} = \\text{Cov}(X, Y) = \\frac{1}{N-1} \\sum_{i=1}^{N} (x_i - \\bar{x}) (y_i - \\bar{y})$\n",
                "\n",
                "Covariance of $(x, x)$\n",
                "\n",
                "$s^2_x = \\text{Cov}(X, X) = \\text{Var}(X) = \\frac{1}{N-1} \\sum_{i=1}^{N} (x_i - \\bar{x})^2$\n",
                "\n",
                "#### Advantages\n",
                "\n",
                "- Quantify the relationship between $X$ and $Y$\n",
                "\n",
                "#### Disadvantages\n",
                "\n",
                "- Covariance does not have a specific limit value. So is not possible to compare two covariances to decide which one is stronger.\n"
            ]
        },
        {
            "cell_type": "code",
            "execution_count": null,
            "id": "35cb9e59",
            "metadata": {},
            "outputs": [
                {
                    "data": {
                        "text/plain": [
                            "10"
                        ]
                    },
                    "execution_count": 2,
                    "metadata": {},
                    "output_type": "execute_result"
                }
            ],
            "source": [
                "X = [1, 2, 3, 4, 5, 6, 7, 8, 9, 10]\n",
                "Y = [10, 12, 14, 16, 18, 20, 22, 24, 26, 28]\n",
                "N = len(X)\n",
                "N"
            ]
        },
        {
            "cell_type": "markdown",
            "id": "53bcbe7a",
            "metadata": {},
            "source": [
                "Calculate the means\n"
            ]
        },
        {
            "cell_type": "code",
            "execution_count": null,
            "id": "c53a6dcf",
            "metadata": {},
            "outputs": [
                {
                    "name": "stdout",
                    "output_type": "stream",
                    "text": [
                        "5.5\n",
                        "19.0\n"
                    ]
                }
            ],
            "source": [
                "x_bar = sum(X) / N\n",
                "y_bar = sum(Y) / N\n",
                "\n",
                "print(x_bar)\n",
                "print(y_bar)"
            ]
        },
        {
            "cell_type": "markdown",
            "id": "51a61e59",
            "metadata": {},
            "source": [
                "Calculate the sum of the products of the deviations\n"
            ]
        },
        {
            "cell_type": "code",
            "execution_count": null,
            "id": "87b83f36",
            "metadata": {},
            "outputs": [
                {
                    "data": {
                        "text/plain": [
                            "165.0"
                        ]
                    },
                    "execution_count": 7,
                    "metadata": {},
                    "output_type": "execute_result"
                }
            ],
            "source": [
                "sum_of_products = sum((x_i - x_bar) * (y_i - y_bar) for x_i, y_i in zip(X, Y))\n",
                "sum_of_products"
            ]
        },
        {
            "cell_type": "markdown",
            "id": "4af1927c",
            "metadata": {},
            "source": [
                "Calculate the sample covariance\n"
            ]
        },
        {
            "cell_type": "code",
            "execution_count": null,
            "id": "5b0fb2a0",
            "metadata": {},
            "outputs": [
                {
                    "data": {
                        "text/plain": [
                            "18.333333333333332"
                        ]
                    },
                    "execution_count": 6,
                    "metadata": {},
                    "output_type": "execute_result"
                }
            ],
            "source": [
                "sample_covariance = sum_of_products / (N - 1)\n",
                "sample_covariance"
            ]
        },
        {
            "cell_type": "markdown",
            "id": "80aa3aa2",
            "metadata": {},
            "source": [
                "## Correlation\n",
                "\n",
                "- [Pearson Correlation Coefficient](#pearson-correlation-coefficient)\n",
                "- [Spearman Rank Correlation](#spearman-rank-correlation)\n",
                "\n",
                "### Pearson Correlation Coefficient\n",
                "\n",
                "- It limits the values between $-1$ and $+1$\n",
                "\n",
                "$r = \\frac{\\sum_{i=1}^{N} (x_i - \\bar{x}) (y_i - \\bar{y})}{\\sqrt{\\sum_{i=1}^{N} (x_i - \\bar{x})^2} \\sqrt{\\sum_{i=1}^{N} (y_i - \\bar{y})^2}}$\n",
                "\n",
                "- $N$ is the number of observations in the sample\n",
                "- $x_i$ and $y_i$ are individual data points\n",
                "- $bar{x}$ and $bar{y}$ are the **sample means** of $X$ and %Y%\n",
                "\n",
                "### Spearman Rank Correlation\n"
            ]
        },
        {
            "cell_type": "code",
            "execution_count": null,
            "id": "75b9871c",
            "metadata": {},
            "outputs": [],
            "source": []
        }
    ],
    "metadata": {
        "kernelspec": {
            "display_name": "uv-3.12",
            "language": "python",
            "name": "uv-3.12"
        }
    },
    "nbformat": 4,
    "nbformat_minor": 5
}

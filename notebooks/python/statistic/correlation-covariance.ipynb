{
    "cells": [
        {
            "cell_type": "markdown",
            "id": "f4688cca",
            "metadata": {},
            "source": [
                "# Correlation & Covariance\n"
            ]
        },
        {
            "cell_type": "code",
            "execution_count": 1,
            "id": "06574724",
            "metadata": {},
            "outputs": [],
            "source": [
                "!uv pip install -q\\\n",
                "    pandas==2.3.3 \\\n",
                "    numpy==2.3.3 \\\n",
                "    scipy==1.16.2"
            ]
        },
        {
            "cell_type": "code",
            "execution_count": null,
            "id": "6a616b6c",
            "metadata": {},
            "outputs": [],
            "source": [
                "import math\n",
                "\n",
                "import numpy as np\n",
                "import pandas as pd\n",
                "from scipy.stats import pearsonr, spearmanr"
            ]
        },
        {
            "cell_type": "markdown",
            "id": "0fe2001b",
            "metadata": {},
            "source": [
                "Covariance and correlation are statistical measures used to determine the relationship between two variables. Both are used to understand how changes in one variable are associated with changes in another one.\n",
                "\n",
                "- [Covariance](#covariance)\n",
                "- [Correlation](#correlation)\n",
                "\n",
                "## Covariance\n",
                "\n",
                "Covariance is a measure of how much two random variables change together. If the variables tend to increase and decrease together, the covariance is positive. If one tends to increase when other decreases, the covariance is negative.\n",
                "\n",
                "Covariance of $(x, y)$\n",
                "\n",
                "$s_{xy} = \\text{Cov}(X, Y) = \\frac{1}{N-1} \\sum_{i=1}^{N} (x_i - \\bar{x}) (y_i - \\bar{y})$\n",
                "\n",
                "Covariance of $(x, x)$\n",
                "\n",
                "$s^2_x = \\text{Cov}(X, X) = \\text{Var}(X) = \\frac{1}{N-1} \\sum_{i=1}^{N} (x_i - \\bar{x})^2$\n",
                "\n",
                "### Advantages\n",
                "\n",
                "- Quantify the relationship between $X$ and $Y$\n",
                "\n",
                "### Disadvantages\n",
                "\n",
                "- Covariance does not have a specific limit value. So is not possible to compare two covariances to decide which one is stronger.\n"
            ]
        },
        {
            "cell_type": "code",
            "execution_count": null,
            "id": "35cb9e59",
            "metadata": {},
            "outputs": [
                {
                    "data": {
                        "text/plain": [
                            "10"
                        ]
                    },
                    "execution_count": 3,
                    "metadata": {},
                    "output_type": "execute_result"
                }
            ],
            "source": [
                "X = [1, 2, 3, 4, 5, 6, 7, 8, 9, 10]\n",
                "Y = [10, 12, 14, 16, 18, 20, 22, 24, 26, 28]\n",
                "N = len(X)\n",
                "N"
            ]
        },
        {
            "cell_type": "markdown",
            "id": "53bcbe7a",
            "metadata": {},
            "source": [
                "Calculate the means\n"
            ]
        },
        {
            "cell_type": "code",
            "execution_count": null,
            "id": "c53a6dcf",
            "metadata": {},
            "outputs": [
                {
                    "name": "stdout",
                    "output_type": "stream",
                    "text": [
                        "5.5\n",
                        "19.0\n"
                    ]
                }
            ],
            "source": [
                "x_bar = sum(X) / N\n",
                "y_bar = sum(Y) / N\n",
                "\n",
                "print(x_bar)\n",
                "print(y_bar)"
            ]
        },
        {
            "cell_type": "markdown",
            "id": "51a61e59",
            "metadata": {},
            "source": [
                "Calculate the sum of the products of the deviations\n"
            ]
        },
        {
            "cell_type": "code",
            "execution_count": null,
            "id": "87b83f36",
            "metadata": {},
            "outputs": [
                {
                    "data": {
                        "text/plain": [
                            "165.0"
                        ]
                    },
                    "execution_count": 5,
                    "metadata": {},
                    "output_type": "execute_result"
                }
            ],
            "source": [
                "sum_of_products = sum((x_i - x_bar) * (y_i - y_bar) for x_i, y_i in zip(X, Y))\n",
                "sum_of_products"
            ]
        },
        {
            "cell_type": "markdown",
            "id": "4af1927c",
            "metadata": {},
            "source": [
                "Calculate the sample covariance\n"
            ]
        },
        {
            "cell_type": "code",
            "execution_count": null,
            "id": "5b0fb2a0",
            "metadata": {},
            "outputs": [
                {
                    "data": {
                        "text/plain": [
                            "18.333333333333332"
                        ]
                    },
                    "execution_count": 6,
                    "metadata": {},
                    "output_type": "execute_result"
                }
            ],
            "source": [
                "sample_covariance = sum_of_products / (N - 1)\n",
                "sample_covariance"
            ]
        },
        {
            "cell_type": "markdown",
            "id": "08c1e2bb",
            "metadata": {},
            "source": [
                "### Using Numpy\n"
            ]
        },
        {
            "cell_type": "code",
            "execution_count": null,
            "id": "1f35aa3f",
            "metadata": {},
            "outputs": [
                {
                    "name": "stdout",
                    "output_type": "stream",
                    "text": [
                        "Cov(X, Y) check: 18.3333\n"
                    ]
                }
            ],
            "source": [
                "X = [1, 2, 3, 4, 5, 6, 7, 8, 9, 10]\n",
                "Y = [10, 12, 14, 16, 18, 20, 22, 24, 26, 28]\n",
                "\n",
                "data = np.array([X, Y])\n",
                "covariance_matrix = np.cov(data)\n",
                "\n",
                "print(f\"Cov(X, Y) check: {covariance_matrix[0, 1]:.4f}\")"
            ]
        },
        {
            "cell_type": "markdown",
            "id": "80aa3aa2",
            "metadata": {},
            "source": [
                "## Correlation\n",
                "\n",
                "- [Pearson Correlation Coefficient](#pearson-correlation-coefficient)\n",
                "- [Spearman Rank Correlation](#spearman-rank-correlation)\n",
                "\n",
                "### Pearson Correlation Coefficient\n",
                "\n",
                "- It limits the values between $-1$ and $+1$\n",
                "- **Use with straight lines**\n",
                "\n",
                "$r = \\frac{\\sum_{i=1}^{N} (x_i - \\bar{x}) (y_i - \\bar{y})}{\\sqrt{\\sum_{i=1}^{N} (x_i - \\bar{x})^2} \\sqrt{\\sum_{i=1}^{N} (y_i - \\bar{y})^2}}$\n",
                "\n",
                "- $N$ is the number of observations in the sample\n",
                "- $x_i$ and $y_i$ are individual data points\n",
                "- $\\bar{x}$ and $\\bar{y}$ are the **sample means** of $X$ and $Y$\n"
            ]
        },
        {
            "cell_type": "code",
            "execution_count": null,
            "id": "55f6083c",
            "metadata": {},
            "outputs": [
                {
                    "data": {
                        "text/plain": [
                            "10"
                        ]
                    },
                    "execution_count": 8,
                    "metadata": {},
                    "output_type": "execute_result"
                }
            ],
            "source": [
                "X = [1, 2, 3, 4, 5, 6, 7, 8, 9, 10]\n",
                "Y = [10, 12, 14, 16, 18, 20, 22, 24, 26, 28]\n",
                "N = len(X)\n",
                "N"
            ]
        },
        {
            "cell_type": "markdown",
            "id": "4678af04",
            "metadata": {},
            "source": [
                "Calculate the sample means\n"
            ]
        },
        {
            "cell_type": "code",
            "execution_count": null,
            "id": "f8de56ae",
            "metadata": {},
            "outputs": [
                {
                    "name": "stdout",
                    "output_type": "stream",
                    "text": [
                        "5.5\n",
                        "19.0\n"
                    ]
                }
            ],
            "source": [
                "x_bar = sum(X) / N\n",
                "y_bar = sum(Y) / N\n",
                "\n",
                "print(x_bar)\n",
                "print(y_bar)"
            ]
        },
        {
            "cell_type": "markdown",
            "id": "0b364ac4",
            "metadata": {},
            "source": [
                "Calculate the numerator: Sum of products of deviations\n"
            ]
        },
        {
            "cell_type": "code",
            "execution_count": null,
            "id": "cff82abe",
            "metadata": {},
            "outputs": [
                {
                    "name": "stdout",
                    "output_type": "stream",
                    "text": [
                        "Numerator (Covariance numerator): 165.0\n"
                    ]
                }
            ],
            "source": [
                "numerator = sum((x_i - x_bar) * (y_i - y_bar) for x_i, y_i in zip(X, Y))\n",
                "print(f\"Numerator (Covariance numerator): {numerator}\")"
            ]
        },
        {
            "cell_type": "markdown",
            "id": "b3d32366",
            "metadata": {},
            "source": [
                "Calculate the components of the denominator\n"
            ]
        },
        {
            "cell_type": "markdown",
            "id": "14fa76fd",
            "metadata": {},
            "source": [
                "Sum of squared deviations for $X$: $sum((x_i - \\bar{x})^2)$\n"
            ]
        },
        {
            "cell_type": "code",
            "execution_count": null,
            "id": "fd7a967a",
            "metadata": {},
            "outputs": [
                {
                    "name": "stdout",
                    "output_type": "stream",
                    "text": [
                        "Sum of squared deviations for X: 82.5\n"
                    ]
                }
            ],
            "source": [
                "sum_sq_dev_x = sum((x_i - x_bar) ** 2 for x_i in X)\n",
                "print(f\"Sum of squared deviations for X: {sum_sq_dev_x}\")"
            ]
        },
        {
            "cell_type": "markdown",
            "id": "b693b105",
            "metadata": {},
            "source": [
                "Sum of squared deviations for $Y$: $sum((y_i - \\bar{y})^2)$\n"
            ]
        },
        {
            "cell_type": "code",
            "execution_count": null,
            "id": "123df69b",
            "metadata": {},
            "outputs": [
                {
                    "name": "stdout",
                    "output_type": "stream",
                    "text": [
                        "Sum of squared deviations for Y: 330.0\n"
                    ]
                }
            ],
            "source": [
                "sum_sq_dev_y = sum((y_i - y_bar) ** 2 for y_i in Y)\n",
                "print(f\"Sum of squared deviations for Y: {sum_sq_dev_y}\")"
            ]
        },
        {
            "cell_type": "markdown",
            "id": "0156e934",
            "metadata": {},
            "source": [
                "Calculate the denominator: $\\sqrt{\\sum_{i=1}^{N} (x_i - \\bar{x})^2} \\cdot \\sqrt{\\sum_{i=1}^{N} (y_i - \\bar{y})^2}$\n"
            ]
        },
        {
            "cell_type": "code",
            "execution_count": null,
            "id": "8275bbca",
            "metadata": {},
            "outputs": [
                {
                    "name": "stdout",
                    "output_type": "stream",
                    "text": [
                        "Denominator: 165.0\n"
                    ]
                }
            ],
            "source": [
                "denominator = math.sqrt(sum_sq_dev_x) * math.sqrt(sum_sq_dev_y)\n",
                "print(f\"Denominator: {denominator}\")"
            ]
        },
        {
            "cell_type": "markdown",
            "id": "01be62a4",
            "metadata": {},
            "source": [
                "Calculate the Pearson correlation coefficient (r)\n"
            ]
        },
        {
            "cell_type": "code",
            "execution_count": null,
            "id": "6efa97fa",
            "metadata": {},
            "outputs": [
                {
                    "name": "stdout",
                    "output_type": "stream",
                    "text": [
                        "Pearson Correlation Coefficient (r): 1.0\n"
                    ]
                }
            ],
            "source": [
                "pearson_correlation = numerator / denominator\n",
                "print(f\"Pearson Correlation Coefficient (r): {pearson_correlation}\")"
            ]
        },
        {
            "cell_type": "markdown",
            "id": "52d44afd",
            "metadata": {},
            "source": [
                "#### Using SciPy\n"
            ]
        },
        {
            "cell_type": "code",
            "execution_count": null,
            "id": "afd03bdb",
            "metadata": {},
            "outputs": [
                {
                    "name": "stdout",
                    "output_type": "stream",
                    "text": [
                        "Pearson Correlation (r): 1.0000\n",
                        "P-value: 1.70e-61\n"
                    ]
                }
            ],
            "source": [
                "X = [1, 2, 3, 4, 5, 6, 7, 8, 9, 10]\n",
                "Y = [10, 12, 14, 16, 18, 20, 22, 24, 26, 28]\n",
                "\n",
                "correlation, p_value = pearsonr(X, Y)\n",
                "\n",
                "print(f\"Pearson Correlation (r): {correlation:.4f}\")\n",
                "print(f\"P-value: {p_value:.2e}\")"
            ]
        },
        {
            "cell_type": "markdown",
            "id": "c88d0583",
            "metadata": {},
            "source": [
                "### Spearman Rank Correlation\n",
                "\n",
                "- It's a non-parametric measure of the **strength and direction** of the association between two ranked variables.\n",
                "- **Use with curves**\n",
                "\n",
                "$\\rho = 1 - \\frac{6 \\sum d_i^2}{n(n^2 - 1)}$\n",
                "\n",
                "- $\\rho$ (rho) is the Spearman rank correlation coefficient\n",
                "- $d_i$ is the **difference** between the ranks of the $i$-th observation of $x_i$ and $y_i$\n",
                "- $n$ is the **number of observations** (or data points) in the sample\n"
            ]
        },
        {
            "cell_type": "code",
            "execution_count": null,
            "id": "0f4cf8cf",
            "metadata": {},
            "outputs": [
                {
                    "data": {
                        "text/plain": [
                            "5"
                        ]
                    },
                    "execution_count": 16,
                    "metadata": {},
                    "output_type": "execute_result"
                }
            ],
            "source": [
                "X = [10, 2, 8, 1, 5]\n",
                "Y = [90, 50, 85, 40, 70]\n",
                "n = len(X)\n",
                "n"
            ]
        },
        {
            "cell_type": "markdown",
            "id": "5b7bc8d9",
            "metadata": {},
            "source": [
                "Create a list of (value, index) pairs for X, then sort by value\n"
            ]
        },
        {
            "cell_type": "code",
            "execution_count": null,
            "id": "12961ae2",
            "metadata": {},
            "outputs": [
                {
                    "data": {
                        "text/plain": [
                            "[(1, 3), (2, 1), (5, 4), (8, 2), (10, 0)]"
                        ]
                    },
                    "execution_count": 17,
                    "metadata": {},
                    "output_type": "execute_result"
                }
            ],
            "source": [
                "sorted_x_indexed = sorted([(val, i) for i, val in enumerate(X)])\n",
                "sorted_x_indexed"
            ]
        },
        {
            "cell_type": "markdown",
            "id": "fc8235d3",
            "metadata": {},
            "source": [
                "Create a list of (value, index) pairs for Y, then sort by value\n"
            ]
        },
        {
            "cell_type": "code",
            "execution_count": null,
            "id": "102fff62",
            "metadata": {},
            "outputs": [
                {
                    "data": {
                        "text/plain": [
                            "[(40, 3), (50, 1), (70, 4), (85, 2), (90, 0)]"
                        ]
                    },
                    "execution_count": 18,
                    "metadata": {},
                    "output_type": "execute_result"
                }
            ],
            "source": [
                "sorted_y_indexed = sorted([(val, i) for i, val in enumerate(Y)])\n",
                "sorted_y_indexed"
            ]
        },
        {
            "cell_type": "markdown",
            "id": "57edab66",
            "metadata": {},
            "source": [
                "Rank_X: The rank for each element in the original X list\n"
            ]
        },
        {
            "cell_type": "code",
            "execution_count": null,
            "id": "bb476ed1",
            "metadata": {},
            "outputs": [
                {
                    "data": {
                        "text/plain": [
                            "[5, 2, 4, 1, 3]"
                        ]
                    },
                    "execution_count": 19,
                    "metadata": {},
                    "output_type": "execute_result"
                }
            ],
            "source": [
                "sorted_x = sorted(X)\n",
                "rank_x = [sorted_x.index(x) + 1 for x in X]\n",
                "rank_x"
            ]
        },
        {
            "cell_type": "markdown",
            "id": "8e8779db",
            "metadata": {},
            "source": [
                "Rank_Y: The rank for each element in the original Y list\n"
            ]
        },
        {
            "cell_type": "code",
            "execution_count": null,
            "id": "1549d2a5",
            "metadata": {},
            "outputs": [
                {
                    "data": {
                        "text/plain": [
                            "[5, 2, 4, 1, 3]"
                        ]
                    },
                    "execution_count": 20,
                    "metadata": {},
                    "output_type": "execute_result"
                }
            ],
            "source": [
                "sorted_y = sorted(Y)\n",
                "rank_y = [sorted_y.index(y) + 1 for y in Y]\n",
                "rank_y"
            ]
        },
        {
            "cell_type": "code",
            "execution_count": null,
            "id": "f987ce62",
            "metadata": {},
            "outputs": [
                {
                    "name": "stdout",
                    "output_type": "stream",
                    "text": [
                        "Original X: [10, 2, 8, 1, 5]\n",
                        "Ranked X:   [5, 2, 4, 1, 3]\n",
                        "Original Y: [90, 50, 85, 40, 70]\n",
                        "Ranked Y:   [5, 2, 4, 1, 3]\n"
                    ]
                }
            ],
            "source": [
                "print(f\"Original X: {X}\")\n",
                "print(f\"Ranked X:   {rank_x}\")\n",
                "print(f\"Original Y: {Y}\")\n",
                "print(f\"Ranked Y:   {rank_y}\")"
            ]
        },
        {
            "cell_type": "markdown",
            "id": "039a5cd1",
            "metadata": {},
            "source": [
                "Calculate the Sum of Squared Differences $\\sum_{i=1}^{N} d_i^2$\n"
            ]
        },
        {
            "cell_type": "code",
            "execution_count": null,
            "id": "3df584ee",
            "metadata": {},
            "outputs": [
                {
                    "data": {
                        "text/plain": [
                            "0"
                        ]
                    },
                    "execution_count": 22,
                    "metadata": {},
                    "output_type": "execute_result"
                }
            ],
            "source": [
                "sum_d2 = sum((rx - ry) ** 2 for rx, ry in zip(rank_x, rank_y))\n",
                "sum_d2"
            ]
        },
        {
            "cell_type": "markdown",
            "id": "5822a299",
            "metadata": {},
            "source": [
                "Calculate Spearman's Rho (rho)\n"
            ]
        },
        {
            "cell_type": "code",
            "execution_count": null,
            "id": "c72b68d3",
            "metadata": {},
            "outputs": [
                {
                    "name": "stdout",
                    "output_type": "stream",
                    "text": [
                        "Numerator (6 * sum_d2): 0\n",
                        "Denominator (n * (n^2 - 1)): 120\n",
                        "Spearman's Rho (ρ): 1.0000\n"
                    ]
                }
            ],
            "source": [
                "numerator = 6 * sum_d2\n",
                "denominator = n * (n**2 - 1)\n",
                "rho = 1 - (numerator / denominator)\n",
                "\n",
                "print(f\"Numerator (6 * sum_d2): {numerator}\")\n",
                "print(f\"Denominator (n * (n^2 - 1)): {denominator}\")\n",
                "print(f\"Spearman's Rho (ρ): {rho:.4f}\")"
            ]
        },
        {
            "cell_type": "markdown",
            "id": "fbd5859f",
            "metadata": {},
            "source": [
                "#### Using Scipy\n"
            ]
        },
        {
            "cell_type": "code",
            "execution_count": null,
            "id": "477eb7c2",
            "metadata": {},
            "outputs": [
                {
                    "name": "stdout",
                    "output_type": "stream",
                    "text": [
                        "Spearman Correlation (rho): 1.0000\n",
                        "P-value: 0.0000\n"
                    ]
                }
            ],
            "source": [
                "X = [10, 2, 8, 1, 5]\n",
                "Y = [90, 50, 85, 40, 70]\n",
                "\n",
                "correlation, p_value = spearmanr(X, Y)\n",
                "\n",
                "print(f\"Spearman Correlation (rho): {correlation:.4f}\")\n",
                "print(f\"P-value: {p_value:.4f}\")"
            ]
        },
        {
            "cell_type": "markdown",
            "id": "e2d7e88e",
            "metadata": {},
            "source": [
                "### Using Pandas\n"
            ]
        },
        {
            "cell_type": "code",
            "execution_count": null,
            "id": "48a35c58",
            "metadata": {},
            "outputs": [
                {
                    "name": "stdout",
                    "output_type": "stream",
                    "text": [
                        "Pearson Correlation Matrix:\n",
                        "           X         Y         Z\n",
                        "X  1.000000 -0.364662  0.300000\n",
                        "Y -0.364662  1.000000 -0.364662\n",
                        "Z  0.300000 -0.364662  1.000000\n",
                        "\n",
                        "Spearman Correlation Matrix:\n",
                        "      X    Y    Z\n",
                        "X  1.0 -0.5  0.3\n",
                        "Y -0.5  1.0 -0.4\n",
                        "Z  0.3 -0.4  1.0\n"
                    ]
                }
            ],
            "source": [
                "import pandas as pd\n",
                "\n",
                "df = pd.DataFrame(\n",
                "    {\n",
                "        \"X\": [1, 2, 3, 4, 5],\n",
                "        \"Y\": [90, 50, 85, 40, 70],\n",
                "        \"Z\": [1, 5, 3, 2, 4],\n",
                "    }\n",
                ")\n",
                "\n",
                "pearson_matrix = df.corr(method=\"pearson\")\n",
                "\n",
                "spearman_matrix = df.corr(method=\"spearman\")\n",
                "\n",
                "print(\"Pearson Correlation Matrix:\\n\", pearson_matrix)\n",
                "print(\"\\nSpearman Correlation Matrix:\\n\", spearman_matrix)"
            ]
        },
        {
            "cell_type": "markdown",
            "id": "cc64f54a",
            "metadata": {},
            "source": [
                "## Usage\n",
                "\n",
                "It can be applied in machine learning on feature selection step. The more closer to 0 the correlation is, the less relevant the feature is.\n"
            ]
        }
    ],
    "metadata": {
        "kernelspec": {
            "display_name": "uv-3.12",
            "language": "python",
            "name": "uv-3.12"
        },
        "language_info": {
            "codemirror_mode": {
                "name": "ipython",
                "version": 3
            },
            "file_extension": ".py",
            "mimetype": "text/x-python",
            "name": "python",
            "nbconvert_exporter": "python",
            "pygments_lexer": "ipython3",
            "version": "3.12.6"
        }
    },
    "nbformat": 4,
    "nbformat_minor": 5
}

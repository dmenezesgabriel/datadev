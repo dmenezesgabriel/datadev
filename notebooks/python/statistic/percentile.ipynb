{
 "cells": [
  {
   "cell_type": "markdown",
   "id": "ff96fc87",
   "metadata": {},
   "source": [
    "# Percentile\n"
   ]
  },
  {
   "cell_type": "markdown",
   "id": "18b0d43c",
   "metadata": {},
   "source": [
    "## Concept\n",
    "\n",
    "$R = \\text{Ceiling}\\left(\\frac{k}{100} \\cdot N\\right)$\n",
    "\n",
    "- $R$: Rank\n",
    "- $k$: Desired percentile\n",
    "- $N$: Total number of points\n",
    "- $Ceiling(x)$: The smallest integer greater or equal to $x$\n"
   ]
  },
  {
   "cell_type": "code",
   "execution_count": null,
   "id": "dcf9699e",
   "metadata": {},
   "outputs": [],
   "source": [
    "import math\n",
    "\n",
    "from IPython.display import Markdown, display"
   ]
  },
  {
   "cell_type": "markdown",
   "id": "a3ef721d",
   "metadata": {},
   "source": [
    "The sample data\n"
   ]
  },
  {
   "cell_type": "code",
   "execution_count": null,
   "id": "908c9264",
   "metadata": {},
   "outputs": [
    {
     "data": {
      "text/plain": [
       "[40, 5, 5, 20, 25, 25, 30, 45, 45, 50, 55]"
      ]
     },
     "execution_count": 3,
     "metadata": {},
     "output_type": "execute_result"
    }
   ],
   "source": [
    "data = [40, 5, 5, 20, 25, 25, 30, 45, 45, 50, 55]\n",
    "data"
   ]
  },
  {
   "cell_type": "markdown",
   "id": "a5053056",
   "metadata": {},
   "source": [
    "Sort the data\n"
   ]
  },
  {
   "cell_type": "code",
   "execution_count": null,
   "id": "0a8b9a1a",
   "metadata": {},
   "outputs": [
    {
     "data": {
      "text/plain": [
       "[5, 5, 20, 25, 25, 30, 40, 45, 45, 50, 55]"
      ]
     },
     "execution_count": 5,
     "metadata": {},
     "output_type": "execute_result"
    }
   ],
   "source": [
    "sorted_data = sorted(data)\n",
    "sorted_data"
   ]
  },
  {
   "cell_type": "markdown",
   "id": "848c88c0",
   "metadata": {},
   "source": [
    "Define the desired percentile\n"
   ]
  },
  {
   "cell_type": "code",
   "execution_count": null,
   "id": "07289bf4",
   "metadata": {},
   "outputs": [],
   "source": [
    "N = len(sorted_data)\n",
    "k = 75"
   ]
  },
  {
   "cell_type": "markdown",
   "id": "68521445",
   "metadata": {},
   "source": [
    "Calculate the rank R\n"
   ]
  },
  {
   "cell_type": "code",
   "execution_count": null,
   "id": "f8fe183f",
   "metadata": {},
   "outputs": [
    {
     "data": {
      "text/plain": [
       "9"
      ]
     },
     "execution_count": 12,
     "metadata": {},
     "output_type": "execute_result"
    }
   ],
   "source": [
    "rank_float = (k / 100) * N\n",
    "R = math.ceil(rank_float)\n",
    "R"
   ]
  },
  {
   "cell_type": "markdown",
   "id": "74de7710",
   "metadata": {},
   "source": [
    "Get the value at rank R (0-based index is R-1)\n"
   ]
  },
  {
   "cell_type": "code",
   "execution_count": null,
   "id": "b858065e",
   "metadata": {},
   "outputs": [
    {
     "name": "stdout",
     "output_type": "stream",
     "text": [
      "    0 |    1th |     5\n",
      "    1 |    2th |     5\n",
      "    2 |    3th |    20\n",
      "    3 |    4th |    25\n",
      "    4 |    5th |    25\n",
      "    5 |    6th |    30\n",
      "    6 |    7th |    40\n",
      "    7 |    8th |    45\n",
      "    8 |    9th |    45\n",
      "    9 |   10th |    50\n",
      "   10 |   11th |    55\n",
      "\n",
      "Result:\n",
      "75th Percentile (Value at Rank 9): 45\n"
     ]
    }
   ],
   "source": [
    "for index, number in enumerate(sorted_data):\n",
    "    print(f\"{index:5d} | {index + 1:4d}th | {number:5d}\")\n",
    "\n",
    "percentile_value = sorted_data[int(R) - 1]\n",
    "\n",
    "print(\"\\nResult:\")\n",
    "print(f\"{k}th Percentile (Value at Rank {R}): {percentile_value}\")"
   ]
  },
  {
   "cell_type": "markdown",
   "id": "8e8563df",
   "metadata": {},
   "source": [
    "The result means that 75% of the entire distribution is _less_ than 45\n"
   ]
  },
  {
   "cell_type": "markdown",
   "id": "923d111d",
   "metadata": {},
   "source": [
    "## Quartile\n",
    "\n",
    "Quartile means a quarter\n",
    "\n",
    "- $1^{st}$: 25%\n",
    "- $2^{nd}$: 50%\n",
    "- $3^{rd}$: 75%\n"
   ]
  }
 ],
 "metadata": {
  "kernelspec": {
   "display_name": "uv-3.12",
   "language": "python",
   "name": "uv-3.12"
  },
  "language_info": {
   "codemirror_mode": {
    "name": "ipython",
    "version": 3
   },
   "file_extension": ".py",
   "mimetype": "text/x-python",
   "name": "python",
   "nbconvert_exporter": "python",
   "pygments_lexer": "ipython3",
   "version": "3.12.6"
  }
 },
 "nbformat": 4,
 "nbformat_minor": 5
}

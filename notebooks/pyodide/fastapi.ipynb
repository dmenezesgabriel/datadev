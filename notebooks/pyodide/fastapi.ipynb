{
  "metadata": {
    "kernelspec": {
      "name": "python",
      "display_name": "Python (Pyodide)",
      "language": "python"
    },
    "language_info": {
      "codemirror_mode": {
        "name": "python",
        "version": 3
      },
      "file_extension": ".py",
      "mimetype": "text/x-python",
      "name": "python",
      "nbconvert_exporter": "python",
      "pygments_lexer": "ipython3",
      "version": "3.8"
    }
  },
  "nbformat_minor": 5,
  "nbformat": 4,
  "cells": [
    {
      "id": "37161b9a-a75c-49ce-8439-ef9a8bdc242e",
      "cell_type": "code",
      "source": "%pip install fastapi SQLAlchemy sqlite3 aiosqlite databases",
      "metadata": {
        "trusted": true
      },
      "outputs": [],
      "execution_count": 35
    },
    {
      "id": "dea244d8-b142-437d-a39b-19555fe80f8c",
      "cell_type": "code",
      "source": "from fastapi import FastAPI, HTTPException\nfrom pydantic import BaseModel\nfrom sqlalchemy import create_engine, Table, Column, Integer, String, MetaData\nfrom sqlalchemy.orm import sessionmaker",
      "metadata": {
        "trusted": true
      },
      "outputs": [],
      "execution_count": 36
    },
    {
      "id": "4e1c35a0-7fa6-4b05-a49f-c1d6b5f08870",
      "cell_type": "code",
      "source": "engine = create_engine(\"sqlite:///:memory:\", echo=False)\nmetadata = MetaData()\n\nusers_table = Table(\n    \"users\",\n    metadata,\n    Column(\"id\", Integer, primary_key=True),\n    Column(\"name\", String),\n)\n\nmetadata.create_all(engine)\nSessionLocal = sessionmaker(bind=engine)",
      "metadata": {
        "trusted": true
      },
      "outputs": [],
      "execution_count": 37
    },
    {
      "id": "c5421afc-105b-4743-b4c2-3960b94ce1bc",
      "cell_type": "code",
      "source": "app = FastAPI()\n\nclass User(BaseModel):\n    name: str\n\n@app.get(\"/users\")\nasync def get_users():\n    session = SessionLocal()\n    rows = session.query(users_table).all()\n    session.close()\n    return [{\"id\": r.id, \"name\": r.name} for r in rows]\n\n@app.post(\"/users\")\nasync def add_user(user: User):\n    session = SessionLocal()\n    row = users_table.insert().values(name=user.name)\n    result = session.execute(row)\n    session.commit()\n    session.close()\n    return {\"id\": result.lastrowid, \"name\": user.name}",
      "metadata": {
        "trusted": true
      },
      "outputs": [],
      "execution_count": 38
    },
    {
      "id": "359ea8a7-59c7-430b-b0fc-c8a541408e47",
      "cell_type": "code",
      "source": "import json\n\nasync def call_asgi(app, path, method=\"GET\", body=None):\n    response = {\"status\": None, \"headers\": None, \"body\": None}\n\n    scope = {\n        \"type\": \"http\",\n        \"method\": method,\n        \"path\": path,\n        \"raw_path\": path.encode(),\n        \"query_string\": b\"\",\n        \"headers\": [],\n    }\n\n    messages = []\n\n    async def receive():\n        return {\n            \"type\": \"http.request\",\n            \"body\": body or b\"\",\n            \"more_body\": False\n        }\n\n    async def send(message):\n        if message[\"type\"] == \"http.response.start\":\n            response[\"status\"] = message[\"status\"]\n            response[\"headers\"] = message[\"headers\"]\n        elif message[\"type\"] == \"http.response.body\":\n            response[\"body\"] = message.get(\"body\", b\"\")\n\n    await app(scope, receive, send)\n    # decode body if JSON\n    try:\n        response[\"body\"] = json.loads(response[\"body\"].decode())\n    except Exception:\n        pass\n    return response\n",
      "metadata": {
        "trusted": true
      },
      "outputs": [],
      "execution_count": 39
    },
    {
      "id": "820f69ab-1591-4a50-8225-f9c865ccc548",
      "cell_type": "code",
      "source": "# GET users (should be empty)\nresp = await call_asgi(app, \"/users\")\nprint(resp)\n\n# POST a new user\nresp = await call_asgi(app, \"/users\", method=\"POST\", body=b'{\"name\":\"Alice\"}')\nprint(resp)\n\n# GET users again\nresp = await call_asgi(app, \"/users\")\nprint(resp)",
      "metadata": {
        "trusted": true
      },
      "outputs": [
        {
          "name": "stdout",
          "output_type": "stream",
          "text": "{'status': 200, 'headers': [(b'content-length', b'2'), (b'content-type', b'application/json')], 'body': []}\n{'status': 200, 'headers': [(b'content-length', b'23'), (b'content-type', b'application/json')], 'body': {'id': 1, 'name': 'Alice'}}\n{'status': 200, 'headers': [(b'content-length', b'25'), (b'content-type', b'application/json')], 'body': [{'id': 1, 'name': 'Alice'}]}\n"
        }
      ],
      "execution_count": 40
    }
  ]
}
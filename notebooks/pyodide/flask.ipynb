{
  "metadata": {
    "kernelspec": {
      "name": "python",
      "display_name": "Python (Pyodide)",
      "language": "python"
    },
    "language_info": {
      "codemirror_mode": {
        "name": "python",
        "version": 3
      },
      "file_extension": ".py",
      "mimetype": "text/x-python",
      "name": "python",
      "nbconvert_exporter": "python",
      "pygments_lexer": "ipython3",
      "version": "3.8"
    }
  },
  "nbformat_minor": 5,
  "nbformat": 4,
  "cells": [
    {
      "id": "0fa320ed-d9b3-486b-90a1-781c54567c0a",
      "cell_type": "code",
      "source": "%pip install flask SQLAlchemy sqlite3",
      "metadata": {
        "trusted": true
      },
      "outputs": [],
      "execution_count": 1
    },
    {
      "id": "fc4b90eb-d084-4f7f-8d4f-7f0ff50b5675",
      "cell_type": "code",
      "source": "from flask import Flask, request, jsonify \nfrom sqlalchemy import create_engine, Column, Integer, String\nfrom sqlalchemy.orm import declarative_base, sessionmaker",
      "metadata": {
        "trusted": true
      },
      "outputs": [],
      "execution_count": 2
    },
    {
      "id": "68325cea-1f84-4ba8-91e9-504796a9eaac",
      "cell_type": "code",
      "source": "engine = create_engine(\"sqlite:///:memory:\", echo=False)\nBase = declarative_base()\nSessionLocal = sessionmaker(bind=engine)",
      "metadata": {
        "trusted": true
      },
      "outputs": [],
      "execution_count": 3
    },
    {
      "id": "b91b1250-869a-4346-8e35-cc22e2973fde",
      "cell_type": "code",
      "source": "class User(Base):\n    __tablename__ = \"users\"\n    id = Column(Integer, primary_key=True)\n    name = Column(String, unique=True, nullable=False)\n\nBase.metadata.create_all(engine)",
      "metadata": {
        "trusted": true
      },
      "outputs": [],
      "execution_count": 4
    },
    {
      "id": "75190b9a-eb63-4688-9d37-0aab94f33791",
      "cell_type": "code",
      "source": "app = Flask(__name__)\n\n@app.route(\"/\")\ndef hello_world():\n    return \"<p>Hello, World!</p>\"\n\n@app.route(\"/users\", methods=[\"GET\", \"POST\"])\ndef users():\n    session = SessionLocal()\n    if request.method == \"POST\":\n        data = request.get_json(force=True)\n        user = User(name=data[\"name\"])\n        session.add(user)\n        session.commit()\n        return jsonify({\"message\": f\"User {user.name} added!\", \"id\": user.id})\n    else:  # GET\n        all_users = session.query(User).all()\n        return jsonify([{\"id\": u.id, \"name\": u.name} for u in all_users])",
      "metadata": {
        "trusted": true
      },
      "outputs": [],
      "execution_count": 5
    },
    {
      "id": "3c3e2237-549e-4463-b191-8ebdc87a253b",
      "cell_type": "code",
      "source": "import io\nfrom werkzeug.test import EnvironBuilder\nfrom werkzeug.wrappers import Request\n\ndef call_wsgi(app, path=\"/\", method=\"GET\", json=None):\n    builder = EnvironBuilder(path=path, method=method)\n    if json:\n        import json as pyjson\n        data = pyjson.dumps(json)\n        builder.input_stream = io.BytesIO(data.encode(\"utf-8\"))\n        builder.headers[\"Content-Type\"] = \"application/json\"\n        builder.headers[\"Content-Length\"] = str(len(data))\n    env = builder.get_environ()\n\n    response = []\n    def start_response(status, headers, exc_info=None):\n        response.append(status)\n        response.append(headers)\n\n    result = app(env, start_response)\n    body = b\"\".join(result).decode(\"utf-8\")\n    status, headers = response[0], dict(response[1])\n    return status, headers, body\n",
      "metadata": {
        "trusted": true
      },
      "outputs": [],
      "execution_count": 6
    },
    {
      "id": "95d3ff35-b03c-488d-9772-c024ee231db8",
      "cell_type": "code",
      "source": "# Call hello route\nprint(call_wsgi(app, \"/\"))\n\n# Add a user\nprint(call_wsgi(app, \"/users\", method=\"POST\", json={\"name\": \"Alice\"}))\n\n# Add another\nprint(call_wsgi(app, \"/users\", method=\"POST\", json={\"name\": \"Bob\"}))\n\n# List users\nprint(call_wsgi(app, \"/users\", method=\"GET\"))\n",
      "metadata": {
        "trusted": true
      },
      "outputs": [
        {
          "name": "stdout",
          "output_type": "stream",
          "text": "('200 OK', {'Content-Type': 'text/html; charset=utf-8', 'Content-Length': '20'}, '<p>Hello, World!</p>')\n('200 OK', {'Content-Type': 'application/json', 'Content-Length': '39'}, '{\"id\":1,\"message\":\"User Alice added!\"}\\n')\n('200 OK', {'Content-Type': 'application/json', 'Content-Length': '37'}, '{\"id\":2,\"message\":\"User Bob added!\"}\\n')\n('200 OK', {'Content-Type': 'application/json', 'Content-Length': '48'}, '[{\"id\":1,\"name\":\"Alice\"},{\"id\":2,\"name\":\"Bob\"}]\\n')\n"
        }
      ],
      "execution_count": 7
    }
  ]
}
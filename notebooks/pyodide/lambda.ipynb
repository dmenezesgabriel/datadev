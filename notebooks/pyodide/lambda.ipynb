{
  "metadata": {
    "kernelspec": {
      "name": "python",
      "display_name": "Python (Pyodide)",
      "language": "python"
    },
    "language_info": {
      "codemirror_mode": {
        "name": "python",
        "version": 3
      },
      "file_extension": ".py",
      "mimetype": "text/x-python",
      "name": "python",
      "nbconvert_exporter": "python",
      "pygments_lexer": "ipython3",
      "version": "3.8"
    }
  },
  "nbformat_minor": 5,
  "nbformat": 4,
  "cells": [
    {
      "id": "14fba06c-018f-42ff-8de2-c2e6e3bcea12",
      "cell_type": "code",
      "source": "import time\nimport uuid\n\n# Simulate AWS Lambda Context\nclass Context:\n    def __init__(self, timeout_ms=3000):\n        self.function_name = \"my_lambda_function\"\n        self.memory_limit_in_mb = 128\n        self.invoked_function_arn = \"arn:aws:lambda:us-east-1:123456789012:function:my_lambda_function\"\n        self.aws_request_id = str(uuid.uuid4())\n        self._start_time = time.time()\n        self._timeout_ms = timeout_ms\n\n    def get_remaining_time_in_millis(self):\n        elapsed_ms = (time.time() - self._start_time) * 1000\n        return max(0, self._timeout_ms - elapsed_ms)\n\n# Simulate lambda_local.call\ndef call(handler, event, context):\n    try:\n        result = handler(event, context)\n        return result\n    except Exception as e:\n        print(\"Handler raised an exception:\", e)\n        raise\n\n# Example usage\nevent = {\"answer\": 42}\ncontext = Context(timeout_ms=5000)\n\ndef handler(event, context):\n    print(\"Event:\", event)\n    print(\"Function name:\", context.function_name)\n    print(\"Request ID:\", context.aws_request_id)\n    print(\"Memory limit (MB):\", context.memory_limit_in_mb)\n    print(\"Remaining time (ms):\", context.get_remaining_time_in_millis())\n    return {\"status\": \"ok\"}\n\nresult = call(handler, event, context)\nprint(\"Handler returned:\", result)\n",
      "metadata": {
        "trusted": true
      },
      "outputs": [
        {
          "name": "stdout",
          "output_type": "stream",
          "text": "Event: {'answer': 42}\nFunction name: my_lambda_function\nRequest ID: 1433fcb5-6f2c-4f00-9216-115a56cbd453\nMemory limit (MB): 128\nRemaining time (ms): 4996.000051498413\nHandler returned: {'status': 'ok'}\n"
        }
      ],
      "execution_count": 9
    }
  ]
}
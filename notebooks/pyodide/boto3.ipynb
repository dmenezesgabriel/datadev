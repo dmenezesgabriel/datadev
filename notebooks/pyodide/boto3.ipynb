{
  "metadata": {
    "kernelspec": {
      "name": "python",
      "display_name": "Python (Pyodide)",
      "language": "python"
    },
    "language_info": {
      "codemirror_mode": {
        "name": "python",
        "version": 3
      },
      "file_extension": ".py",
      "mimetype": "text/x-python",
      "name": "python",
      "nbconvert_exporter": "python",
      "pygments_lexer": "ipython3",
      "version": "3.8"
    }
  },
  "nbformat_minor": 5,
  "nbformat": 4,
  "cells": [
    {
      "id": "4cd77af3-2e12-43b3-9439-7386e0dfdd85",
      "cell_type": "code",
      "source": "%pip install boto3 'moto[all]' pytest ipytest",
      "metadata": {
        "trusted": true
      },
      "outputs": [],
      "execution_count": 32
    },
    {
      "id": "285b9ed7-8823-42d1-ab4e-c197da88e7e6",
      "cell_type": "code",
      "source": "import boto3\nfrom moto import mock_aws\nimport pytest\nimport ipytest\n\nipytest.autoconfig()\n# --- Your model ---\nclass MyModel:\n    def __init__(self, name, value):\n        self.name = name\n        self.value = value\n\n    def save(self):\n        s3 = boto3.client(\"s3\", region_name=\"us-east-1\")\n        s3.put_object(Bucket=\"mybucket\", Key=self.name, Body=self.value)\n\n# --- Test using Moto ---\n@mock_aws\ndef test_my_model_save():\n    # Create a bucket in the in-memory Moto S3\n    client = boto3.client(\"s3\", region_name=\"us-east-1\")\n    client.create_bucket(Bucket=\"mybucket\")\n\n    # Instantiate your model and save\n    model_instance = MyModel(\"steve\", \"is awesome\")\n    model_instance.save()\n\n    # Retrieve the object from the mock S3\n    body = client.get_object(Bucket=\"mybucket\", Key=\"steve\")[\"Body\"].read().decode(\"utf-8\")\n    assert body == \"is awesome\"\n    print(\"Test passed! Object in mock S3:\", body)\n\n# --- Run pytest manually in the notebook ---\nif __name__ == \"__main__\":\n    # This runs all pytest functions in this module\n    ipytest.run()\n",
      "metadata": {
        "trusted": true
      },
      "outputs": [
        {
          "name": "stdout",
          "output_type": "stream",
          "text": "\u001b[32m.\u001b[0m\u001b[32m                                                                                            [100%]\u001b[0m\n\u001b[32m\u001b[32m\u001b[1m1 passed\u001b[0m\u001b[32m in 1.81s\u001b[0m\u001b[0m\n"
        }
      ],
      "execution_count": 37
    },
    {
      "id": "b34ad60e-5228-4003-a339-fae7f6e95098",
      "cell_type": "code",
      "source": "import unittest\nimport boto3\nfrom moto import mock_aws\n\nclass TestMyModel(unittest.TestCase):\n\n    @mock_aws\n    def test_save(self):\n        s3 = boto3.client(\"s3\", region_name=\"us-east-1\")\n        s3.create_bucket(Bucket=\"mybucket\")\n        s3.put_object(Bucket=\"mybucket\", Key=\"steve\", Body=\"is awesome\")\n\n        body = s3.get_object(Bucket=\"mybucket\", Key=\"steve\")[\"Body\"].read().decode()\n        self.assertEqual(body, \"is awesome\")\n        print(\"Test passed!\")\n\n# Run unittest manually in notebook\nunittest.main(argv=[''], verbosity=2, exit=False)",
      "metadata": {
        "trusted": true
      },
      "outputs": [
        {
          "name": "stderr",
          "output_type": "stream",
          "text": "test_save (__main__.TestMyModel.test_save) ... "
        },
        {
          "name": "stdout",
          "output_type": "stream",
          "text": "Test passed!\n"
        },
        {
          "name": "stderr",
          "output_type": "stream",
          "text": "ok\n\n----------------------------------------------------------------------\nRan 1 test in 0.869s\n\nOK\n"
        },
        {
          "execution_count": 38,
          "output_type": "execute_result",
          "data": {
            "text/plain": "<unittest.main.TestProgram at 0x4696e80>"
          },
          "metadata": {}
        }
      ],
      "execution_count": 38
    }
  ]
}
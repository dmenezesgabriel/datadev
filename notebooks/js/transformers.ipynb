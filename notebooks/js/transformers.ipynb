{
  "metadata": {
    "kernelspec": {
      "name": "xjavascript",
      "display_name": "JavaScript (xjavascript)",
      "language": "javascript"
    },
    "language_info": {
      "codemirror_mode": "",
      "file_extension": "js",
      "mimetype": "text/x-javascript",
      "name": "javascript",
      "nbconvert_exporter": "",
      "pygments_lexer": "",
      "version": "ES6"
    }
  },
  "nbformat_minor": 5,
  "nbformat": 4,
  "cells": [
    {
      "id": "92cbc305-c11d-4370-a721-22e5bb46c616",
      "cell_type": "code",
      "source": "import { pipeline } from 'https://cdn.jsdelivr.net/npm/@huggingface/transformers@3.3.2/+esm';\n\n// Allocate a pipeline for sentiment-analysis\nconst pipe = await pipeline('sentiment-analysis');\n\nconst out = await pipe('I love transformers!');\n// [{'label': 'POSITIVE', 'score': 0.999817686}]\n\npprint(out)",
      "metadata": {
        "trusted": true
      },
      "outputs": [
        {
          "name": "stdout",
          "output_type": "stream",
          "text": "No model specified. Using default model: \"Xenova/distilbert-base-uncased-finetuned-sst-2-english\".\n[\n  {\n    \"label\": \"POSITIVE\",\n    \"score\": 0.999788761138916\n  }\n]\n"
        },
        {
          "execution_count": 42,
          "output_type": "execute_result",
          "data": {},
          "metadata": {}
        }
      ],
      "execution_count": 42
    }
  ]
}